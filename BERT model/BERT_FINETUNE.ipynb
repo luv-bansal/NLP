{
  "nbformat": 4,
  "nbformat_minor": 0,
  "metadata": {
    "colab": {
      "name": "BERT_FINETUNE.ipynb",
      "provenance": []
    },
    "kernelspec": {
      "name": "python3",
      "display_name": "Python 3"
    },
    "accelerator": "GPU",
    "widgets": {
      "application/vnd.jupyter.widget-state+json": {
        "be03de925ca8410d9bb1bc910e790bb4": {
          "model_module": "@jupyter-widgets/controls",
          "model_name": "HBoxModel",
          "state": {
            "_view_name": "HBoxView",
            "_dom_classes": [],
            "_model_name": "HBoxModel",
            "_view_module": "@jupyter-widgets/controls",
            "_model_module_version": "1.5.0",
            "_view_count": null,
            "_view_module_version": "1.5.0",
            "box_style": "",
            "layout": "IPY_MODEL_e7d090c5208c4ca290ee2ec7fa3f2278",
            "_model_module": "@jupyter-widgets/controls",
            "children": [
              "IPY_MODEL_759d09c3a45544e3a91c60b2e907f141",
              "IPY_MODEL_48fa982e04174d6f87cd1862d3a22d43"
            ]
          }
        },
        "e7d090c5208c4ca290ee2ec7fa3f2278": {
          "model_module": "@jupyter-widgets/base",
          "model_name": "LayoutModel",
          "state": {
            "_view_name": "LayoutView",
            "grid_template_rows": null,
            "right": null,
            "justify_content": null,
            "_view_module": "@jupyter-widgets/base",
            "overflow": null,
            "_model_module_version": "1.2.0",
            "_view_count": null,
            "flex_flow": null,
            "width": null,
            "min_width": null,
            "border": null,
            "align_items": null,
            "bottom": null,
            "_model_module": "@jupyter-widgets/base",
            "top": null,
            "grid_column": null,
            "overflow_y": null,
            "overflow_x": null,
            "grid_auto_flow": null,
            "grid_area": null,
            "grid_template_columns": null,
            "flex": null,
            "_model_name": "LayoutModel",
            "justify_items": null,
            "grid_row": null,
            "max_height": null,
            "align_content": null,
            "visibility": null,
            "align_self": null,
            "height": null,
            "min_height": null,
            "padding": null,
            "grid_auto_rows": null,
            "grid_gap": null,
            "max_width": null,
            "order": null,
            "_view_module_version": "1.2.0",
            "grid_template_areas": null,
            "object_position": null,
            "object_fit": null,
            "grid_auto_columns": null,
            "margin": null,
            "display": null,
            "left": null
          }
        },
        "759d09c3a45544e3a91c60b2e907f141": {
          "model_module": "@jupyter-widgets/controls",
          "model_name": "FloatProgressModel",
          "state": {
            "_view_name": "ProgressView",
            "style": "IPY_MODEL_b9a71dc609294dcd87933894243d990b",
            "_dom_classes": [],
            "description": "Downloading: 100%",
            "_model_name": "FloatProgressModel",
            "bar_style": "success",
            "max": 433,
            "_view_module": "@jupyter-widgets/controls",
            "_model_module_version": "1.5.0",
            "value": 433,
            "_view_count": null,
            "_view_module_version": "1.5.0",
            "orientation": "horizontal",
            "min": 0,
            "description_tooltip": null,
            "_model_module": "@jupyter-widgets/controls",
            "layout": "IPY_MODEL_59f2dc81a1ec4d4d96cd0a15547c590f"
          }
        },
        "48fa982e04174d6f87cd1862d3a22d43": {
          "model_module": "@jupyter-widgets/controls",
          "model_name": "HTMLModel",
          "state": {
            "_view_name": "HTMLView",
            "style": "IPY_MODEL_d6ec1fc9d08c42439f71eb995af065fb",
            "_dom_classes": [],
            "description": "",
            "_model_name": "HTMLModel",
            "placeholder": "​",
            "_view_module": "@jupyter-widgets/controls",
            "_model_module_version": "1.5.0",
            "value": " 433/433 [00:00&lt;00:00, 1.88kB/s]",
            "_view_count": null,
            "_view_module_version": "1.5.0",
            "description_tooltip": null,
            "_model_module": "@jupyter-widgets/controls",
            "layout": "IPY_MODEL_950d36ba7009435789c9519a696e75a7"
          }
        },
        "b9a71dc609294dcd87933894243d990b": {
          "model_module": "@jupyter-widgets/controls",
          "model_name": "ProgressStyleModel",
          "state": {
            "_view_name": "StyleView",
            "_model_name": "ProgressStyleModel",
            "description_width": "initial",
            "_view_module": "@jupyter-widgets/base",
            "_model_module_version": "1.5.0",
            "_view_count": null,
            "_view_module_version": "1.2.0",
            "bar_color": null,
            "_model_module": "@jupyter-widgets/controls"
          }
        },
        "59f2dc81a1ec4d4d96cd0a15547c590f": {
          "model_module": "@jupyter-widgets/base",
          "model_name": "LayoutModel",
          "state": {
            "_view_name": "LayoutView",
            "grid_template_rows": null,
            "right": null,
            "justify_content": null,
            "_view_module": "@jupyter-widgets/base",
            "overflow": null,
            "_model_module_version": "1.2.0",
            "_view_count": null,
            "flex_flow": null,
            "width": null,
            "min_width": null,
            "border": null,
            "align_items": null,
            "bottom": null,
            "_model_module": "@jupyter-widgets/base",
            "top": null,
            "grid_column": null,
            "overflow_y": null,
            "overflow_x": null,
            "grid_auto_flow": null,
            "grid_area": null,
            "grid_template_columns": null,
            "flex": null,
            "_model_name": "LayoutModel",
            "justify_items": null,
            "grid_row": null,
            "max_height": null,
            "align_content": null,
            "visibility": null,
            "align_self": null,
            "height": null,
            "min_height": null,
            "padding": null,
            "grid_auto_rows": null,
            "grid_gap": null,
            "max_width": null,
            "order": null,
            "_view_module_version": "1.2.0",
            "grid_template_areas": null,
            "object_position": null,
            "object_fit": null,
            "grid_auto_columns": null,
            "margin": null,
            "display": null,
            "left": null
          }
        },
        "d6ec1fc9d08c42439f71eb995af065fb": {
          "model_module": "@jupyter-widgets/controls",
          "model_name": "DescriptionStyleModel",
          "state": {
            "_view_name": "StyleView",
            "_model_name": "DescriptionStyleModel",
            "description_width": "",
            "_view_module": "@jupyter-widgets/base",
            "_model_module_version": "1.5.0",
            "_view_count": null,
            "_view_module_version": "1.2.0",
            "_model_module": "@jupyter-widgets/controls"
          }
        },
        "950d36ba7009435789c9519a696e75a7": {
          "model_module": "@jupyter-widgets/base",
          "model_name": "LayoutModel",
          "state": {
            "_view_name": "LayoutView",
            "grid_template_rows": null,
            "right": null,
            "justify_content": null,
            "_view_module": "@jupyter-widgets/base",
            "overflow": null,
            "_model_module_version": "1.2.0",
            "_view_count": null,
            "flex_flow": null,
            "width": null,
            "min_width": null,
            "border": null,
            "align_items": null,
            "bottom": null,
            "_model_module": "@jupyter-widgets/base",
            "top": null,
            "grid_column": null,
            "overflow_y": null,
            "overflow_x": null,
            "grid_auto_flow": null,
            "grid_area": null,
            "grid_template_columns": null,
            "flex": null,
            "_model_name": "LayoutModel",
            "justify_items": null,
            "grid_row": null,
            "max_height": null,
            "align_content": null,
            "visibility": null,
            "align_self": null,
            "height": null,
            "min_height": null,
            "padding": null,
            "grid_auto_rows": null,
            "grid_gap": null,
            "max_width": null,
            "order": null,
            "_view_module_version": "1.2.0",
            "grid_template_areas": null,
            "object_position": null,
            "object_fit": null,
            "grid_auto_columns": null,
            "margin": null,
            "display": null,
            "left": null
          }
        },
        "c635834dd49f4df3897af3caf987eec7": {
          "model_module": "@jupyter-widgets/controls",
          "model_name": "HBoxModel",
          "state": {
            "_view_name": "HBoxView",
            "_dom_classes": [],
            "_model_name": "HBoxModel",
            "_view_module": "@jupyter-widgets/controls",
            "_model_module_version": "1.5.0",
            "_view_count": null,
            "_view_module_version": "1.5.0",
            "box_style": "",
            "layout": "IPY_MODEL_2d0a0ab0407749b0bb129c4bcf4e9759",
            "_model_module": "@jupyter-widgets/controls",
            "children": [
              "IPY_MODEL_97ebf90dd58e418c96df6aabd9c87871",
              "IPY_MODEL_3dd0943389ef49d3a42e73c408bd46a7"
            ]
          }
        },
        "2d0a0ab0407749b0bb129c4bcf4e9759": {
          "model_module": "@jupyter-widgets/base",
          "model_name": "LayoutModel",
          "state": {
            "_view_name": "LayoutView",
            "grid_template_rows": null,
            "right": null,
            "justify_content": null,
            "_view_module": "@jupyter-widgets/base",
            "overflow": null,
            "_model_module_version": "1.2.0",
            "_view_count": null,
            "flex_flow": null,
            "width": null,
            "min_width": null,
            "border": null,
            "align_items": null,
            "bottom": null,
            "_model_module": "@jupyter-widgets/base",
            "top": null,
            "grid_column": null,
            "overflow_y": null,
            "overflow_x": null,
            "grid_auto_flow": null,
            "grid_area": null,
            "grid_template_columns": null,
            "flex": null,
            "_model_name": "LayoutModel",
            "justify_items": null,
            "grid_row": null,
            "max_height": null,
            "align_content": null,
            "visibility": null,
            "align_self": null,
            "height": null,
            "min_height": null,
            "padding": null,
            "grid_auto_rows": null,
            "grid_gap": null,
            "max_width": null,
            "order": null,
            "_view_module_version": "1.2.0",
            "grid_template_areas": null,
            "object_position": null,
            "object_fit": null,
            "grid_auto_columns": null,
            "margin": null,
            "display": null,
            "left": null
          }
        },
        "97ebf90dd58e418c96df6aabd9c87871": {
          "model_module": "@jupyter-widgets/controls",
          "model_name": "FloatProgressModel",
          "state": {
            "_view_name": "ProgressView",
            "style": "IPY_MODEL_c1278cd7c15a4c9c8ea457d0688c5f58",
            "_dom_classes": [],
            "description": "Downloading: 100%",
            "_model_name": "FloatProgressModel",
            "bar_style": "success",
            "max": 440473133,
            "_view_module": "@jupyter-widgets/controls",
            "_model_module_version": "1.5.0",
            "value": 440473133,
            "_view_count": null,
            "_view_module_version": "1.5.0",
            "orientation": "horizontal",
            "min": 0,
            "description_tooltip": null,
            "_model_module": "@jupyter-widgets/controls",
            "layout": "IPY_MODEL_184707e668fa48e2ae15a087f06935bf"
          }
        },
        "3dd0943389ef49d3a42e73c408bd46a7": {
          "model_module": "@jupyter-widgets/controls",
          "model_name": "HTMLModel",
          "state": {
            "_view_name": "HTMLView",
            "style": "IPY_MODEL_36f834f37f5744e38f2d6d4418918b44",
            "_dom_classes": [],
            "description": "",
            "_model_name": "HTMLModel",
            "placeholder": "​",
            "_view_module": "@jupyter-widgets/controls",
            "_model_module_version": "1.5.0",
            "value": " 440M/440M [00:19&lt;00:00, 22.1MB/s]",
            "_view_count": null,
            "_view_module_version": "1.5.0",
            "description_tooltip": null,
            "_model_module": "@jupyter-widgets/controls",
            "layout": "IPY_MODEL_d64ca4981c464e23acdf6b954b1b7cbe"
          }
        },
        "c1278cd7c15a4c9c8ea457d0688c5f58": {
          "model_module": "@jupyter-widgets/controls",
          "model_name": "ProgressStyleModel",
          "state": {
            "_view_name": "StyleView",
            "_model_name": "ProgressStyleModel",
            "description_width": "initial",
            "_view_module": "@jupyter-widgets/base",
            "_model_module_version": "1.5.0",
            "_view_count": null,
            "_view_module_version": "1.2.0",
            "bar_color": null,
            "_model_module": "@jupyter-widgets/controls"
          }
        },
        "184707e668fa48e2ae15a087f06935bf": {
          "model_module": "@jupyter-widgets/base",
          "model_name": "LayoutModel",
          "state": {
            "_view_name": "LayoutView",
            "grid_template_rows": null,
            "right": null,
            "justify_content": null,
            "_view_module": "@jupyter-widgets/base",
            "overflow": null,
            "_model_module_version": "1.2.0",
            "_view_count": null,
            "flex_flow": null,
            "width": null,
            "min_width": null,
            "border": null,
            "align_items": null,
            "bottom": null,
            "_model_module": "@jupyter-widgets/base",
            "top": null,
            "grid_column": null,
            "overflow_y": null,
            "overflow_x": null,
            "grid_auto_flow": null,
            "grid_area": null,
            "grid_template_columns": null,
            "flex": null,
            "_model_name": "LayoutModel",
            "justify_items": null,
            "grid_row": null,
            "max_height": null,
            "align_content": null,
            "visibility": null,
            "align_self": null,
            "height": null,
            "min_height": null,
            "padding": null,
            "grid_auto_rows": null,
            "grid_gap": null,
            "max_width": null,
            "order": null,
            "_view_module_version": "1.2.0",
            "grid_template_areas": null,
            "object_position": null,
            "object_fit": null,
            "grid_auto_columns": null,
            "margin": null,
            "display": null,
            "left": null
          }
        },
        "36f834f37f5744e38f2d6d4418918b44": {
          "model_module": "@jupyter-widgets/controls",
          "model_name": "DescriptionStyleModel",
          "state": {
            "_view_name": "StyleView",
            "_model_name": "DescriptionStyleModel",
            "description_width": "",
            "_view_module": "@jupyter-widgets/base",
            "_model_module_version": "1.5.0",
            "_view_count": null,
            "_view_module_version": "1.2.0",
            "_model_module": "@jupyter-widgets/controls"
          }
        },
        "d64ca4981c464e23acdf6b954b1b7cbe": {
          "model_module": "@jupyter-widgets/base",
          "model_name": "LayoutModel",
          "state": {
            "_view_name": "LayoutView",
            "grid_template_rows": null,
            "right": null,
            "justify_content": null,
            "_view_module": "@jupyter-widgets/base",
            "overflow": null,
            "_model_module_version": "1.2.0",
            "_view_count": null,
            "flex_flow": null,
            "width": null,
            "min_width": null,
            "border": null,
            "align_items": null,
            "bottom": null,
            "_model_module": "@jupyter-widgets/base",
            "top": null,
            "grid_column": null,
            "overflow_y": null,
            "overflow_x": null,
            "grid_auto_flow": null,
            "grid_area": null,
            "grid_template_columns": null,
            "flex": null,
            "_model_name": "LayoutModel",
            "justify_items": null,
            "grid_row": null,
            "max_height": null,
            "align_content": null,
            "visibility": null,
            "align_self": null,
            "height": null,
            "min_height": null,
            "padding": null,
            "grid_auto_rows": null,
            "grid_gap": null,
            "max_width": null,
            "order": null,
            "_view_module_version": "1.2.0",
            "grid_template_areas": null,
            "object_position": null,
            "object_fit": null,
            "grid_auto_columns": null,
            "margin": null,
            "display": null,
            "left": null
          }
        }
      }
    }
  },
  "cells": [
    {
      "cell_type": "markdown",
      "metadata": {
        "id": "mFOSAx9yv5Bl"
      },
      "source": [
        "# Finetune BERT for classification"
      ]
    },
    {
      "cell_type": "markdown",
      "metadata": {
        "id": "UavdukxmwPFu"
      },
      "source": [
        "BERT is a state-of-the-art model by Google that came in 2019. In this blog, I will go step by step to finetune the BERT model for movie reviews classification(i.e positive or negative ). Here, I will be using the Pytorch framework for the coding perspective."
      ]
    },
    {
      "cell_type": "markdown",
      "metadata": {
        "id": "PRw2x7KwwZ1C"
      },
      "source": [
        "First, we need to install the transformers module by Hugging face in our system to make use of all the transformers model."
      ]
    },
    {
      "cell_type": "code",
      "metadata": {
        "colab": {
          "base_uri": "https://localhost:8080/"
        },
        "id": "fkXgP4ehRTEx",
        "outputId": "93f0652f-ff98-43b6-95f4-78ac4ab80ea8"
      },
      "source": [
        "!pip install transformers"
      ],
      "execution_count": 1,
      "outputs": [
        {
          "output_type": "stream",
          "text": [
            "Collecting transformers\n",
            "\u001b[?25l  Downloading https://files.pythonhosted.org/packages/50/0c/7d5950fcd80b029be0a8891727ba21e0cd27692c407c51261c3c921f6da3/transformers-4.1.1-py3-none-any.whl (1.5MB)\n",
            "\r\u001b[K     |▏                               | 10kB 25.9MB/s eta 0:00:01\r\u001b[K     |▍                               | 20kB 34.3MB/s eta 0:00:01\r\u001b[K     |▋                               | 30kB 40.2MB/s eta 0:00:01\r\u001b[K     |▉                               | 40kB 32.7MB/s eta 0:00:01\r\u001b[K     |█                               | 51kB 34.4MB/s eta 0:00:01\r\u001b[K     |█▎                              | 61kB 37.0MB/s eta 0:00:01\r\u001b[K     |█▌                              | 71kB 27.2MB/s eta 0:00:01\r\u001b[K     |█▊                              | 81kB 24.4MB/s eta 0:00:01\r\u001b[K     |██                              | 92kB 26.0MB/s eta 0:00:01\r\u001b[K     |██▏                             | 102kB 23.4MB/s eta 0:00:01\r\u001b[K     |██▍                             | 112kB 23.4MB/s eta 0:00:01\r\u001b[K     |██▋                             | 122kB 23.4MB/s eta 0:00:01\r\u001b[K     |██▉                             | 133kB 23.4MB/s eta 0:00:01\r\u001b[K     |███                             | 143kB 23.4MB/s eta 0:00:01\r\u001b[K     |███▎                            | 153kB 23.4MB/s eta 0:00:01\r\u001b[K     |███▌                            | 163kB 23.4MB/s eta 0:00:01\r\u001b[K     |███▊                            | 174kB 23.4MB/s eta 0:00:01\r\u001b[K     |████                            | 184kB 23.4MB/s eta 0:00:01\r\u001b[K     |████▏                           | 194kB 23.4MB/s eta 0:00:01\r\u001b[K     |████▎                           | 204kB 23.4MB/s eta 0:00:01\r\u001b[K     |████▌                           | 215kB 23.4MB/s eta 0:00:01\r\u001b[K     |████▊                           | 225kB 23.4MB/s eta 0:00:01\r\u001b[K     |█████                           | 235kB 23.4MB/s eta 0:00:01\r\u001b[K     |█████▏                          | 245kB 23.4MB/s eta 0:00:01\r\u001b[K     |█████▍                          | 256kB 23.4MB/s eta 0:00:01\r\u001b[K     |█████▋                          | 266kB 23.4MB/s eta 0:00:01\r\u001b[K     |█████▉                          | 276kB 23.4MB/s eta 0:00:01\r\u001b[K     |██████                          | 286kB 23.4MB/s eta 0:00:01\r\u001b[K     |██████▎                         | 296kB 23.4MB/s eta 0:00:01\r\u001b[K     |██████▌                         | 307kB 23.4MB/s eta 0:00:01\r\u001b[K     |██████▊                         | 317kB 23.4MB/s eta 0:00:01\r\u001b[K     |███████                         | 327kB 23.4MB/s eta 0:00:01\r\u001b[K     |███████▏                        | 337kB 23.4MB/s eta 0:00:01\r\u001b[K     |███████▍                        | 348kB 23.4MB/s eta 0:00:01\r\u001b[K     |███████▋                        | 358kB 23.4MB/s eta 0:00:01\r\u001b[K     |███████▉                        | 368kB 23.4MB/s eta 0:00:01\r\u001b[K     |████████                        | 378kB 23.4MB/s eta 0:00:01\r\u001b[K     |████████▎                       | 389kB 23.4MB/s eta 0:00:01\r\u001b[K     |████████▌                       | 399kB 23.4MB/s eta 0:00:01\r\u001b[K     |████████▋                       | 409kB 23.4MB/s eta 0:00:01\r\u001b[K     |████████▉                       | 419kB 23.4MB/s eta 0:00:01\r\u001b[K     |█████████                       | 430kB 23.4MB/s eta 0:00:01\r\u001b[K     |█████████▎                      | 440kB 23.4MB/s eta 0:00:01\r\u001b[K     |█████████▌                      | 450kB 23.4MB/s eta 0:00:01\r\u001b[K     |█████████▊                      | 460kB 23.4MB/s eta 0:00:01\r\u001b[K     |██████████                      | 471kB 23.4MB/s eta 0:00:01\r\u001b[K     |██████████▏                     | 481kB 23.4MB/s eta 0:00:01\r\u001b[K     |██████████▍                     | 491kB 23.4MB/s eta 0:00:01\r\u001b[K     |██████████▋                     | 501kB 23.4MB/s eta 0:00:01\r\u001b[K     |██████████▉                     | 512kB 23.4MB/s eta 0:00:01\r\u001b[K     |███████████                     | 522kB 23.4MB/s eta 0:00:01\r\u001b[K     |███████████▎                    | 532kB 23.4MB/s eta 0:00:01\r\u001b[K     |███████████▌                    | 542kB 23.4MB/s eta 0:00:01\r\u001b[K     |███████████▊                    | 552kB 23.4MB/s eta 0:00:01\r\u001b[K     |████████████                    | 563kB 23.4MB/s eta 0:00:01\r\u001b[K     |████████████▏                   | 573kB 23.4MB/s eta 0:00:01\r\u001b[K     |████████████▍                   | 583kB 23.4MB/s eta 0:00:01\r\u001b[K     |████████████▋                   | 593kB 23.4MB/s eta 0:00:01\r\u001b[K     |████████████▉                   | 604kB 23.4MB/s eta 0:00:01\r\u001b[K     |█████████████                   | 614kB 23.4MB/s eta 0:00:01\r\u001b[K     |█████████████▏                  | 624kB 23.4MB/s eta 0:00:01\r\u001b[K     |█████████████▍                  | 634kB 23.4MB/s eta 0:00:01\r\u001b[K     |█████████████▋                  | 645kB 23.4MB/s eta 0:00:01\r\u001b[K     |█████████████▉                  | 655kB 23.4MB/s eta 0:00:01\r\u001b[K     |██████████████                  | 665kB 23.4MB/s eta 0:00:01\r\u001b[K     |██████████████▎                 | 675kB 23.4MB/s eta 0:00:01\r\u001b[K     |██████████████▌                 | 686kB 23.4MB/s eta 0:00:01\r\u001b[K     |██████████████▊                 | 696kB 23.4MB/s eta 0:00:01\r\u001b[K     |███████████████                 | 706kB 23.4MB/s eta 0:00:01\r\u001b[K     |███████████████▏                | 716kB 23.4MB/s eta 0:00:01\r\u001b[K     |███████████████▍                | 727kB 23.4MB/s eta 0:00:01\r\u001b[K     |███████████████▋                | 737kB 23.4MB/s eta 0:00:01\r\u001b[K     |███████████████▉                | 747kB 23.4MB/s eta 0:00:01\r\u001b[K     |████████████████                | 757kB 23.4MB/s eta 0:00:01\r\u001b[K     |████████████████▎               | 768kB 23.4MB/s eta 0:00:01\r\u001b[K     |████████████████▌               | 778kB 23.4MB/s eta 0:00:01\r\u001b[K     |████████████████▊               | 788kB 23.4MB/s eta 0:00:01\r\u001b[K     |█████████████████               | 798kB 23.4MB/s eta 0:00:01\r\u001b[K     |█████████████████               | 808kB 23.4MB/s eta 0:00:01\r\u001b[K     |█████████████████▎              | 819kB 23.4MB/s eta 0:00:01\r\u001b[K     |█████████████████▌              | 829kB 23.4MB/s eta 0:00:01\r\u001b[K     |█████████████████▊              | 839kB 23.4MB/s eta 0:00:01\r\u001b[K     |██████████████████              | 849kB 23.4MB/s eta 0:00:01\r\u001b[K     |██████████████████▏             | 860kB 23.4MB/s eta 0:00:01\r\u001b[K     |██████████████████▍             | 870kB 23.4MB/s eta 0:00:01\r\u001b[K     |██████████████████▋             | 880kB 23.4MB/s eta 0:00:01\r\u001b[K     |██████████████████▉             | 890kB 23.4MB/s eta 0:00:01\r\u001b[K     |███████████████████             | 901kB 23.4MB/s eta 0:00:01\r\u001b[K     |███████████████████▎            | 911kB 23.4MB/s eta 0:00:01\r\u001b[K     |███████████████████▌            | 921kB 23.4MB/s eta 0:00:01\r\u001b[K     |███████████████████▊            | 931kB 23.4MB/s eta 0:00:01\r\u001b[K     |████████████████████            | 942kB 23.4MB/s eta 0:00:01\r\u001b[K     |████████████████████▏           | 952kB 23.4MB/s eta 0:00:01\r\u001b[K     |████████████████████▍           | 962kB 23.4MB/s eta 0:00:01\r\u001b[K     |████████████████████▋           | 972kB 23.4MB/s eta 0:00:01\r\u001b[K     |████████████████████▉           | 983kB 23.4MB/s eta 0:00:01\r\u001b[K     |█████████████████████           | 993kB 23.4MB/s eta 0:00:01\r\u001b[K     |█████████████████████▎          | 1.0MB 23.4MB/s eta 0:00:01\r\u001b[K     |█████████████████████▍          | 1.0MB 23.4MB/s eta 0:00:01\r\u001b[K     |█████████████████████▋          | 1.0MB 23.4MB/s eta 0:00:01\r\u001b[K     |█████████████████████▉          | 1.0MB 23.4MB/s eta 0:00:01\r\u001b[K     |██████████████████████          | 1.0MB 23.4MB/s eta 0:00:01\r\u001b[K     |██████████████████████▎         | 1.1MB 23.4MB/s eta 0:00:01\r\u001b[K     |██████████████████████▌         | 1.1MB 23.4MB/s eta 0:00:01\r\u001b[K     |██████████████████████▊         | 1.1MB 23.4MB/s eta 0:00:01\r\u001b[K     |███████████████████████         | 1.1MB 23.4MB/s eta 0:00:01\r\u001b[K     |███████████████████████▏        | 1.1MB 23.4MB/s eta 0:00:01\r\u001b[K     |███████████████████████▍        | 1.1MB 23.4MB/s eta 0:00:01\r\u001b[K     |███████████████████████▋        | 1.1MB 23.4MB/s eta 0:00:01\r\u001b[K     |███████████████████████▉        | 1.1MB 23.4MB/s eta 0:00:01\r\u001b[K     |████████████████████████        | 1.1MB 23.4MB/s eta 0:00:01\r\u001b[K     |████████████████████████▎       | 1.1MB 23.4MB/s eta 0:00:01\r\u001b[K     |████████████████████████▌       | 1.2MB 23.4MB/s eta 0:00:01\r\u001b[K     |████████████████████████▊       | 1.2MB 23.4MB/s eta 0:00:01\r\u001b[K     |█████████████████████████       | 1.2MB 23.4MB/s eta 0:00:01\r\u001b[K     |█████████████████████████▏      | 1.2MB 23.4MB/s eta 0:00:01\r\u001b[K     |█████████████████████████▍      | 1.2MB 23.4MB/s eta 0:00:01\r\u001b[K     |█████████████████████████▋      | 1.2MB 23.4MB/s eta 0:00:01\r\u001b[K     |█████████████████████████▊      | 1.2MB 23.4MB/s eta 0:00:01\r\u001b[K     |██████████████████████████      | 1.2MB 23.4MB/s eta 0:00:01\r\u001b[K     |██████████████████████████▏     | 1.2MB 23.4MB/s eta 0:00:01\r\u001b[K     |██████████████████████████▍     | 1.2MB 23.4MB/s eta 0:00:01\r\u001b[K     |██████████████████████████▋     | 1.3MB 23.4MB/s eta 0:00:01\r\u001b[K     |██████████████████████████▉     | 1.3MB 23.4MB/s eta 0:00:01\r\u001b[K     |███████████████████████████     | 1.3MB 23.4MB/s eta 0:00:01\r\u001b[K     |███████████████████████████▎    | 1.3MB 23.4MB/s eta 0:00:01\r\u001b[K     |███████████████████████████▌    | 1.3MB 23.4MB/s eta 0:00:01\r\u001b[K     |███████████████████████████▊    | 1.3MB 23.4MB/s eta 0:00:01\r\u001b[K     |████████████████████████████    | 1.3MB 23.4MB/s eta 0:00:01\r\u001b[K     |████████████████████████████▏   | 1.3MB 23.4MB/s eta 0:00:01\r\u001b[K     |████████████████████████████▍   | 1.3MB 23.4MB/s eta 0:00:01\r\u001b[K     |████████████████████████████▋   | 1.4MB 23.4MB/s eta 0:00:01\r\u001b[K     |████████████████████████████▉   | 1.4MB 23.4MB/s eta 0:00:01\r\u001b[K     |█████████████████████████████   | 1.4MB 23.4MB/s eta 0:00:01\r\u001b[K     |█████████████████████████████▎  | 1.4MB 23.4MB/s eta 0:00:01\r\u001b[K     |█████████████████████████████▌  | 1.4MB 23.4MB/s eta 0:00:01\r\u001b[K     |█████████████████████████████▊  | 1.4MB 23.4MB/s eta 0:00:01\r\u001b[K     |█████████████████████████████▉  | 1.4MB 23.4MB/s eta 0:00:01\r\u001b[K     |██████████████████████████████  | 1.4MB 23.4MB/s eta 0:00:01\r\u001b[K     |██████████████████████████████▎ | 1.4MB 23.4MB/s eta 0:00:01\r\u001b[K     |██████████████████████████████▌ | 1.4MB 23.4MB/s eta 0:00:01\r\u001b[K     |██████████████████████████████▊ | 1.5MB 23.4MB/s eta 0:00:01\r\u001b[K     |███████████████████████████████ | 1.5MB 23.4MB/s eta 0:00:01\r\u001b[K     |███████████████████████████████▏| 1.5MB 23.4MB/s eta 0:00:01\r\u001b[K     |███████████████████████████████▍| 1.5MB 23.4MB/s eta 0:00:01\r\u001b[K     |███████████████████████████████▋| 1.5MB 23.4MB/s eta 0:00:01\r\u001b[K     |███████████████████████████████▉| 1.5MB 23.4MB/s eta 0:00:01\r\u001b[K     |████████████████████████████████| 1.5MB 23.4MB/s \n",
            "\u001b[?25hRequirement already satisfied: filelock in /usr/local/lib/python3.6/dist-packages (from transformers) (3.0.12)\n",
            "Requirement already satisfied: requests in /usr/local/lib/python3.6/dist-packages (from transformers) (2.23.0)\n",
            "Requirement already satisfied: packaging in /usr/local/lib/python3.6/dist-packages (from transformers) (20.8)\n",
            "Requirement already satisfied: tqdm>=4.27 in /usr/local/lib/python3.6/dist-packages (from transformers) (4.41.1)\n",
            "Requirement already satisfied: regex!=2019.12.17 in /usr/local/lib/python3.6/dist-packages (from transformers) (2019.12.20)\n",
            "Requirement already satisfied: dataclasses; python_version < \"3.7\" in /usr/local/lib/python3.6/dist-packages (from transformers) (0.8)\n",
            "Requirement already satisfied: numpy in /usr/local/lib/python3.6/dist-packages (from transformers) (1.19.4)\n",
            "Collecting tokenizers==0.9.4\n",
            "\u001b[?25l  Downloading https://files.pythonhosted.org/packages/0f/1c/e789a8b12e28be5bc1ce2156cf87cb522b379be9cadc7ad8091a4cc107c4/tokenizers-0.9.4-cp36-cp36m-manylinux2010_x86_64.whl (2.9MB)\n",
            "\u001b[K     |████████████████████████████████| 2.9MB 51.5MB/s \n",
            "\u001b[?25hCollecting sacremoses\n",
            "\u001b[?25l  Downloading https://files.pythonhosted.org/packages/7d/34/09d19aff26edcc8eb2a01bed8e98f13a1537005d31e95233fd48216eed10/sacremoses-0.0.43.tar.gz (883kB)\n",
            "\u001b[K     |████████████████████████████████| 890kB 53.1MB/s \n",
            "\u001b[?25hRequirement already satisfied: chardet<4,>=3.0.2 in /usr/local/lib/python3.6/dist-packages (from requests->transformers) (3.0.4)\n",
            "Requirement already satisfied: urllib3!=1.25.0,!=1.25.1,<1.26,>=1.21.1 in /usr/local/lib/python3.6/dist-packages (from requests->transformers) (1.24.3)\n",
            "Requirement already satisfied: certifi>=2017.4.17 in /usr/local/lib/python3.6/dist-packages (from requests->transformers) (2020.12.5)\n",
            "Requirement already satisfied: idna<3,>=2.5 in /usr/local/lib/python3.6/dist-packages (from requests->transformers) (2.10)\n",
            "Requirement already satisfied: pyparsing>=2.0.2 in /usr/local/lib/python3.6/dist-packages (from packaging->transformers) (2.4.7)\n",
            "Requirement already satisfied: six in /usr/local/lib/python3.6/dist-packages (from sacremoses->transformers) (1.15.0)\n",
            "Requirement already satisfied: click in /usr/local/lib/python3.6/dist-packages (from sacremoses->transformers) (7.1.2)\n",
            "Requirement already satisfied: joblib in /usr/local/lib/python3.6/dist-packages (from sacremoses->transformers) (1.0.0)\n",
            "Building wheels for collected packages: sacremoses\n",
            "  Building wheel for sacremoses (setup.py) ... \u001b[?25l\u001b[?25hdone\n",
            "  Created wheel for sacremoses: filename=sacremoses-0.0.43-cp36-none-any.whl size=893261 sha256=4b294b13312c0c0c688590e369fb5d061defb45e513b6d99490171e8300fc93a\n",
            "  Stored in directory: /root/.cache/pip/wheels/29/3c/fd/7ce5c3f0666dab31a50123635e6fb5e19ceb42ce38d4e58f45\n",
            "Successfully built sacremoses\n",
            "Installing collected packages: tokenizers, sacremoses, transformers\n",
            "Successfully installed sacremoses-0.0.43 tokenizers-0.9.4 transformers-4.1.1\n"
          ],
          "name": "stdout"
        }
      ]
    },
    {
      "cell_type": "markdown",
      "metadata": {
        "id": "FxHOjEYgwoUF"
      },
      "source": [
        "Then, import all the packages and modules"
      ]
    },
    {
      "cell_type": "code",
      "metadata": {
        "id": "ZzZqz7WlP5Es"
      },
      "source": [
        "import torch\r\n",
        "import torch.nn as nn\r\n",
        "import transformers\r\n",
        "from torch.utils.data import Dataset\r\n",
        "from torch.utils.data import DataLoader\r\n",
        "import pandas as pd\r\n",
        "import numpy as np\r\n",
        "import torch.optim as optim\r\n",
        "import torch.nn.functional as F\r\n",
        "from torchsummary import summary\r\n",
        "from tqdm import tqdm"
      ],
      "execution_count": 2,
      "outputs": []
    },
    {
      "cell_type": "markdown",
      "metadata": {
        "id": "pRbTZVDZwraQ"
      },
      "source": [
        "Now we need to prepare a dataset to finetune BERT.\r\n",
        "This is a standard method to make a dataset in PyTorch. First, we create a class inherited from the torch Dataset module. Then, In this class, we make the __getitem__ method where the main code will be implemented to prepare a dataset."
      ]
    },
    {
      "cell_type": "markdown",
      "metadata": {
        "id": "UYtjsFnXw2qj"
      },
      "source": [
        "Dataset is loaded from GitHub, which consists of 2000 movie reviews with labels and converted to pandas dataframe.\r\n",
        "\r\n",
        "\r\n",
        "BERT tokenizer.encode_plus method takes input as a pair of text sequence with additional parameters like max_length (Controls the maximum length to be used by one of the truncation/padding parameters.), pad_to_max_length (Pad to a maximum length specified with the argument max_length ) and return_attention_mask: bool (This argument indicates to the model which tokens should be attended to, and which should not).\r\n",
        "\r\n",
        "Tokenizer.encode_plus returns a dictionary containing the encoded tokenized sequence and other additional information such as attention_marks, token_type_id, and this would be an input to the BERT model.\r\n",
        "In line 35, from the hugging face library, the pre-trained BERT uncased tokenizer is initialized and then taken as input in dataset class."
      ]
    },
    {
      "cell_type": "code",
      "metadata": {
        "id": "py9gSshfSA51"
      },
      "source": [
        "class BertDataset(Dataset):\r\n",
        "    def __init__(self,root_dir, train_csv,tokenizer,max_length):\r\n",
        "        super(BertDataset, self).__init__()\r\n",
        "        self.root_dir=root_dir\r\n",
        "        self.train_csv=pd.read_csv('https://github.com/clairett/pytorch-sentiment-classification/raw/master/data/SST2/train.tsv', delimiter='\\t', header=None)\r\n",
        "        self.tokenizer=tokenizer\r\n",
        "        self.target=self.train_csv.iloc[:,1]\r\n",
        "        self.max_length=max_length\r\n",
        "        \r\n",
        "    def __len__(self):\r\n",
        "        return len(self.train_csv)\r\n",
        "    \r\n",
        "    def __getitem__(self, index):\r\n",
        "        \r\n",
        "        text1 = self.train_csv.iloc[index,0]\r\n",
        "        \r\n",
        "        inputs = self.tokenizer.encode_plus(\r\n",
        "            text1 ,\r\n",
        "            None,\r\n",
        "            pad_to_max_length=True,\r\n",
        "            add_special_tokens=True,\r\n",
        "            return_attention_mask=True,\r\n",
        "            max_length=self.max_length,\r\n",
        "        )\r\n",
        "        ids = inputs[\"input_ids\"]\r\n",
        "        token_type_ids = inputs[\"token_type_ids\"]\r\n",
        "        mask = inputs[\"attention_mask\"]\r\n",
        "\r\n",
        "\r\n",
        "        return {\r\n",
        "            'ids': torch.tensor(ids, dtype=torch.long),\r\n",
        "            'mask': torch.tensor(mask, dtype=torch.long),\r\n",
        "            'token_type_ids': torch.tensor(token_type_ids, dtype=torch.long),\r\n",
        "            'target': torch.tensor(self.train_csv.iloc[index, 1], dtype=torch.long)\r\n",
        "            }\r\n",
        "\r\n"
      ],
      "execution_count": 18,
      "outputs": []
    },
    {
      "cell_type": "code",
      "metadata": {
        "id": "Du3fwy7HtRHf"
      },
      "source": [
        "tokenizer = transformers.BertTokenizer.from_pretrained(\"bert-base-uncased\")"
      ],
      "execution_count": 19,
      "outputs": []
    },
    {
      "cell_type": "code",
      "metadata": {
        "id": "D0tIdo48tVjS"
      },
      "source": [
        "dataset= BertDataset(r'/content/drive/MyDrive/Bert train','train.csv',tokenizer,\r\n",
        "                     max_length=100)"
      ],
      "execution_count": 20,
      "outputs": []
    },
    {
      "cell_type": "markdown",
      "metadata": {
        "id": "Qzpq8_LAxNOd"
      },
      "source": [
        "Now, we have prepared our dataset and it will be a perfect time to create and initialize our BERT model."
      ]
    },
    {
      "cell_type": "code",
      "metadata": {
        "id": "IL0BmijOSIPR"
      },
      "source": [
        "class BERT(nn.Module):\r\n",
        "    def __init__(self):\r\n",
        "        super(BERT, self).__init__()\r\n",
        "        self.bert_model = transformers.BertModel.from_pretrained(\"bert-base-uncased\")\r\n",
        "        self.out = nn.Linear(768, 1)\r\n",
        "        \r\n",
        "    def forward(self,ids,mask,token_type_ids):\r\n",
        "        _,o2= self.bert_model(ids,attention_mask=mask,token_type_ids=token_type_ids, return_dict=False)\r\n",
        "        \r\n",
        "        out= self.out(o2)\r\n",
        "        \r\n",
        "        return out\r\n",
        "\r\n",
        "\r\n",
        "loss_fn = nn.BCEWithLogitsLoss()\r\n"
      ],
      "execution_count": 23,
      "outputs": []
    },
    {
      "cell_type": "markdown",
      "metadata": {
        "id": "V5FKnke6xXJC"
      },
      "source": [
        "we use BCEWithLogitsLoss which combines a Sigmoid layer and the BCELoss in one single class because this version is more numerically stable than using a plain Sigmoid followed by a BCELoss."
      ]
    },
    {
      "cell_type": "markdown",
      "metadata": {
        "id": "afJnFJHvxsW4"
      },
      "source": [
        ""
      ]
    },
    {
      "cell_type": "markdown",
      "metadata": {
        "id": "M0KGFpFvyS8p"
      },
      "source": [
        "We have prepared the dataset and also we have defined our BERT model. Now, it’s time to train our model."
      ]
    },
    {
      "cell_type": "code",
      "metadata": {
        "id": "7bqreDUtSMvr"
      },
      "source": [
        "def finetune(epochs,dataloader,model,loss_fn,optimizer):\r\n",
        "    model.train()\r\n",
        "    for  epoch in range(epochs):\r\n",
        "        print(epoch)\r\n",
        "        \r\n",
        "        loop=tqdm(enumerate(dataloader),leave=False,total=len(dataloader))\r\n",
        "        for batch, dl in loop:\r\n",
        "            ids=dl['ids']\r\n",
        "            token_type_ids=dl['token_type_ids']\r\n",
        "            mask= dl['mask']\r\n",
        "            label=dl['target']\r\n",
        "            label = label.unsqueeze(1)\r\n",
        "            output=model(\r\n",
        "                ids=ids,\r\n",
        "                mask=mask,\r\n",
        "                token_type_ids=token_type_ids)\r\n",
        "            label = label.type_as(output)\r\n",
        "\r\n",
        "            loss=loss_fn(output,label)\r\n",
        "            optimizer.zero_grad()\r\n",
        "            loss.backward()\r\n",
        "            \r\n",
        "            optimizer.step()\r\n",
        "            pred = np.where(output >= 0, 1, 0)\r\n",
        "\r\n",
        "\r\n",
        "            num_correct = sum(1 for a, b in zip(pred, label) if a[0] == b[0])\r\n",
        "            num_samples = pred.shape[0]\r\n",
        "            accuracy = num_correct/num_samples\r\n",
        "            print(f'Got {num_correct} / {num_samples} with accuracy {float(num_correct)/float(num_samples)*100:.2f}')\r\n",
        "            # Show progress while training\r\n",
        "            loop.set_description(f'Epoch={epoch}/{epochs}')\r\n",
        "            loop.set_postfix(loss=loss.item(),acc=accuracy)\r\n",
        "\r\n",
        "    return model\r\n",
        "\r\n"
      ],
      "execution_count": 24,
      "outputs": []
    },
    {
      "cell_type": "code",
      "metadata": {
        "colab": {
          "base_uri": "https://localhost:8080/",
          "height": 116,
          "referenced_widgets": [
            "be03de925ca8410d9bb1bc910e790bb4",
            "e7d090c5208c4ca290ee2ec7fa3f2278",
            "759d09c3a45544e3a91c60b2e907f141",
            "48fa982e04174d6f87cd1862d3a22d43",
            "b9a71dc609294dcd87933894243d990b",
            "59f2dc81a1ec4d4d96cd0a15547c590f",
            "d6ec1fc9d08c42439f71eb995af065fb",
            "950d36ba7009435789c9519a696e75a7",
            "c635834dd49f4df3897af3caf987eec7",
            "2d0a0ab0407749b0bb129c4bcf4e9759",
            "97ebf90dd58e418c96df6aabd9c87871",
            "3dd0943389ef49d3a42e73c408bd46a7",
            "c1278cd7c15a4c9c8ea457d0688c5f58",
            "184707e668fa48e2ae15a087f06935bf",
            "36f834f37f5744e38f2d6d4418918b44",
            "d64ca4981c464e23acdf6b954b1b7cbe"
          ]
        },
        "id": "V_aIUqtNRRVq",
        "outputId": "3bfa12a5-c7fa-4ae3-f01d-59860e1b8efb"
      },
      "source": [
        "model=BERT()"
      ],
      "execution_count": 25,
      "outputs": [
        {
          "output_type": "display_data",
          "data": {
            "application/vnd.jupyter.widget-view+json": {
              "model_id": "be03de925ca8410d9bb1bc910e790bb4",
              "version_minor": 0,
              "version_major": 2
            },
            "text/plain": [
              "HBox(children=(FloatProgress(value=0.0, description='Downloading', max=433.0, style=ProgressStyle(description_…"
            ]
          },
          "metadata": {
            "tags": []
          }
        },
        {
          "output_type": "stream",
          "text": [
            "\n"
          ],
          "name": "stdout"
        },
        {
          "output_type": "display_data",
          "data": {
            "application/vnd.jupyter.widget-view+json": {
              "model_id": "c635834dd49f4df3897af3caf987eec7",
              "version_minor": 0,
              "version_major": 2
            },
            "text/plain": [
              "HBox(children=(FloatProgress(value=0.0, description='Downloading', max=440473133.0, style=ProgressStyle(descri…"
            ]
          },
          "metadata": {
            "tags": []
          }
        },
        {
          "output_type": "stream",
          "text": [
            "\n"
          ],
          "name": "stdout"
        }
      ]
    },
    {
      "cell_type": "code",
      "metadata": {
        "colab": {
          "base_uri": "https://localhost:8080/"
        },
        "id": "oGACQOtJRVhD",
        "outputId": "b2c65849-5734-4987-f32d-df83ba900795"
      },
      "source": [
        "model.named_parameters"
      ],
      "execution_count": 26,
      "outputs": [
        {
          "output_type": "execute_result",
          "data": {
            "text/plain": [
              "<bound method Module.named_parameters of BERT(\n",
              "  (bert_model): BertModel(\n",
              "    (embeddings): BertEmbeddings(\n",
              "      (word_embeddings): Embedding(30522, 768, padding_idx=0)\n",
              "      (position_embeddings): Embedding(512, 768)\n",
              "      (token_type_embeddings): Embedding(2, 768)\n",
              "      (LayerNorm): LayerNorm((768,), eps=1e-12, elementwise_affine=True)\n",
              "      (dropout): Dropout(p=0.1, inplace=False)\n",
              "    )\n",
              "    (encoder): BertEncoder(\n",
              "      (layer): ModuleList(\n",
              "        (0): BertLayer(\n",
              "          (attention): BertAttention(\n",
              "            (self): BertSelfAttention(\n",
              "              (query): Linear(in_features=768, out_features=768, bias=True)\n",
              "              (key): Linear(in_features=768, out_features=768, bias=True)\n",
              "              (value): Linear(in_features=768, out_features=768, bias=True)\n",
              "              (dropout): Dropout(p=0.1, inplace=False)\n",
              "            )\n",
              "            (output): BertSelfOutput(\n",
              "              (dense): Linear(in_features=768, out_features=768, bias=True)\n",
              "              (LayerNorm): LayerNorm((768,), eps=1e-12, elementwise_affine=True)\n",
              "              (dropout): Dropout(p=0.1, inplace=False)\n",
              "            )\n",
              "          )\n",
              "          (intermediate): BertIntermediate(\n",
              "            (dense): Linear(in_features=768, out_features=3072, bias=True)\n",
              "          )\n",
              "          (output): BertOutput(\n",
              "            (dense): Linear(in_features=3072, out_features=768, bias=True)\n",
              "            (LayerNorm): LayerNorm((768,), eps=1e-12, elementwise_affine=True)\n",
              "            (dropout): Dropout(p=0.1, inplace=False)\n",
              "          )\n",
              "        )\n",
              "        (1): BertLayer(\n",
              "          (attention): BertAttention(\n",
              "            (self): BertSelfAttention(\n",
              "              (query): Linear(in_features=768, out_features=768, bias=True)\n",
              "              (key): Linear(in_features=768, out_features=768, bias=True)\n",
              "              (value): Linear(in_features=768, out_features=768, bias=True)\n",
              "              (dropout): Dropout(p=0.1, inplace=False)\n",
              "            )\n",
              "            (output): BertSelfOutput(\n",
              "              (dense): Linear(in_features=768, out_features=768, bias=True)\n",
              "              (LayerNorm): LayerNorm((768,), eps=1e-12, elementwise_affine=True)\n",
              "              (dropout): Dropout(p=0.1, inplace=False)\n",
              "            )\n",
              "          )\n",
              "          (intermediate): BertIntermediate(\n",
              "            (dense): Linear(in_features=768, out_features=3072, bias=True)\n",
              "          )\n",
              "          (output): BertOutput(\n",
              "            (dense): Linear(in_features=3072, out_features=768, bias=True)\n",
              "            (LayerNorm): LayerNorm((768,), eps=1e-12, elementwise_affine=True)\n",
              "            (dropout): Dropout(p=0.1, inplace=False)\n",
              "          )\n",
              "        )\n",
              "        (2): BertLayer(\n",
              "          (attention): BertAttention(\n",
              "            (self): BertSelfAttention(\n",
              "              (query): Linear(in_features=768, out_features=768, bias=True)\n",
              "              (key): Linear(in_features=768, out_features=768, bias=True)\n",
              "              (value): Linear(in_features=768, out_features=768, bias=True)\n",
              "              (dropout): Dropout(p=0.1, inplace=False)\n",
              "            )\n",
              "            (output): BertSelfOutput(\n",
              "              (dense): Linear(in_features=768, out_features=768, bias=True)\n",
              "              (LayerNorm): LayerNorm((768,), eps=1e-12, elementwise_affine=True)\n",
              "              (dropout): Dropout(p=0.1, inplace=False)\n",
              "            )\n",
              "          )\n",
              "          (intermediate): BertIntermediate(\n",
              "            (dense): Linear(in_features=768, out_features=3072, bias=True)\n",
              "          )\n",
              "          (output): BertOutput(\n",
              "            (dense): Linear(in_features=3072, out_features=768, bias=True)\n",
              "            (LayerNorm): LayerNorm((768,), eps=1e-12, elementwise_affine=True)\n",
              "            (dropout): Dropout(p=0.1, inplace=False)\n",
              "          )\n",
              "        )\n",
              "        (3): BertLayer(\n",
              "          (attention): BertAttention(\n",
              "            (self): BertSelfAttention(\n",
              "              (query): Linear(in_features=768, out_features=768, bias=True)\n",
              "              (key): Linear(in_features=768, out_features=768, bias=True)\n",
              "              (value): Linear(in_features=768, out_features=768, bias=True)\n",
              "              (dropout): Dropout(p=0.1, inplace=False)\n",
              "            )\n",
              "            (output): BertSelfOutput(\n",
              "              (dense): Linear(in_features=768, out_features=768, bias=True)\n",
              "              (LayerNorm): LayerNorm((768,), eps=1e-12, elementwise_affine=True)\n",
              "              (dropout): Dropout(p=0.1, inplace=False)\n",
              "            )\n",
              "          )\n",
              "          (intermediate): BertIntermediate(\n",
              "            (dense): Linear(in_features=768, out_features=3072, bias=True)\n",
              "          )\n",
              "          (output): BertOutput(\n",
              "            (dense): Linear(in_features=3072, out_features=768, bias=True)\n",
              "            (LayerNorm): LayerNorm((768,), eps=1e-12, elementwise_affine=True)\n",
              "            (dropout): Dropout(p=0.1, inplace=False)\n",
              "          )\n",
              "        )\n",
              "        (4): BertLayer(\n",
              "          (attention): BertAttention(\n",
              "            (self): BertSelfAttention(\n",
              "              (query): Linear(in_features=768, out_features=768, bias=True)\n",
              "              (key): Linear(in_features=768, out_features=768, bias=True)\n",
              "              (value): Linear(in_features=768, out_features=768, bias=True)\n",
              "              (dropout): Dropout(p=0.1, inplace=False)\n",
              "            )\n",
              "            (output): BertSelfOutput(\n",
              "              (dense): Linear(in_features=768, out_features=768, bias=True)\n",
              "              (LayerNorm): LayerNorm((768,), eps=1e-12, elementwise_affine=True)\n",
              "              (dropout): Dropout(p=0.1, inplace=False)\n",
              "            )\n",
              "          )\n",
              "          (intermediate): BertIntermediate(\n",
              "            (dense): Linear(in_features=768, out_features=3072, bias=True)\n",
              "          )\n",
              "          (output): BertOutput(\n",
              "            (dense): Linear(in_features=3072, out_features=768, bias=True)\n",
              "            (LayerNorm): LayerNorm((768,), eps=1e-12, elementwise_affine=True)\n",
              "            (dropout): Dropout(p=0.1, inplace=False)\n",
              "          )\n",
              "        )\n",
              "        (5): BertLayer(\n",
              "          (attention): BertAttention(\n",
              "            (self): BertSelfAttention(\n",
              "              (query): Linear(in_features=768, out_features=768, bias=True)\n",
              "              (key): Linear(in_features=768, out_features=768, bias=True)\n",
              "              (value): Linear(in_features=768, out_features=768, bias=True)\n",
              "              (dropout): Dropout(p=0.1, inplace=False)\n",
              "            )\n",
              "            (output): BertSelfOutput(\n",
              "              (dense): Linear(in_features=768, out_features=768, bias=True)\n",
              "              (LayerNorm): LayerNorm((768,), eps=1e-12, elementwise_affine=True)\n",
              "              (dropout): Dropout(p=0.1, inplace=False)\n",
              "            )\n",
              "          )\n",
              "          (intermediate): BertIntermediate(\n",
              "            (dense): Linear(in_features=768, out_features=3072, bias=True)\n",
              "          )\n",
              "          (output): BertOutput(\n",
              "            (dense): Linear(in_features=3072, out_features=768, bias=True)\n",
              "            (LayerNorm): LayerNorm((768,), eps=1e-12, elementwise_affine=True)\n",
              "            (dropout): Dropout(p=0.1, inplace=False)\n",
              "          )\n",
              "        )\n",
              "        (6): BertLayer(\n",
              "          (attention): BertAttention(\n",
              "            (self): BertSelfAttention(\n",
              "              (query): Linear(in_features=768, out_features=768, bias=True)\n",
              "              (key): Linear(in_features=768, out_features=768, bias=True)\n",
              "              (value): Linear(in_features=768, out_features=768, bias=True)\n",
              "              (dropout): Dropout(p=0.1, inplace=False)\n",
              "            )\n",
              "            (output): BertSelfOutput(\n",
              "              (dense): Linear(in_features=768, out_features=768, bias=True)\n",
              "              (LayerNorm): LayerNorm((768,), eps=1e-12, elementwise_affine=True)\n",
              "              (dropout): Dropout(p=0.1, inplace=False)\n",
              "            )\n",
              "          )\n",
              "          (intermediate): BertIntermediate(\n",
              "            (dense): Linear(in_features=768, out_features=3072, bias=True)\n",
              "          )\n",
              "          (output): BertOutput(\n",
              "            (dense): Linear(in_features=3072, out_features=768, bias=True)\n",
              "            (LayerNorm): LayerNorm((768,), eps=1e-12, elementwise_affine=True)\n",
              "            (dropout): Dropout(p=0.1, inplace=False)\n",
              "          )\n",
              "        )\n",
              "        (7): BertLayer(\n",
              "          (attention): BertAttention(\n",
              "            (self): BertSelfAttention(\n",
              "              (query): Linear(in_features=768, out_features=768, bias=True)\n",
              "              (key): Linear(in_features=768, out_features=768, bias=True)\n",
              "              (value): Linear(in_features=768, out_features=768, bias=True)\n",
              "              (dropout): Dropout(p=0.1, inplace=False)\n",
              "            )\n",
              "            (output): BertSelfOutput(\n",
              "              (dense): Linear(in_features=768, out_features=768, bias=True)\n",
              "              (LayerNorm): LayerNorm((768,), eps=1e-12, elementwise_affine=True)\n",
              "              (dropout): Dropout(p=0.1, inplace=False)\n",
              "            )\n",
              "          )\n",
              "          (intermediate): BertIntermediate(\n",
              "            (dense): Linear(in_features=768, out_features=3072, bias=True)\n",
              "          )\n",
              "          (output): BertOutput(\n",
              "            (dense): Linear(in_features=3072, out_features=768, bias=True)\n",
              "            (LayerNorm): LayerNorm((768,), eps=1e-12, elementwise_affine=True)\n",
              "            (dropout): Dropout(p=0.1, inplace=False)\n",
              "          )\n",
              "        )\n",
              "        (8): BertLayer(\n",
              "          (attention): BertAttention(\n",
              "            (self): BertSelfAttention(\n",
              "              (query): Linear(in_features=768, out_features=768, bias=True)\n",
              "              (key): Linear(in_features=768, out_features=768, bias=True)\n",
              "              (value): Linear(in_features=768, out_features=768, bias=True)\n",
              "              (dropout): Dropout(p=0.1, inplace=False)\n",
              "            )\n",
              "            (output): BertSelfOutput(\n",
              "              (dense): Linear(in_features=768, out_features=768, bias=True)\n",
              "              (LayerNorm): LayerNorm((768,), eps=1e-12, elementwise_affine=True)\n",
              "              (dropout): Dropout(p=0.1, inplace=False)\n",
              "            )\n",
              "          )\n",
              "          (intermediate): BertIntermediate(\n",
              "            (dense): Linear(in_features=768, out_features=3072, bias=True)\n",
              "          )\n",
              "          (output): BertOutput(\n",
              "            (dense): Linear(in_features=3072, out_features=768, bias=True)\n",
              "            (LayerNorm): LayerNorm((768,), eps=1e-12, elementwise_affine=True)\n",
              "            (dropout): Dropout(p=0.1, inplace=False)\n",
              "          )\n",
              "        )\n",
              "        (9): BertLayer(\n",
              "          (attention): BertAttention(\n",
              "            (self): BertSelfAttention(\n",
              "              (query): Linear(in_features=768, out_features=768, bias=True)\n",
              "              (key): Linear(in_features=768, out_features=768, bias=True)\n",
              "              (value): Linear(in_features=768, out_features=768, bias=True)\n",
              "              (dropout): Dropout(p=0.1, inplace=False)\n",
              "            )\n",
              "            (output): BertSelfOutput(\n",
              "              (dense): Linear(in_features=768, out_features=768, bias=True)\n",
              "              (LayerNorm): LayerNorm((768,), eps=1e-12, elementwise_affine=True)\n",
              "              (dropout): Dropout(p=0.1, inplace=False)\n",
              "            )\n",
              "          )\n",
              "          (intermediate): BertIntermediate(\n",
              "            (dense): Linear(in_features=768, out_features=3072, bias=True)\n",
              "          )\n",
              "          (output): BertOutput(\n",
              "            (dense): Linear(in_features=3072, out_features=768, bias=True)\n",
              "            (LayerNorm): LayerNorm((768,), eps=1e-12, elementwise_affine=True)\n",
              "            (dropout): Dropout(p=0.1, inplace=False)\n",
              "          )\n",
              "        )\n",
              "        (10): BertLayer(\n",
              "          (attention): BertAttention(\n",
              "            (self): BertSelfAttention(\n",
              "              (query): Linear(in_features=768, out_features=768, bias=True)\n",
              "              (key): Linear(in_features=768, out_features=768, bias=True)\n",
              "              (value): Linear(in_features=768, out_features=768, bias=True)\n",
              "              (dropout): Dropout(p=0.1, inplace=False)\n",
              "            )\n",
              "            (output): BertSelfOutput(\n",
              "              (dense): Linear(in_features=768, out_features=768, bias=True)\n",
              "              (LayerNorm): LayerNorm((768,), eps=1e-12, elementwise_affine=True)\n",
              "              (dropout): Dropout(p=0.1, inplace=False)\n",
              "            )\n",
              "          )\n",
              "          (intermediate): BertIntermediate(\n",
              "            (dense): Linear(in_features=768, out_features=3072, bias=True)\n",
              "          )\n",
              "          (output): BertOutput(\n",
              "            (dense): Linear(in_features=3072, out_features=768, bias=True)\n",
              "            (LayerNorm): LayerNorm((768,), eps=1e-12, elementwise_affine=True)\n",
              "            (dropout): Dropout(p=0.1, inplace=False)\n",
              "          )\n",
              "        )\n",
              "        (11): BertLayer(\n",
              "          (attention): BertAttention(\n",
              "            (self): BertSelfAttention(\n",
              "              (query): Linear(in_features=768, out_features=768, bias=True)\n",
              "              (key): Linear(in_features=768, out_features=768, bias=True)\n",
              "              (value): Linear(in_features=768, out_features=768, bias=True)\n",
              "              (dropout): Dropout(p=0.1, inplace=False)\n",
              "            )\n",
              "            (output): BertSelfOutput(\n",
              "              (dense): Linear(in_features=768, out_features=768, bias=True)\n",
              "              (LayerNorm): LayerNorm((768,), eps=1e-12, elementwise_affine=True)\n",
              "              (dropout): Dropout(p=0.1, inplace=False)\n",
              "            )\n",
              "          )\n",
              "          (intermediate): BertIntermediate(\n",
              "            (dense): Linear(in_features=768, out_features=3072, bias=True)\n",
              "          )\n",
              "          (output): BertOutput(\n",
              "            (dense): Linear(in_features=3072, out_features=768, bias=True)\n",
              "            (LayerNorm): LayerNorm((768,), eps=1e-12, elementwise_affine=True)\n",
              "            (dropout): Dropout(p=0.1, inplace=False)\n",
              "          )\n",
              "        )\n",
              "      )\n",
              "    )\n",
              "    (pooler): BertPooler(\n",
              "      (dense): Linear(in_features=768, out_features=768, bias=True)\n",
              "      (activation): Tanh()\n",
              "    )\n",
              "  )\n",
              "  (out): Linear(in_features=768, out_features=1, bias=True)\n",
              ")>"
            ]
          },
          "metadata": {
            "tags": []
          },
          "execution_count": 26
        }
      ]
    },
    {
      "cell_type": "markdown",
      "metadata": {
        "id": "aXWjE_5Nx0Nc"
      },
      "source": [
        "Also, now we have two situations:\r\n",
        "\r\n",
        "First, we do not retrain our pre-trained BERT and train only the last linear dense layer.\r\n",
        "\r\n",
        "Second, we train our complete BERT model. For this, we don’t need to do anything initially, model parameters required_grad is set to True."
      ]
    },
    {
      "cell_type": "code",
      "metadata": {
        "id": "qgbr_t0eSf6L"
      },
      "source": [
        "for param in model.bert_model.parameters():\r\n",
        "    param.requires_grad = False"
      ],
      "execution_count": 27,
      "outputs": []
    },
    {
      "cell_type": "code",
      "metadata": {
        "colab": {
          "base_uri": "https://localhost:8080/"
        },
        "id": "w5FCYBYlSQxL",
        "outputId": "40672ef7-7ce5-4b75-91bb-64979a6e7e31"
      },
      "source": [
        "\r\n",
        "dataloader=DataLoader(dataset=dataset,batch_size=32)\r\n",
        "\r\n",
        "#Initialize Optimizer\r\n",
        "optimizer= optim.Adam(model.parameters(),lr= 0.00001)\r\n",
        "model=finetune(2, dataloader, model, loss_fn, optimizer)"
      ],
      "execution_count": 28,
      "outputs": [
        {
          "output_type": "stream",
          "text": [
            "\r  0%|          | 0/217 [00:00<?, ?it/s]"
          ],
          "name": "stderr"
        },
        {
          "output_type": "stream",
          "text": [
            "0\n"
          ],
          "name": "stdout"
        },
        {
          "output_type": "stream",
          "text": [
            "/usr/local/lib/python3.6/dist-packages/transformers/tokenization_utils_base.py:2179: FutureWarning: The `pad_to_max_length` argument is deprecated and will be removed in a future version, use `padding=True` or `padding='longest'` to pad to the longest sequence in the batch, or use `padding='max_length'` to pad to a max length. In this case, you can give a specific length with `max_length` (e.g. `max_length=45`) or leave max_length to None to pad to the maximal input size of the model (e.g. 512 for Bert).\n",
            "  FutureWarning,\n",
            "Epoch=0/2:   0%|          | 1/217 [00:07<28:24,  7.89s/it, acc=0.469, loss=0.749]"
          ],
          "name": "stderr"
        },
        {
          "output_type": "stream",
          "text": [
            "Got 15 / 32 with accuracy 46.88\n"
          ],
          "name": "stdout"
        },
        {
          "output_type": "stream",
          "text": [
            "Epoch=0/2:   1%|          | 2/217 [00:15<28:16,  7.89s/it, acc=0.75, loss=0.582]"
          ],
          "name": "stderr"
        },
        {
          "output_type": "stream",
          "text": [
            "Got 24 / 32 with accuracy 75.00\n"
          ],
          "name": "stdout"
        },
        {
          "output_type": "stream",
          "text": [
            "Epoch=0/2:   1%|▏         | 3/217 [00:23<28:00,  7.85s/it, acc=0.562, loss=0.697]"
          ],
          "name": "stderr"
        },
        {
          "output_type": "stream",
          "text": [
            "Got 18 / 32 with accuracy 56.25\n"
          ],
          "name": "stdout"
        },
        {
          "output_type": "stream",
          "text": [
            "Epoch=0/2:   2%|▏         | 4/217 [00:31<27:41,  7.80s/it, acc=0.562, loss=0.695]"
          ],
          "name": "stderr"
        },
        {
          "output_type": "stream",
          "text": [
            "Got 18 / 32 with accuracy 56.25\n"
          ],
          "name": "stdout"
        },
        {
          "output_type": "stream",
          "text": [
            "Epoch=0/2:   2%|▏         | 5/217 [00:38<27:24,  7.76s/it, acc=0.5, loss=0.73]"
          ],
          "name": "stderr"
        },
        {
          "output_type": "stream",
          "text": [
            "Got 16 / 32 with accuracy 50.00\n"
          ],
          "name": "stdout"
        },
        {
          "output_type": "stream",
          "text": [
            "Epoch=0/2:   3%|▎         | 6/217 [00:46<27:29,  7.82s/it, acc=0.531, loss=0.709]"
          ],
          "name": "stderr"
        },
        {
          "output_type": "stream",
          "text": [
            "Got 17 / 32 with accuracy 53.12\n"
          ],
          "name": "stdout"
        },
        {
          "output_type": "stream",
          "text": [
            "Epoch=0/2:   3%|▎         | 7/217 [00:54<27:26,  7.84s/it, acc=0.562, loss=0.694]"
          ],
          "name": "stderr"
        },
        {
          "output_type": "stream",
          "text": [
            "Got 18 / 32 with accuracy 56.25\n"
          ],
          "name": "stdout"
        },
        {
          "output_type": "stream",
          "text": [
            "Epoch=0/2:   4%|▎         | 8/217 [01:02<27:13,  7.81s/it, acc=0.594, loss=0.686]"
          ],
          "name": "stderr"
        },
        {
          "output_type": "stream",
          "text": [
            "Got 19 / 32 with accuracy 59.38\n"
          ],
          "name": "stdout"
        },
        {
          "output_type": "stream",
          "text": [
            "Epoch=0/2:   4%|▍         | 9/217 [01:10<27:10,  7.84s/it, acc=0.625, loss=0.659]"
          ],
          "name": "stderr"
        },
        {
          "output_type": "stream",
          "text": [
            "Got 20 / 32 with accuracy 62.50\n"
          ],
          "name": "stdout"
        },
        {
          "output_type": "stream",
          "text": [
            "Epoch=0/2:   5%|▍         | 10/217 [01:18<26:59,  7.83s/it, acc=0.438, loss=0.762]"
          ],
          "name": "stderr"
        },
        {
          "output_type": "stream",
          "text": [
            "Got 14 / 32 with accuracy 43.75\n"
          ],
          "name": "stdout"
        },
        {
          "output_type": "stream",
          "text": [
            "Epoch=0/2:   5%|▌         | 11/217 [01:25<26:51,  7.82s/it, acc=0.5, loss=0.743]"
          ],
          "name": "stderr"
        },
        {
          "output_type": "stream",
          "text": [
            "Got 16 / 32 with accuracy 50.00\n"
          ],
          "name": "stdout"
        },
        {
          "output_type": "stream",
          "text": [
            "Epoch=0/2:   6%|▌         | 12/217 [01:33<26:37,  7.79s/it, acc=0.375, loss=0.81]"
          ],
          "name": "stderr"
        },
        {
          "output_type": "stream",
          "text": [
            "Got 12 / 32 with accuracy 37.50\n"
          ],
          "name": "stdout"
        },
        {
          "output_type": "stream",
          "text": [
            "Epoch=0/2:   6%|▌         | 13/217 [01:41<26:27,  7.78s/it, acc=0.594, loss=0.696]"
          ],
          "name": "stderr"
        },
        {
          "output_type": "stream",
          "text": [
            "Got 19 / 32 with accuracy 59.38\n"
          ],
          "name": "stdout"
        },
        {
          "output_type": "stream",
          "text": [
            "Epoch=0/2:   6%|▋         | 14/217 [01:49<26:15,  7.76s/it, acc=0.469, loss=0.748]"
          ],
          "name": "stderr"
        },
        {
          "output_type": "stream",
          "text": [
            "Got 15 / 32 with accuracy 46.88\n"
          ],
          "name": "stdout"
        },
        {
          "output_type": "stream",
          "text": [
            "Epoch=0/2:   7%|▋         | 15/217 [01:56<26:01,  7.73s/it, acc=0.406, loss=0.771]"
          ],
          "name": "stderr"
        },
        {
          "output_type": "stream",
          "text": [
            "Got 13 / 32 with accuracy 40.62\n"
          ],
          "name": "stdout"
        },
        {
          "output_type": "stream",
          "text": [
            "Epoch=0/2:   7%|▋         | 16/217 [02:04<25:45,  7.69s/it, acc=0.562, loss=0.69]"
          ],
          "name": "stderr"
        },
        {
          "output_type": "stream",
          "text": [
            "Got 18 / 32 with accuracy 56.25\n"
          ],
          "name": "stdout"
        },
        {
          "output_type": "stream",
          "text": [
            "Epoch=0/2:   8%|▊         | 17/217 [02:12<25:34,  7.67s/it, acc=0.469, loss=0.769]"
          ],
          "name": "stderr"
        },
        {
          "output_type": "stream",
          "text": [
            "Got 15 / 32 with accuracy 46.88\n"
          ],
          "name": "stdout"
        },
        {
          "output_type": "stream",
          "text": [
            "Epoch=0/2:   8%|▊         | 18/217 [02:19<25:21,  7.65s/it, acc=0.438, loss=0.749]"
          ],
          "name": "stderr"
        },
        {
          "output_type": "stream",
          "text": [
            "Got 14 / 32 with accuracy 43.75\n"
          ],
          "name": "stdout"
        },
        {
          "output_type": "stream",
          "text": [
            "Epoch=0/2:   9%|▉         | 19/217 [02:27<25:13,  7.64s/it, acc=0.5, loss=0.721]"
          ],
          "name": "stderr"
        },
        {
          "output_type": "stream",
          "text": [
            "Got 16 / 32 with accuracy 50.00\n"
          ],
          "name": "stdout"
        },
        {
          "output_type": "stream",
          "text": [
            "Epoch=0/2:   9%|▉         | 20/217 [02:35<25:09,  7.66s/it, acc=0.625, loss=0.657]"
          ],
          "name": "stderr"
        },
        {
          "output_type": "stream",
          "text": [
            "Got 20 / 32 with accuracy 62.50\n"
          ],
          "name": "stdout"
        },
        {
          "output_type": "stream",
          "text": [
            "Epoch=0/2:  10%|▉         | 21/217 [02:42<25:03,  7.67s/it, acc=0.469, loss=0.746]"
          ],
          "name": "stderr"
        },
        {
          "output_type": "stream",
          "text": [
            "Got 15 / 32 with accuracy 46.88\n"
          ],
          "name": "stdout"
        },
        {
          "output_type": "stream",
          "text": [
            "Epoch=0/2:  10%|█         | 22/217 [02:50<24:56,  7.68s/it, acc=0.594, loss=0.688]"
          ],
          "name": "stderr"
        },
        {
          "output_type": "stream",
          "text": [
            "Got 19 / 32 with accuracy 59.38\n"
          ],
          "name": "stdout"
        },
        {
          "output_type": "stream",
          "text": [
            "Epoch=0/2:  11%|█         | 23/217 [02:58<24:56,  7.72s/it, acc=0.625, loss=0.646]"
          ],
          "name": "stderr"
        },
        {
          "output_type": "stream",
          "text": [
            "Got 20 / 32 with accuracy 62.50\n"
          ],
          "name": "stdout"
        },
        {
          "output_type": "stream",
          "text": [
            "Epoch=0/2:  11%|█         | 24/217 [03:05<24:53,  7.74s/it, acc=0.531, loss=0.702]"
          ],
          "name": "stderr"
        },
        {
          "output_type": "stream",
          "text": [
            "Got 17 / 32 with accuracy 53.12\n"
          ],
          "name": "stdout"
        },
        {
          "output_type": "stream",
          "text": [
            "Epoch=0/2:  12%|█▏        | 25/217 [03:13<24:46,  7.74s/it, acc=0.562, loss=0.691]"
          ],
          "name": "stderr"
        },
        {
          "output_type": "stream",
          "text": [
            "Got 18 / 32 with accuracy 56.25\n"
          ],
          "name": "stdout"
        },
        {
          "output_type": "stream",
          "text": [
            "Epoch=0/2:  12%|█▏        | 26/217 [03:21<24:40,  7.75s/it, acc=0.375, loss=0.806]"
          ],
          "name": "stderr"
        },
        {
          "output_type": "stream",
          "text": [
            "Got 12 / 32 with accuracy 37.50\n"
          ],
          "name": "stdout"
        },
        {
          "output_type": "stream",
          "text": [
            "Epoch=0/2:  12%|█▏        | 27/217 [03:29<24:34,  7.76s/it, acc=0.562, loss=0.692]"
          ],
          "name": "stderr"
        },
        {
          "output_type": "stream",
          "text": [
            "Got 18 / 32 with accuracy 56.25\n"
          ],
          "name": "stdout"
        },
        {
          "output_type": "stream",
          "text": [
            "Epoch=0/2:  13%|█▎        | 28/217 [03:36<24:23,  7.75s/it, acc=0.375, loss=0.801]"
          ],
          "name": "stderr"
        },
        {
          "output_type": "stream",
          "text": [
            "Got 12 / 32 with accuracy 37.50\n"
          ],
          "name": "stdout"
        },
        {
          "output_type": "stream",
          "text": [
            "Epoch=0/2:  13%|█▎        | 29/217 [03:44<24:11,  7.72s/it, acc=0.562, loss=0.687]"
          ],
          "name": "stderr"
        },
        {
          "output_type": "stream",
          "text": [
            "Got 18 / 32 with accuracy 56.25\n"
          ],
          "name": "stdout"
        },
        {
          "output_type": "stream",
          "text": [
            "Epoch=0/2:  14%|█▍        | 30/217 [03:52<24:01,  7.71s/it, acc=0.406, loss=0.777]"
          ],
          "name": "stderr"
        },
        {
          "output_type": "stream",
          "text": [
            "Got 13 / 32 with accuracy 40.62\n"
          ],
          "name": "stdout"
        },
        {
          "output_type": "stream",
          "text": [
            "Epoch=0/2:  14%|█▍        | 31/217 [04:00<23:58,  7.74s/it, acc=0.562, loss=0.697]"
          ],
          "name": "stderr"
        },
        {
          "output_type": "stream",
          "text": [
            "Got 18 / 32 with accuracy 56.25\n"
          ],
          "name": "stdout"
        },
        {
          "output_type": "stream",
          "text": [
            "Epoch=0/2:  15%|█▍        | 32/217 [04:07<23:49,  7.72s/it, acc=0.469, loss=0.748]"
          ],
          "name": "stderr"
        },
        {
          "output_type": "stream",
          "text": [
            "Got 15 / 32 with accuracy 46.88\n"
          ],
          "name": "stdout"
        },
        {
          "output_type": "stream",
          "text": [
            "Epoch=0/2:  15%|█▌        | 33/217 [04:15<23:45,  7.75s/it, acc=0.531, loss=0.719]"
          ],
          "name": "stderr"
        },
        {
          "output_type": "stream",
          "text": [
            "Got 17 / 32 with accuracy 53.12\n"
          ],
          "name": "stdout"
        },
        {
          "output_type": "stream",
          "text": [
            "Epoch=0/2:  16%|█▌        | 34/217 [04:23<23:34,  7.73s/it, acc=0.531, loss=0.71]"
          ],
          "name": "stderr"
        },
        {
          "output_type": "stream",
          "text": [
            "Got 17 / 32 with accuracy 53.12\n"
          ],
          "name": "stdout"
        },
        {
          "output_type": "stream",
          "text": [
            "Epoch=0/2:  16%|█▌        | 35/217 [04:31<23:25,  7.72s/it, acc=0.562, loss=0.688]"
          ],
          "name": "stderr"
        },
        {
          "output_type": "stream",
          "text": [
            "Got 18 / 32 with accuracy 56.25\n"
          ],
          "name": "stdout"
        },
        {
          "output_type": "stream",
          "text": [
            "Epoch=0/2:  17%|█▋        | 36/217 [04:38<23:11,  7.69s/it, acc=0.5, loss=0.731]"
          ],
          "name": "stderr"
        },
        {
          "output_type": "stream",
          "text": [
            "Got 16 / 32 with accuracy 50.00\n"
          ],
          "name": "stdout"
        },
        {
          "output_type": "stream",
          "text": [
            "Epoch=0/2:  17%|█▋        | 37/217 [04:46<23:02,  7.68s/it, acc=0.438, loss=0.778]"
          ],
          "name": "stderr"
        },
        {
          "output_type": "stream",
          "text": [
            "Got 14 / 32 with accuracy 43.75\n"
          ],
          "name": "stdout"
        },
        {
          "output_type": "stream",
          "text": [
            "Epoch=0/2:  18%|█▊        | 38/217 [04:53<22:51,  7.66s/it, acc=0.438, loss=0.75]"
          ],
          "name": "stderr"
        },
        {
          "output_type": "stream",
          "text": [
            "Got 14 / 32 with accuracy 43.75\n"
          ],
          "name": "stdout"
        },
        {
          "output_type": "stream",
          "text": [
            "Epoch=0/2:  18%|█▊        | 39/217 [05:01<22:41,  7.65s/it, acc=0.562, loss=0.686]"
          ],
          "name": "stderr"
        },
        {
          "output_type": "stream",
          "text": [
            "Got 18 / 32 with accuracy 56.25\n"
          ],
          "name": "stdout"
        },
        {
          "output_type": "stream",
          "text": [
            "Epoch=0/2:  18%|█▊        | 40/217 [05:09<22:28,  7.62s/it, acc=0.625, loss=0.662]"
          ],
          "name": "stderr"
        },
        {
          "output_type": "stream",
          "text": [
            "Got 20 / 32 with accuracy 62.50\n"
          ],
          "name": "stdout"
        },
        {
          "output_type": "stream",
          "text": [
            "Epoch=0/2:  19%|█▉        | 41/217 [05:16<22:17,  7.60s/it, acc=0.469, loss=0.736]"
          ],
          "name": "stderr"
        },
        {
          "output_type": "stream",
          "text": [
            "Got 15 / 32 with accuracy 46.88\n"
          ],
          "name": "stdout"
        },
        {
          "output_type": "stream",
          "text": [
            "Epoch=0/2:  19%|█▉        | 42/217 [05:24<22:09,  7.60s/it, acc=0.5, loss=0.72]"
          ],
          "name": "stderr"
        },
        {
          "output_type": "stream",
          "text": [
            "Got 16 / 32 with accuracy 50.00\n"
          ],
          "name": "stdout"
        },
        {
          "output_type": "stream",
          "text": [
            "Epoch=0/2:  20%|█▉        | 43/217 [05:31<22:05,  7.62s/it, acc=0.562, loss=0.696]"
          ],
          "name": "stderr"
        },
        {
          "output_type": "stream",
          "text": [
            "Got 18 / 32 with accuracy 56.25\n"
          ],
          "name": "stdout"
        },
        {
          "output_type": "stream",
          "text": [
            "Epoch=0/2:  20%|██        | 44/217 [05:39<22:03,  7.65s/it, acc=0.531, loss=0.713]"
          ],
          "name": "stderr"
        },
        {
          "output_type": "stream",
          "text": [
            "Got 17 / 32 with accuracy 53.12\n"
          ],
          "name": "stdout"
        },
        {
          "output_type": "stream",
          "text": [
            "Epoch=0/2:  21%|██        | 45/217 [05:47<21:55,  7.65s/it, acc=0.562, loss=0.696]"
          ],
          "name": "stderr"
        },
        {
          "output_type": "stream",
          "text": [
            "Got 18 / 32 with accuracy 56.25\n"
          ],
          "name": "stdout"
        },
        {
          "output_type": "stream",
          "text": [
            "Epoch=0/2:  21%|██        | 46/217 [05:54<21:48,  7.65s/it, acc=0.531, loss=0.711]"
          ],
          "name": "stderr"
        },
        {
          "output_type": "stream",
          "text": [
            "Got 17 / 32 with accuracy 53.12\n"
          ],
          "name": "stdout"
        },
        {
          "output_type": "stream",
          "text": [
            "Epoch=0/2:  22%|██▏       | 47/217 [06:02<21:50,  7.71s/it, acc=0.562, loss=0.687]"
          ],
          "name": "stderr"
        },
        {
          "output_type": "stream",
          "text": [
            "Got 18 / 32 with accuracy 56.25\n"
          ],
          "name": "stdout"
        },
        {
          "output_type": "stream",
          "text": [
            "Epoch=0/2:  22%|██▏       | 48/217 [06:10<21:40,  7.69s/it, acc=0.469, loss=0.731]"
          ],
          "name": "stderr"
        },
        {
          "output_type": "stream",
          "text": [
            "Got 15 / 32 with accuracy 46.88\n"
          ],
          "name": "stdout"
        },
        {
          "output_type": "stream",
          "text": [
            "Epoch=0/2:  23%|██▎       | 49/217 [06:18<21:26,  7.66s/it, acc=0.5, loss=0.72]"
          ],
          "name": "stderr"
        },
        {
          "output_type": "stream",
          "text": [
            "Got 16 / 32 with accuracy 50.00\n"
          ],
          "name": "stdout"
        },
        {
          "output_type": "stream",
          "text": [
            "Epoch=0/2:  23%|██▎       | 50/217 [06:25<21:16,  7.65s/it, acc=0.531, loss=0.705]"
          ],
          "name": "stderr"
        },
        {
          "output_type": "stream",
          "text": [
            "Got 17 / 32 with accuracy 53.12\n"
          ],
          "name": "stdout"
        },
        {
          "output_type": "stream",
          "text": [
            "Epoch=0/2:  24%|██▎       | 51/217 [06:33<21:09,  7.65s/it, acc=0.562, loss=0.7]"
          ],
          "name": "stderr"
        },
        {
          "output_type": "stream",
          "text": [
            "Got 18 / 32 with accuracy 56.25\n"
          ],
          "name": "stdout"
        },
        {
          "output_type": "stream",
          "text": [
            "Epoch=0/2:  24%|██▍       | 52/217 [06:41<21:09,  7.69s/it, acc=0.469, loss=0.74]"
          ],
          "name": "stderr"
        },
        {
          "output_type": "stream",
          "text": [
            "Got 15 / 32 with accuracy 46.88\n"
          ],
          "name": "stdout"
        },
        {
          "output_type": "stream",
          "text": [
            "Epoch=0/2:  24%|██▍       | 53/217 [06:48<20:55,  7.65s/it, acc=0.594, loss=0.667]"
          ],
          "name": "stderr"
        },
        {
          "output_type": "stream",
          "text": [
            "Got 19 / 32 with accuracy 59.38\n"
          ],
          "name": "stdout"
        },
        {
          "output_type": "stream",
          "text": [
            "Epoch=0/2:  25%|██▍       | 54/217 [06:56<20:49,  7.67s/it, acc=0.5, loss=0.719]"
          ],
          "name": "stderr"
        },
        {
          "output_type": "stream",
          "text": [
            "Got 16 / 32 with accuracy 50.00\n"
          ],
          "name": "stdout"
        },
        {
          "output_type": "stream",
          "text": [
            "Epoch=0/2:  25%|██▌       | 55/217 [07:04<20:44,  7.68s/it, acc=0.531, loss=0.718]"
          ],
          "name": "stderr"
        },
        {
          "output_type": "stream",
          "text": [
            "Got 17 / 32 with accuracy 53.12\n"
          ],
          "name": "stdout"
        },
        {
          "output_type": "stream",
          "text": [
            "Epoch=0/2:  26%|██▌       | 56/217 [07:11<20:36,  7.68s/it, acc=0.531, loss=0.697]"
          ],
          "name": "stderr"
        },
        {
          "output_type": "stream",
          "text": [
            "Got 17 / 32 with accuracy 53.12\n"
          ],
          "name": "stdout"
        },
        {
          "output_type": "stream",
          "text": [
            "Epoch=0/2:  26%|██▋       | 57/217 [07:19<20:26,  7.67s/it, acc=0.562, loss=0.685]"
          ],
          "name": "stderr"
        },
        {
          "output_type": "stream",
          "text": [
            "Got 18 / 32 with accuracy 56.25\n"
          ],
          "name": "stdout"
        },
        {
          "output_type": "stream",
          "text": [
            "Epoch=0/2:  27%|██▋       | 58/217 [07:26<20:16,  7.65s/it, acc=0.469, loss=0.734]"
          ],
          "name": "stderr"
        },
        {
          "output_type": "stream",
          "text": [
            "Got 15 / 32 with accuracy 46.88\n"
          ],
          "name": "stdout"
        },
        {
          "output_type": "stream",
          "text": [
            "Epoch=0/2:  27%|██▋       | 59/217 [07:34<20:05,  7.63s/it, acc=0.656, loss=0.639]"
          ],
          "name": "stderr"
        },
        {
          "output_type": "stream",
          "text": [
            "Got 21 / 32 with accuracy 65.62\n"
          ],
          "name": "stdout"
        },
        {
          "output_type": "stream",
          "text": [
            "Epoch=0/2:  28%|██▊       | 60/217 [07:42<20:08,  7.70s/it, acc=0.531, loss=0.699]"
          ],
          "name": "stderr"
        },
        {
          "output_type": "stream",
          "text": [
            "Got 17 / 32 with accuracy 53.12\n"
          ],
          "name": "stdout"
        },
        {
          "output_type": "stream",
          "text": [
            "Epoch=0/2:  28%|██▊       | 61/217 [07:50<19:56,  7.67s/it, acc=0.375, loss=0.78]"
          ],
          "name": "stderr"
        },
        {
          "output_type": "stream",
          "text": [
            "Got 12 / 32 with accuracy 37.50\n"
          ],
          "name": "stdout"
        },
        {
          "output_type": "stream",
          "text": [
            "Epoch=0/2:  29%|██▊       | 62/217 [07:57<19:46,  7.66s/it, acc=0.562, loss=0.692]"
          ],
          "name": "stderr"
        },
        {
          "output_type": "stream",
          "text": [
            "Got 18 / 32 with accuracy 56.25\n"
          ],
          "name": "stdout"
        },
        {
          "output_type": "stream",
          "text": [
            "Epoch=0/2:  29%|██▉       | 63/217 [08:05<19:41,  7.67s/it, acc=0.562, loss=0.696]"
          ],
          "name": "stderr"
        },
        {
          "output_type": "stream",
          "text": [
            "Got 18 / 32 with accuracy 56.25\n"
          ],
          "name": "stdout"
        },
        {
          "output_type": "stream",
          "text": [
            "Epoch=0/2:  29%|██▉       | 64/217 [08:13<19:37,  7.70s/it, acc=0.562, loss=0.692]"
          ],
          "name": "stderr"
        },
        {
          "output_type": "stream",
          "text": [
            "Got 18 / 32 with accuracy 56.25\n"
          ],
          "name": "stdout"
        },
        {
          "output_type": "stream",
          "text": [
            "Epoch=0/2:  30%|██▉       | 65/217 [08:20<19:33,  7.72s/it, acc=0.531, loss=0.697]"
          ],
          "name": "stderr"
        },
        {
          "output_type": "stream",
          "text": [
            "Got 17 / 32 with accuracy 53.12\n"
          ],
          "name": "stdout"
        },
        {
          "output_type": "stream",
          "text": [
            "Epoch=0/2:  30%|███       | 66/217 [08:28<19:28,  7.74s/it, acc=0.719, loss=0.615]"
          ],
          "name": "stderr"
        },
        {
          "output_type": "stream",
          "text": [
            "Got 23 / 32 with accuracy 71.88\n"
          ],
          "name": "stdout"
        },
        {
          "output_type": "stream",
          "text": [
            "Epoch=0/2:  31%|███       | 67/217 [08:36<19:18,  7.72s/it, acc=0.438, loss=0.74]"
          ],
          "name": "stderr"
        },
        {
          "output_type": "stream",
          "text": [
            "Got 14 / 32 with accuracy 43.75\n"
          ],
          "name": "stdout"
        },
        {
          "output_type": "stream",
          "text": [
            "Epoch=0/2:  31%|███▏      | 68/217 [08:43<19:07,  7.70s/it, acc=0.5, loss=0.72]"
          ],
          "name": "stderr"
        },
        {
          "output_type": "stream",
          "text": [
            "Got 16 / 32 with accuracy 50.00\n"
          ],
          "name": "stdout"
        },
        {
          "output_type": "stream",
          "text": [
            "Epoch=0/2:  32%|███▏      | 69/217 [08:51<18:57,  7.68s/it, acc=0.5, loss=0.723]"
          ],
          "name": "stderr"
        },
        {
          "output_type": "stream",
          "text": [
            "Got 16 / 32 with accuracy 50.00\n"
          ],
          "name": "stdout"
        },
        {
          "output_type": "stream",
          "text": [
            "Epoch=0/2:  32%|███▏      | 70/217 [08:59<18:49,  7.68s/it, acc=0.594, loss=0.679]"
          ],
          "name": "stderr"
        },
        {
          "output_type": "stream",
          "text": [
            "Got 19 / 32 with accuracy 59.38\n"
          ],
          "name": "stdout"
        },
        {
          "output_type": "stream",
          "text": [
            "Epoch=0/2:  33%|███▎      | 71/217 [09:06<18:39,  7.67s/it, acc=0.406, loss=0.765]"
          ],
          "name": "stderr"
        },
        {
          "output_type": "stream",
          "text": [
            "Got 13 / 32 with accuracy 40.62\n"
          ],
          "name": "stdout"
        },
        {
          "output_type": "stream",
          "text": [
            "Epoch=0/2:  33%|███▎      | 72/217 [09:14<18:34,  7.68s/it, acc=0.344, loss=0.778]"
          ],
          "name": "stderr"
        },
        {
          "output_type": "stream",
          "text": [
            "Got 11 / 32 with accuracy 34.38\n"
          ],
          "name": "stdout"
        },
        {
          "output_type": "stream",
          "text": [
            "Epoch=0/2:  34%|███▎      | 73/217 [09:22<18:25,  7.68s/it, acc=0.562, loss=0.688]"
          ],
          "name": "stderr"
        },
        {
          "output_type": "stream",
          "text": [
            "Got 18 / 32 with accuracy 56.25\n"
          ],
          "name": "stdout"
        },
        {
          "output_type": "stream",
          "text": [
            "Epoch=0/2:  34%|███▍      | 74/217 [09:29<18:15,  7.66s/it, acc=0.438, loss=0.735]"
          ],
          "name": "stderr"
        },
        {
          "output_type": "stream",
          "text": [
            "Got 14 / 32 with accuracy 43.75\n"
          ],
          "name": "stdout"
        },
        {
          "output_type": "stream",
          "text": [
            "Epoch=0/2:  35%|███▍      | 75/217 [09:37<18:11,  7.68s/it, acc=0.344, loss=0.799]"
          ],
          "name": "stderr"
        },
        {
          "output_type": "stream",
          "text": [
            "Got 11 / 32 with accuracy 34.38\n"
          ],
          "name": "stdout"
        },
        {
          "output_type": "stream",
          "text": [
            "Epoch=0/2:  35%|███▌      | 76/217 [09:45<18:05,  7.70s/it, acc=0.594, loss=0.681]"
          ],
          "name": "stderr"
        },
        {
          "output_type": "stream",
          "text": [
            "Got 19 / 32 with accuracy 59.38\n"
          ],
          "name": "stdout"
        },
        {
          "output_type": "stream",
          "text": [
            "Epoch=0/2:  35%|███▌      | 77/217 [09:53<17:56,  7.69s/it, acc=0.344, loss=0.789]"
          ],
          "name": "stderr"
        },
        {
          "output_type": "stream",
          "text": [
            "Got 11 / 32 with accuracy 34.38\n"
          ],
          "name": "stdout"
        },
        {
          "output_type": "stream",
          "text": [
            "Epoch=0/2:  36%|███▌      | 78/217 [10:00<17:49,  7.69s/it, acc=0.469, loss=0.732]"
          ],
          "name": "stderr"
        },
        {
          "output_type": "stream",
          "text": [
            "Got 15 / 32 with accuracy 46.88\n"
          ],
          "name": "stdout"
        },
        {
          "output_type": "stream",
          "text": [
            "Epoch=0/2:  36%|███▋      | 79/217 [10:08<17:40,  7.68s/it, acc=0.625, loss=0.667]"
          ],
          "name": "stderr"
        },
        {
          "output_type": "stream",
          "text": [
            "Got 20 / 32 with accuracy 62.50\n"
          ],
          "name": "stdout"
        },
        {
          "output_type": "stream",
          "text": [
            "Epoch=0/2:  37%|███▋      | 80/217 [10:16<17:33,  7.69s/it, acc=0.625, loss=0.656]"
          ],
          "name": "stderr"
        },
        {
          "output_type": "stream",
          "text": [
            "Got 20 / 32 with accuracy 62.50\n"
          ],
          "name": "stdout"
        },
        {
          "output_type": "stream",
          "text": [
            "Epoch=0/2:  37%|███▋      | 81/217 [10:23<17:24,  7.68s/it, acc=0.562, loss=0.686]"
          ],
          "name": "stderr"
        },
        {
          "output_type": "stream",
          "text": [
            "Got 18 / 32 with accuracy 56.25\n"
          ],
          "name": "stdout"
        },
        {
          "output_type": "stream",
          "text": [
            "Epoch=0/2:  38%|███▊      | 82/217 [10:31<17:17,  7.69s/it, acc=0.656, loss=0.647]"
          ],
          "name": "stderr"
        },
        {
          "output_type": "stream",
          "text": [
            "Got 21 / 32 with accuracy 65.62\n"
          ],
          "name": "stdout"
        },
        {
          "output_type": "stream",
          "text": [
            "Epoch=0/2:  38%|███▊      | 83/217 [10:39<17:08,  7.67s/it, acc=0.5, loss=0.716]"
          ],
          "name": "stderr"
        },
        {
          "output_type": "stream",
          "text": [
            "Got 16 / 32 with accuracy 50.00\n"
          ],
          "name": "stdout"
        },
        {
          "output_type": "stream",
          "text": [
            "Epoch=0/2:  39%|███▊      | 84/217 [10:46<17:03,  7.70s/it, acc=0.625, loss=0.659]"
          ],
          "name": "stderr"
        },
        {
          "output_type": "stream",
          "text": [
            "Got 20 / 32 with accuracy 62.50\n"
          ],
          "name": "stdout"
        },
        {
          "output_type": "stream",
          "text": [
            "Epoch=0/2:  39%|███▉      | 85/217 [10:54<16:56,  7.70s/it, acc=0.5, loss=0.721]"
          ],
          "name": "stderr"
        },
        {
          "output_type": "stream",
          "text": [
            "Got 16 / 32 with accuracy 50.00\n"
          ],
          "name": "stdout"
        },
        {
          "output_type": "stream",
          "text": [
            "Epoch=0/2:  40%|███▉      | 86/217 [11:02<16:51,  7.72s/it, acc=0.656, loss=0.642]"
          ],
          "name": "stderr"
        },
        {
          "output_type": "stream",
          "text": [
            "Got 21 / 32 with accuracy 65.62\n"
          ],
          "name": "stdout"
        },
        {
          "output_type": "stream",
          "text": [
            "Epoch=0/2:  40%|████      | 87/217 [11:10<16:48,  7.76s/it, acc=0.406, loss=0.747]"
          ],
          "name": "stderr"
        },
        {
          "output_type": "stream",
          "text": [
            "Got 13 / 32 with accuracy 40.62\n"
          ],
          "name": "stdout"
        },
        {
          "output_type": "stream",
          "text": [
            "Epoch=0/2:  41%|████      | 88/217 [11:18<16:40,  7.76s/it, acc=0.5, loss=0.719]"
          ],
          "name": "stderr"
        },
        {
          "output_type": "stream",
          "text": [
            "Got 16 / 32 with accuracy 50.00\n"
          ],
          "name": "stdout"
        },
        {
          "output_type": "stream",
          "text": [
            "Epoch=0/2:  41%|████      | 89/217 [11:25<16:29,  7.73s/it, acc=0.406, loss=0.747]"
          ],
          "name": "stderr"
        },
        {
          "output_type": "stream",
          "text": [
            "Got 13 / 32 with accuracy 40.62\n"
          ],
          "name": "stdout"
        },
        {
          "output_type": "stream",
          "text": [
            "Epoch=0/2:  41%|████▏     | 90/217 [11:33<16:16,  7.69s/it, acc=0.562, loss=0.69]"
          ],
          "name": "stderr"
        },
        {
          "output_type": "stream",
          "text": [
            "Got 18 / 32 with accuracy 56.25\n"
          ],
          "name": "stdout"
        },
        {
          "output_type": "stream",
          "text": [
            "Epoch=0/2:  42%|████▏     | 91/217 [11:40<16:08,  7.69s/it, acc=0.531, loss=0.7]"
          ],
          "name": "stderr"
        },
        {
          "output_type": "stream",
          "text": [
            "Got 17 / 32 with accuracy 53.12\n"
          ],
          "name": "stdout"
        },
        {
          "output_type": "stream",
          "text": [
            "Epoch=0/2:  42%|████▏     | 92/217 [11:48<16:03,  7.71s/it, acc=0.469, loss=0.723]"
          ],
          "name": "stderr"
        },
        {
          "output_type": "stream",
          "text": [
            "Got 15 / 32 with accuracy 46.88\n"
          ],
          "name": "stdout"
        },
        {
          "output_type": "stream",
          "text": [
            "Epoch=0/2:  43%|████▎     | 93/217 [11:56<15:55,  7.70s/it, acc=0.594, loss=0.674]"
          ],
          "name": "stderr"
        },
        {
          "output_type": "stream",
          "text": [
            "Got 19 / 32 with accuracy 59.38\n"
          ],
          "name": "stdout"
        },
        {
          "output_type": "stream",
          "text": [
            "Epoch=0/2:  43%|████▎     | 94/217 [12:04<15:49,  7.72s/it, acc=0.5, loss=0.714]"
          ],
          "name": "stderr"
        },
        {
          "output_type": "stream",
          "text": [
            "Got 16 / 32 with accuracy 50.00\n"
          ],
          "name": "stdout"
        },
        {
          "output_type": "stream",
          "text": [
            "Epoch=0/2:  44%|████▍     | 95/217 [12:11<15:42,  7.72s/it, acc=0.625, loss=0.659]"
          ],
          "name": "stderr"
        },
        {
          "output_type": "stream",
          "text": [
            "Got 20 / 32 with accuracy 62.50\n"
          ],
          "name": "stdout"
        },
        {
          "output_type": "stream",
          "text": [
            "Epoch=0/2:  44%|████▍     | 96/217 [12:19<15:37,  7.75s/it, acc=0.594, loss=0.681]"
          ],
          "name": "stderr"
        },
        {
          "output_type": "stream",
          "text": [
            "Got 19 / 32 with accuracy 59.38\n"
          ],
          "name": "stdout"
        },
        {
          "output_type": "stream",
          "text": [
            "Epoch=0/2:  45%|████▍     | 97/217 [12:27<15:30,  7.76s/it, acc=0.562, loss=0.692]"
          ],
          "name": "stderr"
        },
        {
          "output_type": "stream",
          "text": [
            "Got 18 / 32 with accuracy 56.25\n"
          ],
          "name": "stdout"
        },
        {
          "output_type": "stream",
          "text": [
            "Epoch=0/2:  45%|████▌     | 98/217 [12:35<15:23,  7.76s/it, acc=0.531, loss=0.713]"
          ],
          "name": "stderr"
        },
        {
          "output_type": "stream",
          "text": [
            "Got 17 / 32 with accuracy 53.12\n"
          ],
          "name": "stdout"
        },
        {
          "output_type": "stream",
          "text": [
            "Epoch=0/2:  46%|████▌     | 99/217 [12:43<15:17,  7.78s/it, acc=0.5, loss=0.694]"
          ],
          "name": "stderr"
        },
        {
          "output_type": "stream",
          "text": [
            "Got 16 / 32 with accuracy 50.00\n"
          ],
          "name": "stdout"
        },
        {
          "output_type": "stream",
          "text": [
            "Epoch=0/2:  46%|████▌     | 100/217 [12:50<15:07,  7.76s/it, acc=0.438, loss=0.731]"
          ],
          "name": "stderr"
        },
        {
          "output_type": "stream",
          "text": [
            "Got 14 / 32 with accuracy 43.75\n"
          ],
          "name": "stdout"
        },
        {
          "output_type": "stream",
          "text": [
            "Epoch=0/2:  47%|████▋     | 101/217 [12:58<14:59,  7.75s/it, acc=0.438, loss=0.741]"
          ],
          "name": "stderr"
        },
        {
          "output_type": "stream",
          "text": [
            "Got 14 / 32 with accuracy 43.75\n"
          ],
          "name": "stdout"
        },
        {
          "output_type": "stream",
          "text": [
            "Epoch=0/2:  47%|████▋     | 102/217 [13:06<14:49,  7.73s/it, acc=0.531, loss=0.7]"
          ],
          "name": "stderr"
        },
        {
          "output_type": "stream",
          "text": [
            "Got 17 / 32 with accuracy 53.12\n"
          ],
          "name": "stdout"
        },
        {
          "output_type": "stream",
          "text": [
            "Epoch=0/2:  47%|████▋     | 103/217 [13:13<14:39,  7.72s/it, acc=0.75, loss=0.597]"
          ],
          "name": "stderr"
        },
        {
          "output_type": "stream",
          "text": [
            "Got 24 / 32 with accuracy 75.00\n"
          ],
          "name": "stdout"
        },
        {
          "output_type": "stream",
          "text": [
            "Epoch=0/2:  48%|████▊     | 104/217 [13:21<14:31,  7.71s/it, acc=0.531, loss=0.713]"
          ],
          "name": "stderr"
        },
        {
          "output_type": "stream",
          "text": [
            "Got 17 / 32 with accuracy 53.12\n"
          ],
          "name": "stdout"
        },
        {
          "output_type": "stream",
          "text": [
            "Epoch=0/2:  48%|████▊     | 105/217 [13:29<14:26,  7.74s/it, acc=0.625, loss=0.661]"
          ],
          "name": "stderr"
        },
        {
          "output_type": "stream",
          "text": [
            "Got 20 / 32 with accuracy 62.50\n"
          ],
          "name": "stdout"
        },
        {
          "output_type": "stream",
          "text": [
            "Epoch=0/2:  49%|████▉     | 106/217 [13:37<14:19,  7.74s/it, acc=0.531, loss=0.691]"
          ],
          "name": "stderr"
        },
        {
          "output_type": "stream",
          "text": [
            "Got 17 / 32 with accuracy 53.12\n"
          ],
          "name": "stdout"
        },
        {
          "output_type": "stream",
          "text": [
            "Epoch=0/2:  49%|████▉     | 107/217 [13:44<14:10,  7.73s/it, acc=0.5, loss=0.71]"
          ],
          "name": "stderr"
        },
        {
          "output_type": "stream",
          "text": [
            "Got 16 / 32 with accuracy 50.00\n"
          ],
          "name": "stdout"
        },
        {
          "output_type": "stream",
          "text": [
            "Epoch=0/2:  50%|████▉     | 108/217 [13:52<14:01,  7.72s/it, acc=0.5, loss=0.717]"
          ],
          "name": "stderr"
        },
        {
          "output_type": "stream",
          "text": [
            "Got 16 / 32 with accuracy 50.00\n"
          ],
          "name": "stdout"
        },
        {
          "output_type": "stream",
          "text": [
            "Epoch=0/2:  50%|█████     | 109/217 [14:00<13:54,  7.72s/it, acc=0.406, loss=0.749]"
          ],
          "name": "stderr"
        },
        {
          "output_type": "stream",
          "text": [
            "Got 13 / 32 with accuracy 40.62\n"
          ],
          "name": "stdout"
        },
        {
          "output_type": "stream",
          "text": [
            "Epoch=0/2:  51%|█████     | 110/217 [14:07<13:42,  7.69s/it, acc=0.406, loss=0.757]"
          ],
          "name": "stderr"
        },
        {
          "output_type": "stream",
          "text": [
            "Got 13 / 32 with accuracy 40.62\n"
          ],
          "name": "stdout"
        },
        {
          "output_type": "stream",
          "text": [
            "Epoch=0/2:  51%|█████     | 111/217 [14:15<13:33,  7.67s/it, acc=0.469, loss=0.71]"
          ],
          "name": "stderr"
        },
        {
          "output_type": "stream",
          "text": [
            "Got 15 / 32 with accuracy 46.88\n"
          ],
          "name": "stdout"
        },
        {
          "output_type": "stream",
          "text": [
            "Epoch=0/2:  52%|█████▏    | 112/217 [14:23<13:22,  7.64s/it, acc=0.469, loss=0.723]"
          ],
          "name": "stderr"
        },
        {
          "output_type": "stream",
          "text": [
            "Got 15 / 32 with accuracy 46.88\n"
          ],
          "name": "stdout"
        },
        {
          "output_type": "stream",
          "text": [
            "Epoch=0/2:  52%|█████▏    | 113/217 [14:30<13:15,  7.65s/it, acc=0.5, loss=0.705]"
          ],
          "name": "stderr"
        },
        {
          "output_type": "stream",
          "text": [
            "Got 16 / 32 with accuracy 50.00\n"
          ],
          "name": "stdout"
        },
        {
          "output_type": "stream",
          "text": [
            "Epoch=0/2:  53%|█████▎    | 114/217 [14:38<13:06,  7.64s/it, acc=0.562, loss=0.683]"
          ],
          "name": "stderr"
        },
        {
          "output_type": "stream",
          "text": [
            "Got 18 / 32 with accuracy 56.25\n"
          ],
          "name": "stdout"
        },
        {
          "output_type": "stream",
          "text": [
            "Epoch=0/2:  53%|█████▎    | 115/217 [14:46<12:59,  7.64s/it, acc=0.531, loss=0.694]"
          ],
          "name": "stderr"
        },
        {
          "output_type": "stream",
          "text": [
            "Got 17 / 32 with accuracy 53.12\n"
          ],
          "name": "stdout"
        },
        {
          "output_type": "stream",
          "text": [
            "Epoch=0/2:  53%|█████▎    | 116/217 [14:53<12:51,  7.64s/it, acc=0.594, loss=0.668]"
          ],
          "name": "stderr"
        },
        {
          "output_type": "stream",
          "text": [
            "Got 19 / 32 with accuracy 59.38\n"
          ],
          "name": "stdout"
        },
        {
          "output_type": "stream",
          "text": [
            "Epoch=0/2:  54%|█████▍    | 117/217 [15:01<12:49,  7.69s/it, acc=0.438, loss=0.729]"
          ],
          "name": "stderr"
        },
        {
          "output_type": "stream",
          "text": [
            "Got 14 / 32 with accuracy 43.75\n"
          ],
          "name": "stdout"
        },
        {
          "output_type": "stream",
          "text": [
            "Epoch=0/2:  54%|█████▍    | 118/217 [15:09<12:41,  7.69s/it, acc=0.656, loss=0.648]"
          ],
          "name": "stderr"
        },
        {
          "output_type": "stream",
          "text": [
            "Got 21 / 32 with accuracy 65.62\n"
          ],
          "name": "stdout"
        },
        {
          "output_type": "stream",
          "text": [
            "Epoch=0/2:  55%|█████▍    | 119/217 [15:16<12:32,  7.68s/it, acc=0.469, loss=0.72]"
          ],
          "name": "stderr"
        },
        {
          "output_type": "stream",
          "text": [
            "Got 15 / 32 with accuracy 46.88\n"
          ],
          "name": "stdout"
        },
        {
          "output_type": "stream",
          "text": [
            "Epoch=0/2:  55%|█████▌    | 120/217 [15:24<12:22,  7.66s/it, acc=0.469, loss=0.704]"
          ],
          "name": "stderr"
        },
        {
          "output_type": "stream",
          "text": [
            "Got 15 / 32 with accuracy 46.88\n"
          ],
          "name": "stdout"
        },
        {
          "output_type": "stream",
          "text": [
            "Epoch=0/2:  56%|█████▌    | 121/217 [15:32<12:15,  7.66s/it, acc=0.469, loss=0.716]"
          ],
          "name": "stderr"
        },
        {
          "output_type": "stream",
          "text": [
            "Got 15 / 32 with accuracy 46.88\n"
          ],
          "name": "stdout"
        },
        {
          "output_type": "stream",
          "text": [
            "Epoch=0/2:  56%|█████▌    | 122/217 [15:39<12:07,  7.65s/it, acc=0.344, loss=0.784]"
          ],
          "name": "stderr"
        },
        {
          "output_type": "stream",
          "text": [
            "Got 11 / 32 with accuracy 34.38\n"
          ],
          "name": "stdout"
        },
        {
          "output_type": "stream",
          "text": [
            "Epoch=0/2:  57%|█████▋    | 123/217 [15:47<11:57,  7.63s/it, acc=0.5, loss=0.692]"
          ],
          "name": "stderr"
        },
        {
          "output_type": "stream",
          "text": [
            "Got 16 / 32 with accuracy 50.00\n"
          ],
          "name": "stdout"
        },
        {
          "output_type": "stream",
          "text": [
            "Epoch=0/2:  57%|█████▋    | 124/217 [15:54<11:47,  7.61s/it, acc=0.594, loss=0.667]"
          ],
          "name": "stderr"
        },
        {
          "output_type": "stream",
          "text": [
            "Got 19 / 32 with accuracy 59.38\n"
          ],
          "name": "stdout"
        },
        {
          "output_type": "stream",
          "text": [
            "Epoch=0/2:  58%|█████▊    | 125/217 [16:02<11:39,  7.61s/it, acc=0.469, loss=0.733]"
          ],
          "name": "stderr"
        },
        {
          "output_type": "stream",
          "text": [
            "Got 15 / 32 with accuracy 46.88\n"
          ],
          "name": "stdout"
        },
        {
          "output_type": "stream",
          "text": [
            "Epoch=0/2:  58%|█████▊    | 126/217 [16:10<11:33,  7.62s/it, acc=0.531, loss=0.691]"
          ],
          "name": "stderr"
        },
        {
          "output_type": "stream",
          "text": [
            "Got 17 / 32 with accuracy 53.12\n"
          ],
          "name": "stdout"
        },
        {
          "output_type": "stream",
          "text": [
            "Epoch=0/2:  59%|█████▊    | 127/217 [16:17<11:31,  7.69s/it, acc=0.656, loss=0.666]"
          ],
          "name": "stderr"
        },
        {
          "output_type": "stream",
          "text": [
            "Got 21 / 32 with accuracy 65.62\n"
          ],
          "name": "stdout"
        },
        {
          "output_type": "stream",
          "text": [
            "Epoch=0/2:  59%|█████▉    | 128/217 [16:25<11:27,  7.73s/it, acc=0.5, loss=0.706]"
          ],
          "name": "stderr"
        },
        {
          "output_type": "stream",
          "text": [
            "Got 16 / 32 with accuracy 50.00\n"
          ],
          "name": "stdout"
        },
        {
          "output_type": "stream",
          "text": [
            "Epoch=0/2:  59%|█████▉    | 129/217 [16:33<11:19,  7.72s/it, acc=0.531, loss=0.693]"
          ],
          "name": "stderr"
        },
        {
          "output_type": "stream",
          "text": [
            "Got 17 / 32 with accuracy 53.12\n"
          ],
          "name": "stdout"
        },
        {
          "output_type": "stream",
          "text": [
            "Epoch=0/2:  60%|█████▉    | 130/217 [16:41<11:09,  7.70s/it, acc=0.438, loss=0.728]"
          ],
          "name": "stderr"
        },
        {
          "output_type": "stream",
          "text": [
            "Got 14 / 32 with accuracy 43.75\n"
          ],
          "name": "stdout"
        },
        {
          "output_type": "stream",
          "text": [
            "Epoch=0/2:  60%|██████    | 131/217 [16:48<11:01,  7.69s/it, acc=0.5, loss=0.699]"
          ],
          "name": "stderr"
        },
        {
          "output_type": "stream",
          "text": [
            "Got 16 / 32 with accuracy 50.00\n"
          ],
          "name": "stdout"
        },
        {
          "output_type": "stream",
          "text": [
            "Epoch=0/2:  61%|██████    | 132/217 [16:56<10:50,  7.66s/it, acc=0.625, loss=0.674]"
          ],
          "name": "stderr"
        },
        {
          "output_type": "stream",
          "text": [
            "Got 20 / 32 with accuracy 62.50\n"
          ],
          "name": "stdout"
        },
        {
          "output_type": "stream",
          "text": [
            "Epoch=0/2:  61%|██████▏   | 133/217 [17:04<10:45,  7.68s/it, acc=0.375, loss=0.748]"
          ],
          "name": "stderr"
        },
        {
          "output_type": "stream",
          "text": [
            "Got 12 / 32 with accuracy 37.50\n"
          ],
          "name": "stdout"
        },
        {
          "output_type": "stream",
          "text": [
            "Epoch=0/2:  62%|██████▏   | 134/217 [17:11<10:37,  7.68s/it, acc=0.531, loss=0.695]"
          ],
          "name": "stderr"
        },
        {
          "output_type": "stream",
          "text": [
            "Got 17 / 32 with accuracy 53.12\n"
          ],
          "name": "stdout"
        },
        {
          "output_type": "stream",
          "text": [
            "Epoch=0/2:  62%|██████▏   | 135/217 [17:19<10:30,  7.69s/it, acc=0.5, loss=0.71]"
          ],
          "name": "stderr"
        },
        {
          "output_type": "stream",
          "text": [
            "Got 16 / 32 with accuracy 50.00\n"
          ],
          "name": "stdout"
        },
        {
          "output_type": "stream",
          "text": [
            "Epoch=0/2:  63%|██████▎   | 136/217 [17:27<10:23,  7.70s/it, acc=0.594, loss=0.678]"
          ],
          "name": "stderr"
        },
        {
          "output_type": "stream",
          "text": [
            "Got 19 / 32 with accuracy 59.38\n"
          ],
          "name": "stdout"
        },
        {
          "output_type": "stream",
          "text": [
            "Epoch=0/2:  63%|██████▎   | 137/217 [17:34<10:15,  7.70s/it, acc=0.594, loss=0.667]"
          ],
          "name": "stderr"
        },
        {
          "output_type": "stream",
          "text": [
            "Got 19 / 32 with accuracy 59.38\n"
          ],
          "name": "stdout"
        },
        {
          "output_type": "stream",
          "text": [
            "Epoch=0/2:  64%|██████▎   | 138/217 [17:42<10:09,  7.72s/it, acc=0.5, loss=0.695]"
          ],
          "name": "stderr"
        },
        {
          "output_type": "stream",
          "text": [
            "Got 16 / 32 with accuracy 50.00\n"
          ],
          "name": "stdout"
        },
        {
          "output_type": "stream",
          "text": [
            "Epoch=0/2:  64%|██████▍   | 139/217 [17:50<10:06,  7.77s/it, acc=0.469, loss=0.706]"
          ],
          "name": "stderr"
        },
        {
          "output_type": "stream",
          "text": [
            "Got 15 / 32 with accuracy 46.88\n"
          ],
          "name": "stdout"
        },
        {
          "output_type": "stream",
          "text": [
            "Epoch=0/2:  65%|██████▍   | 140/217 [17:58<09:56,  7.75s/it, acc=0.469, loss=0.705]"
          ],
          "name": "stderr"
        },
        {
          "output_type": "stream",
          "text": [
            "Got 15 / 32 with accuracy 46.88\n"
          ],
          "name": "stdout"
        },
        {
          "output_type": "stream",
          "text": [
            "Epoch=0/2:  65%|██████▍   | 141/217 [18:06<09:49,  7.75s/it, acc=0.5, loss=0.712]"
          ],
          "name": "stderr"
        },
        {
          "output_type": "stream",
          "text": [
            "Got 16 / 32 with accuracy 50.00\n"
          ],
          "name": "stdout"
        },
        {
          "output_type": "stream",
          "text": [
            "Epoch=0/2:  65%|██████▌   | 142/217 [18:13<09:40,  7.74s/it, acc=0.656, loss=0.66]"
          ],
          "name": "stderr"
        },
        {
          "output_type": "stream",
          "text": [
            "Got 21 / 32 with accuracy 65.62\n"
          ],
          "name": "stdout"
        },
        {
          "output_type": "stream",
          "text": [
            "Epoch=0/2:  66%|██████▌   | 143/217 [18:21<09:31,  7.72s/it, acc=0.344, loss=0.754]"
          ],
          "name": "stderr"
        },
        {
          "output_type": "stream",
          "text": [
            "Got 11 / 32 with accuracy 34.38\n"
          ],
          "name": "stdout"
        },
        {
          "output_type": "stream",
          "text": [
            "Epoch=0/2:  66%|██████▋   | 144/217 [18:29<09:24,  7.73s/it, acc=0.5, loss=0.702]"
          ],
          "name": "stderr"
        },
        {
          "output_type": "stream",
          "text": [
            "Got 16 / 32 with accuracy 50.00\n"
          ],
          "name": "stdout"
        },
        {
          "output_type": "stream",
          "text": [
            "Epoch=0/2:  67%|██████▋   | 145/217 [18:36<09:17,  7.75s/it, acc=0.375, loss=0.749]"
          ],
          "name": "stderr"
        },
        {
          "output_type": "stream",
          "text": [
            "Got 12 / 32 with accuracy 37.50\n"
          ],
          "name": "stdout"
        },
        {
          "output_type": "stream",
          "text": [
            "Epoch=0/2:  67%|██████▋   | 146/217 [18:44<09:11,  7.77s/it, acc=0.75, loss=0.625]"
          ],
          "name": "stderr"
        },
        {
          "output_type": "stream",
          "text": [
            "Got 24 / 32 with accuracy 75.00\n"
          ],
          "name": "stdout"
        },
        {
          "output_type": "stream",
          "text": [
            "Epoch=0/2:  68%|██████▊   | 147/217 [18:52<09:03,  7.76s/it, acc=0.5, loss=0.701]"
          ],
          "name": "stderr"
        },
        {
          "output_type": "stream",
          "text": [
            "Got 16 / 32 with accuracy 50.00\n"
          ],
          "name": "stdout"
        },
        {
          "output_type": "stream",
          "text": [
            "Epoch=0/2:  68%|██████▊   | 148/217 [19:00<08:54,  7.75s/it, acc=0.5, loss=0.685]"
          ],
          "name": "stderr"
        },
        {
          "output_type": "stream",
          "text": [
            "Got 16 / 32 with accuracy 50.00\n"
          ],
          "name": "stdout"
        },
        {
          "output_type": "stream",
          "text": [
            "Epoch=0/2:  69%|██████▊   | 149/217 [19:08<08:47,  7.75s/it, acc=0.438, loss=0.705]"
          ],
          "name": "stderr"
        },
        {
          "output_type": "stream",
          "text": [
            "Got 14 / 32 with accuracy 43.75\n"
          ],
          "name": "stdout"
        },
        {
          "output_type": "stream",
          "text": [
            "Epoch=0/2:  69%|██████▉   | 150/217 [19:15<08:38,  7.74s/it, acc=0.5, loss=0.709]"
          ],
          "name": "stderr"
        },
        {
          "output_type": "stream",
          "text": [
            "Got 16 / 32 with accuracy 50.00\n"
          ],
          "name": "stdout"
        },
        {
          "output_type": "stream",
          "text": [
            "Epoch=0/2:  70%|██████▉   | 151/217 [19:23<08:29,  7.72s/it, acc=0.594, loss=0.675]"
          ],
          "name": "stderr"
        },
        {
          "output_type": "stream",
          "text": [
            "Got 19 / 32 with accuracy 59.38\n"
          ],
          "name": "stdout"
        },
        {
          "output_type": "stream",
          "text": [
            "Epoch=0/2:  70%|███████   | 152/217 [19:31<08:21,  7.71s/it, acc=0.406, loss=0.72]"
          ],
          "name": "stderr"
        },
        {
          "output_type": "stream",
          "text": [
            "Got 13 / 32 with accuracy 40.62\n"
          ],
          "name": "stdout"
        },
        {
          "output_type": "stream",
          "text": [
            "Epoch=0/2:  71%|███████   | 153/217 [19:38<08:13,  7.71s/it, acc=0.562, loss=0.676]"
          ],
          "name": "stderr"
        },
        {
          "output_type": "stream",
          "text": [
            "Got 18 / 32 with accuracy 56.25\n"
          ],
          "name": "stdout"
        },
        {
          "output_type": "stream",
          "text": [
            "Epoch=0/2:  71%|███████   | 154/217 [19:46<08:06,  7.72s/it, acc=0.5, loss=0.69]"
          ],
          "name": "stderr"
        },
        {
          "output_type": "stream",
          "text": [
            "Got 16 / 32 with accuracy 50.00\n"
          ],
          "name": "stdout"
        },
        {
          "output_type": "stream",
          "text": [
            "Epoch=0/2:  71%|███████▏  | 155/217 [19:54<07:59,  7.73s/it, acc=0.656, loss=0.655]"
          ],
          "name": "stderr"
        },
        {
          "output_type": "stream",
          "text": [
            "Got 21 / 32 with accuracy 65.62\n"
          ],
          "name": "stdout"
        },
        {
          "output_type": "stream",
          "text": [
            "Epoch=0/2:  72%|███████▏  | 156/217 [20:02<07:52,  7.74s/it, acc=0.625, loss=0.674]"
          ],
          "name": "stderr"
        },
        {
          "output_type": "stream",
          "text": [
            "Got 20 / 32 with accuracy 62.50\n"
          ],
          "name": "stdout"
        },
        {
          "output_type": "stream",
          "text": [
            "Epoch=0/2:  72%|███████▏  | 157/217 [20:09<07:44,  7.74s/it, acc=0.625, loss=0.666]"
          ],
          "name": "stderr"
        },
        {
          "output_type": "stream",
          "text": [
            "Got 20 / 32 with accuracy 62.50\n"
          ],
          "name": "stdout"
        },
        {
          "output_type": "stream",
          "text": [
            "Epoch=0/2:  73%|███████▎  | 158/217 [20:17<07:37,  7.75s/it, acc=0.625, loss=0.672]"
          ],
          "name": "stderr"
        },
        {
          "output_type": "stream",
          "text": [
            "Got 20 / 32 with accuracy 62.50\n"
          ],
          "name": "stdout"
        },
        {
          "output_type": "stream",
          "text": [
            "Epoch=0/2:  73%|███████▎  | 159/217 [20:25<07:30,  7.76s/it, acc=0.594, loss=0.682]"
          ],
          "name": "stderr"
        },
        {
          "output_type": "stream",
          "text": [
            "Got 19 / 32 with accuracy 59.38\n"
          ],
          "name": "stdout"
        },
        {
          "output_type": "stream",
          "text": [
            "Epoch=0/2:  74%|███████▎  | 160/217 [20:33<07:20,  7.73s/it, acc=0.562, loss=0.685]"
          ],
          "name": "stderr"
        },
        {
          "output_type": "stream",
          "text": [
            "Got 18 / 32 with accuracy 56.25\n"
          ],
          "name": "stdout"
        },
        {
          "output_type": "stream",
          "text": [
            "Epoch=0/2:  74%|███████▍  | 161/217 [20:40<07:13,  7.73s/it, acc=0.625, loss=0.659]"
          ],
          "name": "stderr"
        },
        {
          "output_type": "stream",
          "text": [
            "Got 20 / 32 with accuracy 62.50\n"
          ],
          "name": "stdout"
        },
        {
          "output_type": "stream",
          "text": [
            "Epoch=0/2:  75%|███████▍  | 162/217 [20:48<07:05,  7.73s/it, acc=0.438, loss=0.723]"
          ],
          "name": "stderr"
        },
        {
          "output_type": "stream",
          "text": [
            "Got 14 / 32 with accuracy 43.75\n"
          ],
          "name": "stdout"
        },
        {
          "output_type": "stream",
          "text": [
            "Epoch=0/2:  75%|███████▌  | 163/217 [20:56<06:57,  7.74s/it, acc=0.594, loss=0.674]"
          ],
          "name": "stderr"
        },
        {
          "output_type": "stream",
          "text": [
            "Got 19 / 32 with accuracy 59.38\n"
          ],
          "name": "stdout"
        },
        {
          "output_type": "stream",
          "text": [
            "Epoch=0/2:  76%|███████▌  | 164/217 [21:03<06:50,  7.74s/it, acc=0.625, loss=0.662]"
          ],
          "name": "stderr"
        },
        {
          "output_type": "stream",
          "text": [
            "Got 20 / 32 with accuracy 62.50\n"
          ],
          "name": "stdout"
        },
        {
          "output_type": "stream",
          "text": [
            "Epoch=0/2:  76%|███████▌  | 165/217 [21:11<06:43,  7.77s/it, acc=0.688, loss=0.626]"
          ],
          "name": "stderr"
        },
        {
          "output_type": "stream",
          "text": [
            "Got 22 / 32 with accuracy 68.75\n"
          ],
          "name": "stdout"
        },
        {
          "output_type": "stream",
          "text": [
            "Epoch=0/2:  76%|███████▋  | 166/217 [21:19<06:36,  7.76s/it, acc=0.5, loss=0.718]"
          ],
          "name": "stderr"
        },
        {
          "output_type": "stream",
          "text": [
            "Got 16 / 32 with accuracy 50.00\n"
          ],
          "name": "stdout"
        },
        {
          "output_type": "stream",
          "text": [
            "Epoch=0/2:  77%|███████▋  | 167/217 [21:27<06:29,  7.79s/it, acc=0.438, loss=0.729]"
          ],
          "name": "stderr"
        },
        {
          "output_type": "stream",
          "text": [
            "Got 14 / 32 with accuracy 43.75\n"
          ],
          "name": "stdout"
        },
        {
          "output_type": "stream",
          "text": [
            "Epoch=0/2:  77%|███████▋  | 168/217 [21:35<06:23,  7.82s/it, acc=0.625, loss=0.666]"
          ],
          "name": "stderr"
        },
        {
          "output_type": "stream",
          "text": [
            "Got 20 / 32 with accuracy 62.50\n"
          ],
          "name": "stdout"
        },
        {
          "output_type": "stream",
          "text": [
            "Epoch=0/2:  78%|███████▊  | 169/217 [21:43<06:14,  7.81s/it, acc=0.375, loss=0.747]"
          ],
          "name": "stderr"
        },
        {
          "output_type": "stream",
          "text": [
            "Got 12 / 32 with accuracy 37.50\n"
          ],
          "name": "stdout"
        },
        {
          "output_type": "stream",
          "text": [
            "Epoch=0/2:  78%|███████▊  | 170/217 [21:51<06:09,  7.87s/it, acc=0.5, loss=0.707]"
          ],
          "name": "stderr"
        },
        {
          "output_type": "stream",
          "text": [
            "Got 16 / 32 with accuracy 50.00\n"
          ],
          "name": "stdout"
        },
        {
          "output_type": "stream",
          "text": [
            "Epoch=0/2:  79%|███████▉  | 171/217 [21:59<06:03,  7.90s/it, acc=0.438, loss=0.726]"
          ],
          "name": "stderr"
        },
        {
          "output_type": "stream",
          "text": [
            "Got 14 / 32 with accuracy 43.75\n"
          ],
          "name": "stdout"
        },
        {
          "output_type": "stream",
          "text": [
            "Epoch=0/2:  79%|███████▉  | 172/217 [22:07<05:56,  7.92s/it, acc=0.344, loss=0.75]"
          ],
          "name": "stderr"
        },
        {
          "output_type": "stream",
          "text": [
            "Got 11 / 32 with accuracy 34.38\n"
          ],
          "name": "stdout"
        },
        {
          "output_type": "stream",
          "text": [
            "Epoch=0/2:  80%|███████▉  | 173/217 [22:14<05:48,  7.93s/it, acc=0.625, loss=0.672]"
          ],
          "name": "stderr"
        },
        {
          "output_type": "stream",
          "text": [
            "Got 20 / 32 with accuracy 62.50\n"
          ],
          "name": "stdout"
        },
        {
          "output_type": "stream",
          "text": [
            "Epoch=0/2:  80%|████████  | 174/217 [22:22<05:41,  7.94s/it, acc=0.469, loss=0.695]"
          ],
          "name": "stderr"
        },
        {
          "output_type": "stream",
          "text": [
            "Got 15 / 32 with accuracy 46.88\n"
          ],
          "name": "stdout"
        },
        {
          "output_type": "stream",
          "text": [
            "Epoch=0/2:  81%|████████  | 175/217 [22:30<05:33,  7.94s/it, acc=0.438, loss=0.707]"
          ],
          "name": "stderr"
        },
        {
          "output_type": "stream",
          "text": [
            "Got 14 / 32 with accuracy 43.75\n"
          ],
          "name": "stdout"
        },
        {
          "output_type": "stream",
          "text": [
            "Epoch=0/2:  81%|████████  | 176/217 [22:38<05:24,  7.92s/it, acc=0.5, loss=0.701]"
          ],
          "name": "stderr"
        },
        {
          "output_type": "stream",
          "text": [
            "Got 16 / 32 with accuracy 50.00\n"
          ],
          "name": "stdout"
        },
        {
          "output_type": "stream",
          "text": [
            "Epoch=0/2:  82%|████████▏ | 177/217 [22:46<05:15,  7.90s/it, acc=0.719, loss=0.631]"
          ],
          "name": "stderr"
        },
        {
          "output_type": "stream",
          "text": [
            "Got 23 / 32 with accuracy 71.88\n"
          ],
          "name": "stdout"
        },
        {
          "output_type": "stream",
          "text": [
            "Epoch=0/2:  82%|████████▏ | 178/217 [22:54<05:08,  7.90s/it, acc=0.562, loss=0.697]"
          ],
          "name": "stderr"
        },
        {
          "output_type": "stream",
          "text": [
            "Got 18 / 32 with accuracy 56.25\n"
          ],
          "name": "stdout"
        },
        {
          "output_type": "stream",
          "text": [
            "Epoch=0/2:  82%|████████▏ | 179/217 [23:02<05:00,  7.92s/it, acc=0.438, loss=0.727]"
          ],
          "name": "stderr"
        },
        {
          "output_type": "stream",
          "text": [
            "Got 14 / 32 with accuracy 43.75\n"
          ],
          "name": "stdout"
        },
        {
          "output_type": "stream",
          "text": [
            "Epoch=0/2:  83%|████████▎ | 180/217 [23:10<04:52,  7.91s/it, acc=0.5, loss=0.698]"
          ],
          "name": "stderr"
        },
        {
          "output_type": "stream",
          "text": [
            "Got 16 / 32 with accuracy 50.00\n"
          ],
          "name": "stdout"
        },
        {
          "output_type": "stream",
          "text": [
            "Epoch=0/2:  83%|████████▎ | 181/217 [23:18<04:43,  7.88s/it, acc=0.656, loss=0.672]"
          ],
          "name": "stderr"
        },
        {
          "output_type": "stream",
          "text": [
            "Got 21 / 32 with accuracy 65.62\n"
          ],
          "name": "stdout"
        },
        {
          "output_type": "stream",
          "text": [
            "Epoch=0/2:  84%|████████▍ | 182/217 [23:26<04:35,  7.87s/it, acc=0.438, loss=0.72]"
          ],
          "name": "stderr"
        },
        {
          "output_type": "stream",
          "text": [
            "Got 14 / 32 with accuracy 43.75\n"
          ],
          "name": "stdout"
        },
        {
          "output_type": "stream",
          "text": [
            "Epoch=0/2:  84%|████████▍ | 183/217 [23:33<04:27,  7.87s/it, acc=0.469, loss=0.714]"
          ],
          "name": "stderr"
        },
        {
          "output_type": "stream",
          "text": [
            "Got 15 / 32 with accuracy 46.88\n"
          ],
          "name": "stdout"
        },
        {
          "output_type": "stream",
          "text": [
            "Epoch=0/2:  85%|████████▍ | 184/217 [23:41<04:18,  7.82s/it, acc=0.656, loss=0.657]"
          ],
          "name": "stderr"
        },
        {
          "output_type": "stream",
          "text": [
            "Got 21 / 32 with accuracy 65.62\n"
          ],
          "name": "stdout"
        },
        {
          "output_type": "stream",
          "text": [
            "Epoch=0/2:  85%|████████▌ | 185/217 [23:49<04:08,  7.78s/it, acc=0.469, loss=0.719]"
          ],
          "name": "stderr"
        },
        {
          "output_type": "stream",
          "text": [
            "Got 15 / 32 with accuracy 46.88\n"
          ],
          "name": "stdout"
        },
        {
          "output_type": "stream",
          "text": [
            "Epoch=0/2:  86%|████████▌ | 186/217 [23:57<04:00,  7.76s/it, acc=0.469, loss=0.714]"
          ],
          "name": "stderr"
        },
        {
          "output_type": "stream",
          "text": [
            "Got 15 / 32 with accuracy 46.88\n"
          ],
          "name": "stdout"
        },
        {
          "output_type": "stream",
          "text": [
            "Epoch=0/2:  86%|████████▌ | 187/217 [24:04<03:52,  7.75s/it, acc=0.406, loss=0.737]"
          ],
          "name": "stderr"
        },
        {
          "output_type": "stream",
          "text": [
            "Got 13 / 32 with accuracy 40.62\n"
          ],
          "name": "stdout"
        },
        {
          "output_type": "stream",
          "text": [
            "Epoch=0/2:  87%|████████▋ | 188/217 [24:12<03:44,  7.73s/it, acc=0.469, loss=0.716]"
          ],
          "name": "stderr"
        },
        {
          "output_type": "stream",
          "text": [
            "Got 15 / 32 with accuracy 46.88\n"
          ],
          "name": "stdout"
        },
        {
          "output_type": "stream",
          "text": [
            "Epoch=0/2:  87%|████████▋ | 189/217 [24:20<03:36,  7.75s/it, acc=0.562, loss=0.679]"
          ],
          "name": "stderr"
        },
        {
          "output_type": "stream",
          "text": [
            "Got 18 / 32 with accuracy 56.25\n"
          ],
          "name": "stdout"
        },
        {
          "output_type": "stream",
          "text": [
            "Epoch=0/2:  88%|████████▊ | 190/217 [24:27<03:29,  7.76s/it, acc=0.5, loss=0.697]"
          ],
          "name": "stderr"
        },
        {
          "output_type": "stream",
          "text": [
            "Got 16 / 32 with accuracy 50.00\n"
          ],
          "name": "stdout"
        },
        {
          "output_type": "stream",
          "text": [
            "Epoch=0/2:  88%|████████▊ | 191/217 [24:35<03:20,  7.73s/it, acc=0.531, loss=0.695]"
          ],
          "name": "stderr"
        },
        {
          "output_type": "stream",
          "text": [
            "Got 17 / 32 with accuracy 53.12\n"
          ],
          "name": "stdout"
        },
        {
          "output_type": "stream",
          "text": [
            "Epoch=0/2:  88%|████████▊ | 192/217 [24:43<03:12,  7.70s/it, acc=0.594, loss=0.683]"
          ],
          "name": "stderr"
        },
        {
          "output_type": "stream",
          "text": [
            "Got 19 / 32 with accuracy 59.38\n"
          ],
          "name": "stdout"
        },
        {
          "output_type": "stream",
          "text": [
            "Epoch=0/2:  89%|████████▉ | 193/217 [24:50<03:04,  7.68s/it, acc=0.625, loss=0.677]"
          ],
          "name": "stderr"
        },
        {
          "output_type": "stream",
          "text": [
            "Got 20 / 32 with accuracy 62.50\n"
          ],
          "name": "stdout"
        },
        {
          "output_type": "stream",
          "text": [
            "Epoch=0/2:  89%|████████▉ | 194/217 [24:58<02:56,  7.67s/it, acc=0.438, loss=0.728]"
          ],
          "name": "stderr"
        },
        {
          "output_type": "stream",
          "text": [
            "Got 14 / 32 with accuracy 43.75\n"
          ],
          "name": "stdout"
        },
        {
          "output_type": "stream",
          "text": [
            "Epoch=0/2:  90%|████████▉ | 195/217 [25:06<02:49,  7.69s/it, acc=0.562, loss=0.685]"
          ],
          "name": "stderr"
        },
        {
          "output_type": "stream",
          "text": [
            "Got 18 / 32 with accuracy 56.25\n"
          ],
          "name": "stdout"
        },
        {
          "output_type": "stream",
          "text": [
            "Epoch=0/2:  90%|█████████ | 196/217 [25:13<02:41,  7.69s/it, acc=0.469, loss=0.715]"
          ],
          "name": "stderr"
        },
        {
          "output_type": "stream",
          "text": [
            "Got 15 / 32 with accuracy 46.88\n"
          ],
          "name": "stdout"
        },
        {
          "output_type": "stream",
          "text": [
            "Epoch=0/2:  91%|█████████ | 197/217 [25:21<02:33,  7.68s/it, acc=0.5, loss=0.706]"
          ],
          "name": "stderr"
        },
        {
          "output_type": "stream",
          "text": [
            "Got 16 / 32 with accuracy 50.00\n"
          ],
          "name": "stdout"
        },
        {
          "output_type": "stream",
          "text": [
            "Epoch=0/2:  91%|█████████ | 198/217 [25:29<02:25,  7.68s/it, acc=0.531, loss=0.689]"
          ],
          "name": "stderr"
        },
        {
          "output_type": "stream",
          "text": [
            "Got 17 / 32 with accuracy 53.12\n"
          ],
          "name": "stdout"
        },
        {
          "output_type": "stream",
          "text": [
            "Epoch=0/2:  92%|█████████▏| 199/217 [25:37<02:18,  7.69s/it, acc=0.531, loss=0.684]"
          ],
          "name": "stderr"
        },
        {
          "output_type": "stream",
          "text": [
            "Got 17 / 32 with accuracy 53.12\n"
          ],
          "name": "stdout"
        },
        {
          "output_type": "stream",
          "text": [
            "Epoch=0/2:  92%|█████████▏| 200/217 [25:44<02:11,  7.72s/it, acc=0.469, loss=0.709]"
          ],
          "name": "stderr"
        },
        {
          "output_type": "stream",
          "text": [
            "Got 15 / 32 with accuracy 46.88\n"
          ],
          "name": "stdout"
        },
        {
          "output_type": "stream",
          "text": [
            "Epoch=0/2:  93%|█████████▎| 201/217 [25:52<02:03,  7.71s/it, acc=0.344, loss=0.734]"
          ],
          "name": "stderr"
        },
        {
          "output_type": "stream",
          "text": [
            "Got 11 / 32 with accuracy 34.38\n"
          ],
          "name": "stdout"
        },
        {
          "output_type": "stream",
          "text": [
            "Epoch=0/2:  93%|█████████▎| 202/217 [26:00<01:55,  7.71s/it, acc=0.5, loss=0.699]"
          ],
          "name": "stderr"
        },
        {
          "output_type": "stream",
          "text": [
            "Got 16 / 32 with accuracy 50.00\n"
          ],
          "name": "stdout"
        },
        {
          "output_type": "stream",
          "text": [
            "Epoch=0/2:  94%|█████████▎| 203/217 [26:07<01:47,  7.70s/it, acc=0.594, loss=0.664]"
          ],
          "name": "stderr"
        },
        {
          "output_type": "stream",
          "text": [
            "Got 19 / 32 with accuracy 59.38\n"
          ],
          "name": "stdout"
        },
        {
          "output_type": "stream",
          "text": [
            "Epoch=0/2:  94%|█████████▍| 204/217 [26:15<01:39,  7.69s/it, acc=0.469, loss=0.705]"
          ],
          "name": "stderr"
        },
        {
          "output_type": "stream",
          "text": [
            "Got 15 / 32 with accuracy 46.88\n"
          ],
          "name": "stdout"
        },
        {
          "output_type": "stream",
          "text": [
            "Epoch=0/2:  94%|█████████▍| 205/217 [26:23<01:32,  7.67s/it, acc=0.594, loss=0.666]"
          ],
          "name": "stderr"
        },
        {
          "output_type": "stream",
          "text": [
            "Got 19 / 32 with accuracy 59.38\n"
          ],
          "name": "stdout"
        },
        {
          "output_type": "stream",
          "text": [
            "Epoch=0/2:  95%|█████████▍| 206/217 [26:30<01:24,  7.65s/it, acc=0.531, loss=0.696]"
          ],
          "name": "stderr"
        },
        {
          "output_type": "stream",
          "text": [
            "Got 17 / 32 with accuracy 53.12\n"
          ],
          "name": "stdout"
        },
        {
          "output_type": "stream",
          "text": [
            "Epoch=0/2:  95%|█████████▌| 207/217 [26:38<01:16,  7.70s/it, acc=0.594, loss=0.668]"
          ],
          "name": "stderr"
        },
        {
          "output_type": "stream",
          "text": [
            "Got 19 / 32 with accuracy 59.38\n"
          ],
          "name": "stdout"
        },
        {
          "output_type": "stream",
          "text": [
            "Epoch=0/2:  96%|█████████▌| 208/217 [26:46<01:09,  7.72s/it, acc=0.625, loss=0.683]"
          ],
          "name": "stderr"
        },
        {
          "output_type": "stream",
          "text": [
            "Got 20 / 32 with accuracy 62.50\n"
          ],
          "name": "stdout"
        },
        {
          "output_type": "stream",
          "text": [
            "Epoch=0/2:  96%|█████████▋| 209/217 [26:53<01:01,  7.69s/it, acc=0.344, loss=0.732]"
          ],
          "name": "stderr"
        },
        {
          "output_type": "stream",
          "text": [
            "Got 11 / 32 with accuracy 34.38\n"
          ],
          "name": "stdout"
        },
        {
          "output_type": "stream",
          "text": [
            "Epoch=0/2:  97%|█████████▋| 210/217 [27:01<00:53,  7.69s/it, acc=0.625, loss=0.671]"
          ],
          "name": "stderr"
        },
        {
          "output_type": "stream",
          "text": [
            "Got 20 / 32 with accuracy 62.50\n"
          ],
          "name": "stdout"
        },
        {
          "output_type": "stream",
          "text": [
            "Epoch=0/2:  97%|█████████▋| 211/217 [27:09<00:46,  7.69s/it, acc=0.531, loss=0.695]"
          ],
          "name": "stderr"
        },
        {
          "output_type": "stream",
          "text": [
            "Got 17 / 32 with accuracy 53.12\n"
          ],
          "name": "stdout"
        },
        {
          "output_type": "stream",
          "text": [
            "Epoch=0/2:  98%|█████████▊| 212/217 [27:16<00:38,  7.67s/it, acc=0.406, loss=0.71]"
          ],
          "name": "stderr"
        },
        {
          "output_type": "stream",
          "text": [
            "Got 13 / 32 with accuracy 40.62\n"
          ],
          "name": "stdout"
        },
        {
          "output_type": "stream",
          "text": [
            "Epoch=0/2:  98%|█████████▊| 213/217 [27:24<00:30,  7.65s/it, acc=0.438, loss=0.712]"
          ],
          "name": "stderr"
        },
        {
          "output_type": "stream",
          "text": [
            "Got 14 / 32 with accuracy 43.75\n"
          ],
          "name": "stdout"
        },
        {
          "output_type": "stream",
          "text": [
            "Epoch=0/2:  99%|█████████▊| 214/217 [27:32<00:22,  7.63s/it, acc=0.562, loss=0.691]"
          ],
          "name": "stderr"
        },
        {
          "output_type": "stream",
          "text": [
            "Got 18 / 32 with accuracy 56.25\n"
          ],
          "name": "stdout"
        },
        {
          "output_type": "stream",
          "text": [
            "Epoch=0/2:  99%|█████████▉| 215/217 [27:39<00:15,  7.63s/it, acc=0.531, loss=0.692]"
          ],
          "name": "stderr"
        },
        {
          "output_type": "stream",
          "text": [
            "Got 17 / 32 with accuracy 53.12\n"
          ],
          "name": "stdout"
        },
        {
          "output_type": "stream",
          "text": [
            "Epoch=0/2: 100%|█████████▉| 216/217 [27:47<00:07,  7.62s/it, acc=0.625, loss=0.663]"
          ],
          "name": "stderr"
        },
        {
          "output_type": "stream",
          "text": [
            "Got 20 / 32 with accuracy 62.50\n"
          ],
          "name": "stdout"
        },
        {
          "output_type": "stream",
          "text": [
            "  0%|          | 0/217 [00:00<?, ?it/s]"
          ],
          "name": "stderr"
        },
        {
          "output_type": "stream",
          "text": [
            "Got 3 / 8 with accuracy 37.50\n",
            "1\n"
          ],
          "name": "stdout"
        },
        {
          "output_type": "stream",
          "text": [
            "Epoch=1/2:   0%|          | 1/217 [00:07<27:34,  7.66s/it, acc=0.469, loss=0.691]"
          ],
          "name": "stderr"
        },
        {
          "output_type": "stream",
          "text": [
            "Got 15 / 32 with accuracy 46.88\n"
          ],
          "name": "stdout"
        },
        {
          "output_type": "stream",
          "text": [
            "Epoch=1/2:   1%|          | 2/217 [00:15<27:29,  7.67s/it, acc=0.75, loss=0.643]"
          ],
          "name": "stderr"
        },
        {
          "output_type": "stream",
          "text": [
            "Got 24 / 32 with accuracy 75.00\n"
          ],
          "name": "stdout"
        },
        {
          "output_type": "stream",
          "text": [
            "Epoch=1/2:   1%|▏         | 3/217 [00:22<27:16,  7.65s/it, acc=0.594, loss=0.676]"
          ],
          "name": "stderr"
        },
        {
          "output_type": "stream",
          "text": [
            "Got 19 / 32 with accuracy 59.38\n"
          ],
          "name": "stdout"
        },
        {
          "output_type": "stream",
          "text": [
            "Epoch=1/2:   2%|▏         | 4/217 [00:30<27:07,  7.64s/it, acc=0.562, loss=0.687]"
          ],
          "name": "stderr"
        },
        {
          "output_type": "stream",
          "text": [
            "Got 18 / 32 with accuracy 56.25\n"
          ],
          "name": "stdout"
        },
        {
          "output_type": "stream",
          "text": [
            "Epoch=1/2:   2%|▏         | 5/217 [00:38<27:06,  7.67s/it, acc=0.5, loss=0.694]"
          ],
          "name": "stderr"
        },
        {
          "output_type": "stream",
          "text": [
            "Got 16 / 32 with accuracy 50.00\n"
          ],
          "name": "stdout"
        },
        {
          "output_type": "stream",
          "text": [
            "Epoch=1/2:   3%|▎         | 6/217 [00:46<27:03,  7.69s/it, acc=0.531, loss=0.681]"
          ],
          "name": "stderr"
        },
        {
          "output_type": "stream",
          "text": [
            "Got 17 / 32 with accuracy 53.12\n"
          ],
          "name": "stdout"
        },
        {
          "output_type": "stream",
          "text": [
            "Epoch=1/2:   3%|▎         | 7/217 [00:53<26:56,  7.70s/it, acc=0.562, loss=0.675]"
          ],
          "name": "stderr"
        },
        {
          "output_type": "stream",
          "text": [
            "Got 18 / 32 with accuracy 56.25\n"
          ],
          "name": "stdout"
        },
        {
          "output_type": "stream",
          "text": [
            "Epoch=1/2:   4%|▎         | 8/217 [01:01<26:46,  7.69s/it, acc=0.594, loss=0.682]"
          ],
          "name": "stderr"
        },
        {
          "output_type": "stream",
          "text": [
            "Got 19 / 32 with accuracy 59.38\n"
          ],
          "name": "stdout"
        },
        {
          "output_type": "stream",
          "text": [
            "Epoch=1/2:   4%|▍         | 9/217 [01:09<26:33,  7.66s/it, acc=0.625, loss=0.665]"
          ],
          "name": "stderr"
        },
        {
          "output_type": "stream",
          "text": [
            "Got 20 / 32 with accuracy 62.50\n"
          ],
          "name": "stdout"
        },
        {
          "output_type": "stream",
          "text": [
            "Epoch=1/2:   5%|▍         | 10/217 [01:16<26:30,  7.68s/it, acc=0.438, loss=0.707]"
          ],
          "name": "stderr"
        },
        {
          "output_type": "stream",
          "text": [
            "Got 14 / 32 with accuracy 43.75\n"
          ],
          "name": "stdout"
        },
        {
          "output_type": "stream",
          "text": [
            "Epoch=1/2:   5%|▌         | 11/217 [01:24<26:24,  7.69s/it, acc=0.5, loss=0.705]"
          ],
          "name": "stderr"
        },
        {
          "output_type": "stream",
          "text": [
            "Got 16 / 32 with accuracy 50.00\n"
          ],
          "name": "stdout"
        },
        {
          "output_type": "stream",
          "text": [
            "Epoch=1/2:   6%|▌         | 12/217 [01:32<26:14,  7.68s/it, acc=0.375, loss=0.741]"
          ],
          "name": "stderr"
        },
        {
          "output_type": "stream",
          "text": [
            "Got 12 / 32 with accuracy 37.50\n"
          ],
          "name": "stdout"
        },
        {
          "output_type": "stream",
          "text": [
            "Epoch=1/2:   6%|▌         | 13/217 [01:39<26:09,  7.69s/it, acc=0.594, loss=0.691]"
          ],
          "name": "stderr"
        },
        {
          "output_type": "stream",
          "text": [
            "Got 19 / 32 with accuracy 59.38\n"
          ],
          "name": "stdout"
        },
        {
          "output_type": "stream",
          "text": [
            "Epoch=1/2:   6%|▋         | 14/217 [01:47<26:06,  7.72s/it, acc=0.469, loss=0.71]"
          ],
          "name": "stderr"
        },
        {
          "output_type": "stream",
          "text": [
            "Got 15 / 32 with accuracy 46.88\n"
          ],
          "name": "stdout"
        },
        {
          "output_type": "stream",
          "text": [
            "Epoch=1/2:   7%|▋         | 15/217 [01:55<26:05,  7.75s/it, acc=0.406, loss=0.703]"
          ],
          "name": "stderr"
        },
        {
          "output_type": "stream",
          "text": [
            "Got 13 / 32 with accuracy 40.62\n"
          ],
          "name": "stdout"
        },
        {
          "output_type": "stream",
          "text": [
            "Epoch=1/2:   7%|▋         | 16/217 [02:03<25:58,  7.76s/it, acc=0.562, loss=0.678]"
          ],
          "name": "stderr"
        },
        {
          "output_type": "stream",
          "text": [
            "Got 18 / 32 with accuracy 56.25\n"
          ],
          "name": "stdout"
        },
        {
          "output_type": "stream",
          "text": [
            "Epoch=1/2:   8%|▊         | 17/217 [02:10<25:51,  7.76s/it, acc=0.469, loss=0.724]"
          ],
          "name": "stderr"
        },
        {
          "output_type": "stream",
          "text": [
            "Got 15 / 32 with accuracy 46.88\n"
          ],
          "name": "stdout"
        },
        {
          "output_type": "stream",
          "text": [
            "Epoch=1/2:   8%|▊         | 18/217 [02:18<25:39,  7.74s/it, acc=0.438, loss=0.696]"
          ],
          "name": "stderr"
        },
        {
          "output_type": "stream",
          "text": [
            "Got 14 / 32 with accuracy 43.75\n"
          ],
          "name": "stdout"
        },
        {
          "output_type": "stream",
          "text": [
            "Epoch=1/2:   9%|▉         | 19/217 [02:26<25:37,  7.76s/it, acc=0.5, loss=0.699]"
          ],
          "name": "stderr"
        },
        {
          "output_type": "stream",
          "text": [
            "Got 16 / 32 with accuracy 50.00\n"
          ],
          "name": "stdout"
        },
        {
          "output_type": "stream",
          "text": [
            "Epoch=1/2:   9%|▉         | 20/217 [02:34<25:27,  7.75s/it, acc=0.625, loss=0.667]"
          ],
          "name": "stderr"
        },
        {
          "output_type": "stream",
          "text": [
            "Got 20 / 32 with accuracy 62.50\n"
          ],
          "name": "stdout"
        },
        {
          "output_type": "stream",
          "text": [
            "Epoch=1/2:  10%|▉         | 21/217 [02:41<25:15,  7.73s/it, acc=0.469, loss=0.703]"
          ],
          "name": "stderr"
        },
        {
          "output_type": "stream",
          "text": [
            "Got 15 / 32 with accuracy 46.88\n"
          ],
          "name": "stdout"
        },
        {
          "output_type": "stream",
          "text": [
            "Epoch=1/2:  10%|█         | 22/217 [02:49<25:03,  7.71s/it, acc=0.594, loss=0.686]"
          ],
          "name": "stderr"
        },
        {
          "output_type": "stream",
          "text": [
            "Got 19 / 32 with accuracy 59.38\n"
          ],
          "name": "stdout"
        },
        {
          "output_type": "stream",
          "text": [
            "Epoch=1/2:  11%|█         | 23/217 [02:57<24:55,  7.71s/it, acc=0.625, loss=0.658]"
          ],
          "name": "stderr"
        },
        {
          "output_type": "stream",
          "text": [
            "Got 20 / 32 with accuracy 62.50\n"
          ],
          "name": "stdout"
        },
        {
          "output_type": "stream",
          "text": [
            "Epoch=1/2:  11%|█         | 24/217 [03:05<24:49,  7.72s/it, acc=0.531, loss=0.684]"
          ],
          "name": "stderr"
        },
        {
          "output_type": "stream",
          "text": [
            "Got 17 / 32 with accuracy 53.12\n"
          ],
          "name": "stdout"
        },
        {
          "output_type": "stream",
          "text": [
            "Epoch=1/2:  12%|█▏        | 25/217 [03:12<24:38,  7.70s/it, acc=0.562, loss=0.69]"
          ],
          "name": "stderr"
        },
        {
          "output_type": "stream",
          "text": [
            "Got 18 / 32 with accuracy 56.25\n"
          ],
          "name": "stdout"
        },
        {
          "output_type": "stream",
          "text": [
            "Epoch=1/2:  12%|█▏        | 26/217 [03:20<24:22,  7.66s/it, acc=0.375, loss=0.733]"
          ],
          "name": "stderr"
        },
        {
          "output_type": "stream",
          "text": [
            "Got 12 / 32 with accuracy 37.50\n"
          ],
          "name": "stdout"
        },
        {
          "output_type": "stream",
          "text": [
            "Epoch=1/2:  12%|█▏        | 27/217 [03:27<24:07,  7.62s/it, acc=0.562, loss=0.67]"
          ],
          "name": "stderr"
        },
        {
          "output_type": "stream",
          "text": [
            "Got 18 / 32 with accuracy 56.25\n"
          ],
          "name": "stdout"
        },
        {
          "output_type": "stream",
          "text": [
            "Epoch=1/2:  13%|█▎        | 28/217 [03:35<23:51,  7.57s/it, acc=0.406, loss=0.738]"
          ],
          "name": "stderr"
        },
        {
          "output_type": "stream",
          "text": [
            "Got 13 / 32 with accuracy 40.62\n"
          ],
          "name": "stdout"
        },
        {
          "output_type": "stream",
          "text": [
            "Epoch=1/2:  13%|█▎        | 29/217 [03:42<23:37,  7.54s/it, acc=0.531, loss=0.676]"
          ],
          "name": "stderr"
        },
        {
          "output_type": "stream",
          "text": [
            "Got 17 / 32 with accuracy 53.12\n"
          ],
          "name": "stdout"
        },
        {
          "output_type": "stream",
          "text": [
            "Epoch=1/2:  14%|█▍        | 30/217 [03:50<23:25,  7.51s/it, acc=0.406, loss=0.708]"
          ],
          "name": "stderr"
        },
        {
          "output_type": "stream",
          "text": [
            "Got 13 / 32 with accuracy 40.62\n"
          ],
          "name": "stdout"
        },
        {
          "output_type": "stream",
          "text": [
            "Epoch=1/2:  14%|█▍        | 31/217 [03:57<23:21,  7.54s/it, acc=0.562, loss=0.68]"
          ],
          "name": "stderr"
        },
        {
          "output_type": "stream",
          "text": [
            "Got 18 / 32 with accuracy 56.25\n"
          ],
          "name": "stdout"
        },
        {
          "output_type": "stream",
          "text": [
            "Epoch=1/2:  15%|█▍        | 32/217 [04:05<23:18,  7.56s/it, acc=0.469, loss=0.707]"
          ],
          "name": "stderr"
        },
        {
          "output_type": "stream",
          "text": [
            "Got 15 / 32 with accuracy 46.88\n"
          ],
          "name": "stdout"
        },
        {
          "output_type": "stream",
          "text": [
            "Epoch=1/2:  15%|█▌        | 33/217 [04:12<23:14,  7.58s/it, acc=0.531, loss=0.696]"
          ],
          "name": "stderr"
        },
        {
          "output_type": "stream",
          "text": [
            "Got 17 / 32 with accuracy 53.12\n"
          ],
          "name": "stdout"
        },
        {
          "output_type": "stream",
          "text": [
            "Epoch=1/2:  16%|█▌        | 34/217 [04:20<23:00,  7.54s/it, acc=0.531, loss=0.69]"
          ],
          "name": "stderr"
        },
        {
          "output_type": "stream",
          "text": [
            "Got 17 / 32 with accuracy 53.12\n"
          ],
          "name": "stdout"
        },
        {
          "output_type": "stream",
          "text": [
            "Epoch=1/2:  16%|█▌        | 35/217 [04:27<22:50,  7.53s/it, acc=0.562, loss=0.682]"
          ],
          "name": "stderr"
        },
        {
          "output_type": "stream",
          "text": [
            "Got 18 / 32 with accuracy 56.25\n"
          ],
          "name": "stdout"
        },
        {
          "output_type": "stream",
          "text": [
            "Epoch=1/2:  17%|█▋        | 36/217 [04:35<22:47,  7.55s/it, acc=0.531, loss=0.701]"
          ],
          "name": "stderr"
        },
        {
          "output_type": "stream",
          "text": [
            "Got 17 / 32 with accuracy 53.12\n"
          ],
          "name": "stdout"
        },
        {
          "output_type": "stream",
          "text": [
            "Epoch=1/2:  17%|█▋        | 37/217 [04:43<22:42,  7.57s/it, acc=0.438, loss=0.732]"
          ],
          "name": "stderr"
        },
        {
          "output_type": "stream",
          "text": [
            "Got 14 / 32 with accuracy 43.75\n"
          ],
          "name": "stdout"
        },
        {
          "output_type": "stream",
          "text": [
            "Epoch=1/2:  18%|█▊        | 38/217 [04:50<22:33,  7.56s/it, acc=0.438, loss=0.705]"
          ],
          "name": "stderr"
        },
        {
          "output_type": "stream",
          "text": [
            "Got 14 / 32 with accuracy 43.75\n"
          ],
          "name": "stdout"
        },
        {
          "output_type": "stream",
          "text": [
            "Epoch=1/2:  18%|█▊        | 39/217 [04:58<22:26,  7.56s/it, acc=0.531, loss=0.68]"
          ],
          "name": "stderr"
        },
        {
          "output_type": "stream",
          "text": [
            "Got 17 / 32 with accuracy 53.12\n"
          ],
          "name": "stdout"
        },
        {
          "output_type": "stream",
          "text": [
            "Epoch=1/2:  18%|█▊        | 40/217 [05:05<22:22,  7.58s/it, acc=0.625, loss=0.665]"
          ],
          "name": "stderr"
        },
        {
          "output_type": "stream",
          "text": [
            "Got 20 / 32 with accuracy 62.50\n"
          ],
          "name": "stdout"
        },
        {
          "output_type": "stream",
          "text": [
            "Epoch=1/2:  19%|█▉        | 41/217 [05:13<22:24,  7.64s/it, acc=0.469, loss=0.707]"
          ],
          "name": "stderr"
        },
        {
          "output_type": "stream",
          "text": [
            "Got 15 / 32 with accuracy 46.88\n"
          ],
          "name": "stdout"
        },
        {
          "output_type": "stream",
          "text": [
            "Epoch=1/2:  19%|█▉        | 42/217 [05:21<22:18,  7.65s/it, acc=0.5, loss=0.697]"
          ],
          "name": "stderr"
        },
        {
          "output_type": "stream",
          "text": [
            "Got 16 / 32 with accuracy 50.00\n"
          ],
          "name": "stdout"
        },
        {
          "output_type": "stream",
          "text": [
            "Epoch=1/2:  20%|█▉        | 43/217 [05:28<22:04,  7.61s/it, acc=0.562, loss=0.685]"
          ],
          "name": "stderr"
        },
        {
          "output_type": "stream",
          "text": [
            "Got 18 / 32 with accuracy 56.25\n"
          ],
          "name": "stdout"
        },
        {
          "output_type": "stream",
          "text": [
            "Epoch=1/2:  20%|██        | 44/217 [05:36<21:52,  7.59s/it, acc=0.531, loss=0.699]"
          ],
          "name": "stderr"
        },
        {
          "output_type": "stream",
          "text": [
            "Got 17 / 32 with accuracy 53.12\n"
          ],
          "name": "stdout"
        },
        {
          "output_type": "stream",
          "text": [
            "Epoch=1/2:  21%|██        | 45/217 [05:44<21:47,  7.60s/it, acc=0.562, loss=0.694]"
          ],
          "name": "stderr"
        },
        {
          "output_type": "stream",
          "text": [
            "Got 18 / 32 with accuracy 56.25\n"
          ],
          "name": "stdout"
        },
        {
          "output_type": "stream",
          "text": [
            "Epoch=1/2:  21%|██        | 46/217 [05:51<21:37,  7.59s/it, acc=0.5, loss=0.692]"
          ],
          "name": "stderr"
        },
        {
          "output_type": "stream",
          "text": [
            "Got 16 / 32 with accuracy 50.00\n"
          ],
          "name": "stdout"
        },
        {
          "output_type": "stream",
          "text": [
            "Epoch=1/2:  22%|██▏       | 47/217 [05:59<21:35,  7.62s/it, acc=0.562, loss=0.676]"
          ],
          "name": "stderr"
        },
        {
          "output_type": "stream",
          "text": [
            "Got 18 / 32 with accuracy 56.25\n"
          ],
          "name": "stdout"
        },
        {
          "output_type": "stream",
          "text": [
            "Epoch=1/2:  22%|██▏       | 48/217 [06:06<21:25,  7.60s/it, acc=0.5, loss=0.683]"
          ],
          "name": "stderr"
        },
        {
          "output_type": "stream",
          "text": [
            "Got 16 / 32 with accuracy 50.00\n"
          ],
          "name": "stdout"
        },
        {
          "output_type": "stream",
          "text": [
            "Epoch=1/2:  23%|██▎       | 49/217 [06:14<21:15,  7.59s/it, acc=0.5, loss=0.695]"
          ],
          "name": "stderr"
        },
        {
          "output_type": "stream",
          "text": [
            "Got 16 / 32 with accuracy 50.00\n"
          ],
          "name": "stdout"
        },
        {
          "output_type": "stream",
          "text": [
            "Epoch=1/2:  23%|██▎       | 50/217 [06:21<21:05,  7.58s/it, acc=0.531, loss=0.685]"
          ],
          "name": "stderr"
        },
        {
          "output_type": "stream",
          "text": [
            "Got 17 / 32 with accuracy 53.12\n"
          ],
          "name": "stdout"
        },
        {
          "output_type": "stream",
          "text": [
            "Epoch=1/2:  24%|██▎       | 51/217 [06:29<20:54,  7.56s/it, acc=0.562, loss=0.698]"
          ],
          "name": "stderr"
        },
        {
          "output_type": "stream",
          "text": [
            "Got 18 / 32 with accuracy 56.25\n"
          ],
          "name": "stdout"
        },
        {
          "output_type": "stream",
          "text": [
            "Epoch=1/2:  24%|██▍       | 52/217 [06:37<20:48,  7.57s/it, acc=0.469, loss=0.702]"
          ],
          "name": "stderr"
        },
        {
          "output_type": "stream",
          "text": [
            "Got 15 / 32 with accuracy 46.88\n"
          ],
          "name": "stdout"
        },
        {
          "output_type": "stream",
          "text": [
            "Epoch=1/2:  24%|██▍       | 53/217 [06:44<20:38,  7.55s/it, acc=0.594, loss=0.674]"
          ],
          "name": "stderr"
        },
        {
          "output_type": "stream",
          "text": [
            "Got 19 / 32 with accuracy 59.38\n"
          ],
          "name": "stdout"
        },
        {
          "output_type": "stream",
          "text": [
            "Epoch=1/2:  25%|██▍       | 54/217 [06:52<20:30,  7.55s/it, acc=0.5, loss=0.696]"
          ],
          "name": "stderr"
        },
        {
          "output_type": "stream",
          "text": [
            "Got 16 / 32 with accuracy 50.00\n"
          ],
          "name": "stdout"
        },
        {
          "output_type": "stream",
          "text": [
            "Epoch=1/2:  25%|██▌       | 55/217 [06:59<20:23,  7.55s/it, acc=0.531, loss=0.707]"
          ],
          "name": "stderr"
        },
        {
          "output_type": "stream",
          "text": [
            "Got 17 / 32 with accuracy 53.12\n"
          ],
          "name": "stdout"
        },
        {
          "output_type": "stream",
          "text": [
            "Epoch=1/2:  26%|██▌       | 56/217 [07:07<20:20,  7.58s/it, acc=0.594, loss=0.677]"
          ],
          "name": "stderr"
        },
        {
          "output_type": "stream",
          "text": [
            "Got 19 / 32 with accuracy 59.38\n"
          ],
          "name": "stdout"
        },
        {
          "output_type": "stream",
          "text": [
            "Epoch=1/2:  26%|██▋       | 57/217 [07:15<20:20,  7.63s/it, acc=0.594, loss=0.672]"
          ],
          "name": "stderr"
        },
        {
          "output_type": "stream",
          "text": [
            "Got 19 / 32 with accuracy 59.38\n"
          ],
          "name": "stdout"
        },
        {
          "output_type": "stream",
          "text": [
            "Epoch=1/2:  27%|██▋       | 58/217 [07:22<20:13,  7.63s/it, acc=0.469, loss=0.71]"
          ],
          "name": "stderr"
        },
        {
          "output_type": "stream",
          "text": [
            "Got 15 / 32 with accuracy 46.88\n"
          ],
          "name": "stdout"
        },
        {
          "output_type": "stream",
          "text": [
            "Epoch=1/2:  27%|██▋       | 59/217 [07:30<20:05,  7.63s/it, acc=0.625, loss=0.659]"
          ],
          "name": "stderr"
        },
        {
          "output_type": "stream",
          "text": [
            "Got 20 / 32 with accuracy 62.50\n"
          ],
          "name": "stdout"
        },
        {
          "output_type": "stream",
          "text": [
            "Epoch=1/2:  28%|██▊       | 60/217 [07:37<19:56,  7.62s/it, acc=0.531, loss=0.683]"
          ],
          "name": "stderr"
        },
        {
          "output_type": "stream",
          "text": [
            "Got 17 / 32 with accuracy 53.12\n"
          ],
          "name": "stdout"
        },
        {
          "output_type": "stream",
          "text": [
            "Epoch=1/2:  28%|██▊       | 61/217 [07:45<19:42,  7.58s/it, acc=0.375, loss=0.719]"
          ],
          "name": "stderr"
        },
        {
          "output_type": "stream",
          "text": [
            "Got 12 / 32 with accuracy 37.50\n"
          ],
          "name": "stdout"
        },
        {
          "output_type": "stream",
          "text": [
            "Epoch=1/2:  29%|██▊       | 62/217 [07:52<19:35,  7.59s/it, acc=0.562, loss=0.689]"
          ],
          "name": "stderr"
        },
        {
          "output_type": "stream",
          "text": [
            "Got 18 / 32 with accuracy 56.25\n"
          ],
          "name": "stdout"
        },
        {
          "output_type": "stream",
          "text": [
            "Epoch=1/2:  29%|██▉       | 63/217 [08:00<19:26,  7.58s/it, acc=0.594, loss=0.695]"
          ],
          "name": "stderr"
        },
        {
          "output_type": "stream",
          "text": [
            "Got 19 / 32 with accuracy 59.38\n"
          ],
          "name": "stdout"
        },
        {
          "output_type": "stream",
          "text": [
            "Epoch=1/2:  29%|██▉       | 64/217 [08:08<19:16,  7.56s/it, acc=0.562, loss=0.679]"
          ],
          "name": "stderr"
        },
        {
          "output_type": "stream",
          "text": [
            "Got 18 / 32 with accuracy 56.25\n"
          ],
          "name": "stdout"
        },
        {
          "output_type": "stream",
          "text": [
            "Epoch=1/2:  30%|██▉       | 65/217 [08:15<19:09,  7.57s/it, acc=0.531, loss=0.681]"
          ],
          "name": "stderr"
        },
        {
          "output_type": "stream",
          "text": [
            "Got 17 / 32 with accuracy 53.12\n"
          ],
          "name": "stdout"
        },
        {
          "output_type": "stream",
          "text": [
            "Epoch=1/2:  30%|███       | 66/217 [08:23<19:03,  7.57s/it, acc=0.75, loss=0.657]"
          ],
          "name": "stderr"
        },
        {
          "output_type": "stream",
          "text": [
            "Got 24 / 32 with accuracy 75.00\n"
          ],
          "name": "stdout"
        },
        {
          "output_type": "stream",
          "text": [
            "Epoch=1/2:  31%|███       | 67/217 [08:30<18:58,  7.59s/it, acc=0.5, loss=0.706]"
          ],
          "name": "stderr"
        },
        {
          "output_type": "stream",
          "text": [
            "Got 16 / 32 with accuracy 50.00\n"
          ],
          "name": "stdout"
        },
        {
          "output_type": "stream",
          "text": [
            "Epoch=1/2:  31%|███▏      | 68/217 [08:38<18:53,  7.61s/it, acc=0.5, loss=0.695]"
          ],
          "name": "stderr"
        },
        {
          "output_type": "stream",
          "text": [
            "Got 16 / 32 with accuracy 50.00\n"
          ],
          "name": "stdout"
        },
        {
          "output_type": "stream",
          "text": [
            "Epoch=1/2:  32%|███▏      | 69/217 [08:46<18:44,  7.60s/it, acc=0.469, loss=0.694]"
          ],
          "name": "stderr"
        },
        {
          "output_type": "stream",
          "text": [
            "Got 15 / 32 with accuracy 46.88\n"
          ],
          "name": "stdout"
        },
        {
          "output_type": "stream",
          "text": [
            "Epoch=1/2:  32%|███▏      | 70/217 [08:53<18:36,  7.60s/it, acc=0.594, loss=0.678]"
          ],
          "name": "stderr"
        },
        {
          "output_type": "stream",
          "text": [
            "Got 19 / 32 with accuracy 59.38\n"
          ],
          "name": "stdout"
        },
        {
          "output_type": "stream",
          "text": [
            "Epoch=1/2:  33%|███▎      | 71/217 [09:01<18:27,  7.58s/it, acc=0.406, loss=0.726]"
          ],
          "name": "stderr"
        },
        {
          "output_type": "stream",
          "text": [
            "Got 13 / 32 with accuracy 40.62\n"
          ],
          "name": "stdout"
        },
        {
          "output_type": "stream",
          "text": [
            "Epoch=1/2:  33%|███▎      | 72/217 [09:08<18:23,  7.61s/it, acc=0.344, loss=0.722]"
          ],
          "name": "stderr"
        },
        {
          "output_type": "stream",
          "text": [
            "Got 11 / 32 with accuracy 34.38\n"
          ],
          "name": "stdout"
        },
        {
          "output_type": "stream",
          "text": [
            "Epoch=1/2:  34%|███▎      | 73/217 [09:16<18:22,  7.65s/it, acc=0.562, loss=0.693]"
          ],
          "name": "stderr"
        },
        {
          "output_type": "stream",
          "text": [
            "Got 18 / 32 with accuracy 56.25\n"
          ],
          "name": "stdout"
        },
        {
          "output_type": "stream",
          "text": [
            "Epoch=1/2:  34%|███▍      | 74/217 [09:24<18:11,  7.63s/it, acc=0.438, loss=0.695]"
          ],
          "name": "stderr"
        },
        {
          "output_type": "stream",
          "text": [
            "Got 14 / 32 with accuracy 43.75\n"
          ],
          "name": "stdout"
        },
        {
          "output_type": "stream",
          "text": [
            "Epoch=1/2:  35%|███▍      | 75/217 [09:31<18:05,  7.65s/it, acc=0.344, loss=0.736]"
          ],
          "name": "stderr"
        },
        {
          "output_type": "stream",
          "text": [
            "Got 11 / 32 with accuracy 34.38\n"
          ],
          "name": "stdout"
        },
        {
          "output_type": "stream",
          "text": [
            "Epoch=1/2:  35%|███▌      | 76/217 [09:39<18:02,  7.68s/it, acc=0.594, loss=0.693]"
          ],
          "name": "stderr"
        },
        {
          "output_type": "stream",
          "text": [
            "Got 19 / 32 with accuracy 59.38\n"
          ],
          "name": "stdout"
        },
        {
          "output_type": "stream",
          "text": [
            "Epoch=1/2:  35%|███▌      | 77/217 [09:47<17:59,  7.71s/it, acc=0.344, loss=0.729]"
          ],
          "name": "stderr"
        },
        {
          "output_type": "stream",
          "text": [
            "Got 11 / 32 with accuracy 34.38\n"
          ],
          "name": "stdout"
        },
        {
          "output_type": "stream",
          "text": [
            "Epoch=1/2:  36%|███▌      | 78/217 [09:55<17:52,  7.72s/it, acc=0.438, loss=0.698]"
          ],
          "name": "stderr"
        },
        {
          "output_type": "stream",
          "text": [
            "Got 14 / 32 with accuracy 43.75\n"
          ],
          "name": "stdout"
        },
        {
          "output_type": "stream",
          "text": [
            "Epoch=1/2:  36%|███▋      | 79/217 [10:02<17:48,  7.74s/it, acc=0.625, loss=0.674]"
          ],
          "name": "stderr"
        },
        {
          "output_type": "stream",
          "text": [
            "Got 20 / 32 with accuracy 62.50\n"
          ],
          "name": "stdout"
        },
        {
          "output_type": "stream",
          "text": [
            "Epoch=1/2:  37%|███▋      | 80/217 [10:10<17:39,  7.73s/it, acc=0.625, loss=0.663]"
          ],
          "name": "stderr"
        },
        {
          "output_type": "stream",
          "text": [
            "Got 20 / 32 with accuracy 62.50\n"
          ],
          "name": "stdout"
        },
        {
          "output_type": "stream",
          "text": [
            "Epoch=1/2:  37%|███▋      | 81/217 [10:18<17:31,  7.73s/it, acc=0.562, loss=0.678]"
          ],
          "name": "stderr"
        },
        {
          "output_type": "stream",
          "text": [
            "Got 18 / 32 with accuracy 56.25\n"
          ],
          "name": "stdout"
        },
        {
          "output_type": "stream",
          "text": [
            "Epoch=1/2:  38%|███▊      | 82/217 [10:26<17:22,  7.72s/it, acc=0.656, loss=0.667]"
          ],
          "name": "stderr"
        },
        {
          "output_type": "stream",
          "text": [
            "Got 21 / 32 with accuracy 65.62\n"
          ],
          "name": "stdout"
        },
        {
          "output_type": "stream",
          "text": [
            "Epoch=1/2:  38%|███▊      | 83/217 [10:33<17:09,  7.68s/it, acc=0.531, loss=0.69]"
          ],
          "name": "stderr"
        },
        {
          "output_type": "stream",
          "text": [
            "Got 17 / 32 with accuracy 53.12\n"
          ],
          "name": "stdout"
        },
        {
          "output_type": "stream",
          "text": [
            "Epoch=1/2:  39%|███▊      | 84/217 [10:41<16:58,  7.66s/it, acc=0.625, loss=0.669]"
          ],
          "name": "stderr"
        },
        {
          "output_type": "stream",
          "text": [
            "Got 20 / 32 with accuracy 62.50\n"
          ],
          "name": "stdout"
        },
        {
          "output_type": "stream",
          "text": [
            "Epoch=1/2:  39%|███▉      | 85/217 [10:49<16:52,  7.67s/it, acc=0.5, loss=0.702]"
          ],
          "name": "stderr"
        },
        {
          "output_type": "stream",
          "text": [
            "Got 16 / 32 with accuracy 50.00\n"
          ],
          "name": "stdout"
        },
        {
          "output_type": "stream",
          "text": [
            "Epoch=1/2:  40%|███▉      | 86/217 [10:56<16:43,  7.66s/it, acc=0.656, loss=0.664]"
          ],
          "name": "stderr"
        },
        {
          "output_type": "stream",
          "text": [
            "Got 21 / 32 with accuracy 65.62\n"
          ],
          "name": "stdout"
        },
        {
          "output_type": "stream",
          "text": [
            "Epoch=1/2:  40%|████      | 87/217 [11:04<16:33,  7.64s/it, acc=0.438, loss=0.706]"
          ],
          "name": "stderr"
        },
        {
          "output_type": "stream",
          "text": [
            "Got 14 / 32 with accuracy 43.75\n"
          ],
          "name": "stdout"
        },
        {
          "output_type": "stream",
          "text": [
            "Epoch=1/2:  41%|████      | 88/217 [11:11<16:24,  7.63s/it, acc=0.5, loss=0.706]"
          ],
          "name": "stderr"
        },
        {
          "output_type": "stream",
          "text": [
            "Got 16 / 32 with accuracy 50.00\n"
          ],
          "name": "stdout"
        },
        {
          "output_type": "stream",
          "text": [
            "Epoch=1/2:  41%|████      | 89/217 [11:19<16:17,  7.64s/it, acc=0.406, loss=0.704]"
          ],
          "name": "stderr"
        },
        {
          "output_type": "stream",
          "text": [
            "Got 13 / 32 with accuracy 40.62\n"
          ],
          "name": "stdout"
        },
        {
          "output_type": "stream",
          "text": [
            "Epoch=1/2:  41%|████▏     | 90/217 [11:27<16:09,  7.63s/it, acc=0.531, loss=0.693]"
          ],
          "name": "stderr"
        },
        {
          "output_type": "stream",
          "text": [
            "Got 17 / 32 with accuracy 53.12\n"
          ],
          "name": "stdout"
        },
        {
          "output_type": "stream",
          "text": [
            "Epoch=1/2:  42%|████▏     | 91/217 [11:34<16:01,  7.63s/it, acc=0.531, loss=0.686]"
          ],
          "name": "stderr"
        },
        {
          "output_type": "stream",
          "text": [
            "Got 17 / 32 with accuracy 53.12\n"
          ],
          "name": "stdout"
        },
        {
          "output_type": "stream",
          "text": [
            "Epoch=1/2:  42%|████▏     | 92/217 [11:42<15:51,  7.61s/it, acc=0.5, loss=0.694]"
          ],
          "name": "stderr"
        },
        {
          "output_type": "stream",
          "text": [
            "Got 16 / 32 with accuracy 50.00\n"
          ],
          "name": "stdout"
        },
        {
          "output_type": "stream",
          "text": [
            "Epoch=1/2:  43%|████▎     | 93/217 [11:49<15:43,  7.61s/it, acc=0.594, loss=0.677]"
          ],
          "name": "stderr"
        },
        {
          "output_type": "stream",
          "text": [
            "Got 19 / 32 with accuracy 59.38\n"
          ],
          "name": "stdout"
        },
        {
          "output_type": "stream",
          "text": [
            "Epoch=1/2:  43%|████▎     | 94/217 [11:57<15:35,  7.61s/it, acc=0.5, loss=0.695]"
          ],
          "name": "stderr"
        },
        {
          "output_type": "stream",
          "text": [
            "Got 16 / 32 with accuracy 50.00\n"
          ],
          "name": "stdout"
        },
        {
          "output_type": "stream",
          "text": [
            "Epoch=1/2:  44%|████▍     | 95/217 [12:05<15:26,  7.60s/it, acc=0.625, loss=0.673]"
          ],
          "name": "stderr"
        },
        {
          "output_type": "stream",
          "text": [
            "Got 20 / 32 with accuracy 62.50\n"
          ],
          "name": "stdout"
        },
        {
          "output_type": "stream",
          "text": [
            "Epoch=1/2:  44%|████▍     | 96/217 [12:12<15:17,  7.58s/it, acc=0.594, loss=0.679]"
          ],
          "name": "stderr"
        },
        {
          "output_type": "stream",
          "text": [
            "Got 19 / 32 with accuracy 59.38\n"
          ],
          "name": "stdout"
        },
        {
          "output_type": "stream",
          "text": [
            "Epoch=1/2:  45%|████▍     | 97/217 [12:20<15:09,  7.58s/it, acc=0.531, loss=0.696]"
          ],
          "name": "stderr"
        },
        {
          "output_type": "stream",
          "text": [
            "Got 17 / 32 with accuracy 53.12\n"
          ],
          "name": "stdout"
        },
        {
          "output_type": "stream",
          "text": [
            "Epoch=1/2:  45%|████▌     | 98/217 [12:27<15:03,  7.59s/it, acc=0.531, loss=0.7]"
          ],
          "name": "stderr"
        },
        {
          "output_type": "stream",
          "text": [
            "Got 17 / 32 with accuracy 53.12\n"
          ],
          "name": "stdout"
        },
        {
          "output_type": "stream",
          "text": [
            "Epoch=1/2:  46%|████▌     | 99/217 [12:35<14:56,  7.60s/it, acc=0.531, loss=0.682]"
          ],
          "name": "stderr"
        },
        {
          "output_type": "stream",
          "text": [
            "Got 17 / 32 with accuracy 53.12\n"
          ],
          "name": "stdout"
        },
        {
          "output_type": "stream",
          "text": [
            "Epoch=1/2:  46%|████▌     | 100/217 [12:43<14:51,  7.62s/it, acc=0.5, loss=0.703]"
          ],
          "name": "stderr"
        },
        {
          "output_type": "stream",
          "text": [
            "Got 16 / 32 with accuracy 50.00\n"
          ],
          "name": "stdout"
        },
        {
          "output_type": "stream",
          "text": [
            "Epoch=1/2:  47%|████▋     | 101/217 [12:50<14:41,  7.60s/it, acc=0.469, loss=0.714]"
          ],
          "name": "stderr"
        },
        {
          "output_type": "stream",
          "text": [
            "Got 15 / 32 with accuracy 46.88\n"
          ],
          "name": "stdout"
        },
        {
          "output_type": "stream",
          "text": [
            "Epoch=1/2:  47%|████▋     | 102/217 [12:58<14:33,  7.59s/it, acc=0.531, loss=0.689]"
          ],
          "name": "stderr"
        },
        {
          "output_type": "stream",
          "text": [
            "Got 17 / 32 with accuracy 53.12\n"
          ],
          "name": "stdout"
        },
        {
          "output_type": "stream",
          "text": [
            "Epoch=1/2:  47%|████▋     | 103/217 [13:05<14:24,  7.58s/it, acc=0.812, loss=0.632]"
          ],
          "name": "stderr"
        },
        {
          "output_type": "stream",
          "text": [
            "Got 26 / 32 with accuracy 81.25\n"
          ],
          "name": "stdout"
        },
        {
          "output_type": "stream",
          "text": [
            "Epoch=1/2:  48%|████▊     | 104/217 [13:13<14:15,  7.57s/it, acc=0.5, loss=0.703]"
          ],
          "name": "stderr"
        },
        {
          "output_type": "stream",
          "text": [
            "Got 16 / 32 with accuracy 50.00\n"
          ],
          "name": "stdout"
        },
        {
          "output_type": "stream",
          "text": [
            "Epoch=1/2:  48%|████▊     | 105/217 [13:20<14:02,  7.52s/it, acc=0.625, loss=0.67]"
          ],
          "name": "stderr"
        },
        {
          "output_type": "stream",
          "text": [
            "Got 20 / 32 with accuracy 62.50\n"
          ],
          "name": "stdout"
        },
        {
          "output_type": "stream",
          "text": [
            "Epoch=1/2:  49%|████▉     | 106/217 [13:28<13:53,  7.51s/it, acc=0.531, loss=0.688]"
          ],
          "name": "stderr"
        },
        {
          "output_type": "stream",
          "text": [
            "Got 17 / 32 with accuracy 53.12\n"
          ],
          "name": "stdout"
        },
        {
          "output_type": "stream",
          "text": [
            "Epoch=1/2:  49%|████▉     | 107/217 [13:35<13:44,  7.49s/it, acc=0.562, loss=0.691]"
          ],
          "name": "stderr"
        },
        {
          "output_type": "stream",
          "text": [
            "Got 18 / 32 with accuracy 56.25\n"
          ],
          "name": "stdout"
        },
        {
          "output_type": "stream",
          "text": [
            "Epoch=1/2:  50%|████▉     | 108/217 [13:43<13:37,  7.50s/it, acc=0.5, loss=0.704]"
          ],
          "name": "stderr"
        },
        {
          "output_type": "stream",
          "text": [
            "Got 16 / 32 with accuracy 50.00\n"
          ],
          "name": "stdout"
        },
        {
          "output_type": "stream",
          "text": [
            "Epoch=1/2:  50%|█████     | 109/217 [13:50<13:33,  7.53s/it, acc=0.438, loss=0.71]"
          ],
          "name": "stderr"
        },
        {
          "output_type": "stream",
          "text": [
            "Got 14 / 32 with accuracy 43.75\n"
          ],
          "name": "stdout"
        },
        {
          "output_type": "stream",
          "text": [
            "Epoch=1/2:  51%|█████     | 110/217 [13:58<13:30,  7.57s/it, acc=0.375, loss=0.719]"
          ],
          "name": "stderr"
        },
        {
          "output_type": "stream",
          "text": [
            "Got 12 / 32 with accuracy 37.50\n"
          ],
          "name": "stdout"
        },
        {
          "output_type": "stream",
          "text": [
            "Epoch=1/2:  51%|█████     | 111/217 [14:06<13:24,  7.59s/it, acc=0.562, loss=0.678]"
          ],
          "name": "stderr"
        },
        {
          "output_type": "stream",
          "text": [
            "Got 18 / 32 with accuracy 56.25\n"
          ],
          "name": "stdout"
        },
        {
          "output_type": "stream",
          "text": [
            "Epoch=1/2:  52%|█████▏    | 112/217 [14:13<13:16,  7.58s/it, acc=0.5, loss=0.694]"
          ],
          "name": "stderr"
        },
        {
          "output_type": "stream",
          "text": [
            "Got 16 / 32 with accuracy 50.00\n"
          ],
          "name": "stdout"
        },
        {
          "output_type": "stream",
          "text": [
            "Epoch=1/2:  52%|█████▏    | 113/217 [14:21<13:12,  7.62s/it, acc=0.5, loss=0.682]"
          ],
          "name": "stderr"
        },
        {
          "output_type": "stream",
          "text": [
            "Got 16 / 32 with accuracy 50.00\n"
          ],
          "name": "stdout"
        },
        {
          "output_type": "stream",
          "text": [
            "Epoch=1/2:  53%|█████▎    | 114/217 [14:29<13:08,  7.66s/it, acc=0.562, loss=0.675]"
          ],
          "name": "stderr"
        },
        {
          "output_type": "stream",
          "text": [
            "Got 18 / 32 with accuracy 56.25\n"
          ],
          "name": "stdout"
        },
        {
          "output_type": "stream",
          "text": [
            "Epoch=1/2:  53%|█████▎    | 115/217 [14:36<12:58,  7.63s/it, acc=0.531, loss=0.681]"
          ],
          "name": "stderr"
        },
        {
          "output_type": "stream",
          "text": [
            "Got 17 / 32 with accuracy 53.12\n"
          ],
          "name": "stdout"
        },
        {
          "output_type": "stream",
          "text": [
            "Epoch=1/2:  53%|█████▎    | 116/217 [14:44<12:46,  7.59s/it, acc=0.625, loss=0.67]"
          ],
          "name": "stderr"
        },
        {
          "output_type": "stream",
          "text": [
            "Got 20 / 32 with accuracy 62.50\n"
          ],
          "name": "stdout"
        },
        {
          "output_type": "stream",
          "text": [
            "Epoch=1/2:  54%|█████▍    | 117/217 [14:51<12:36,  7.56s/it, acc=0.469, loss=0.7]"
          ],
          "name": "stderr"
        },
        {
          "output_type": "stream",
          "text": [
            "Got 15 / 32 with accuracy 46.88\n"
          ],
          "name": "stdout"
        },
        {
          "output_type": "stream",
          "text": [
            "Epoch=1/2:  54%|█████▍    | 118/217 [14:59<12:28,  7.56s/it, acc=0.656, loss=0.668]"
          ],
          "name": "stderr"
        },
        {
          "output_type": "stream",
          "text": [
            "Got 21 / 32 with accuracy 65.62\n"
          ],
          "name": "stdout"
        },
        {
          "output_type": "stream",
          "text": [
            "Epoch=1/2:  55%|█████▍    | 119/217 [15:06<12:21,  7.57s/it, acc=0.469, loss=0.696]"
          ],
          "name": "stderr"
        },
        {
          "output_type": "stream",
          "text": [
            "Got 15 / 32 with accuracy 46.88\n"
          ],
          "name": "stdout"
        },
        {
          "output_type": "stream",
          "text": [
            "Epoch=1/2:  55%|█████▌    | 120/217 [15:14<12:15,  7.58s/it, acc=0.594, loss=0.686]"
          ],
          "name": "stderr"
        },
        {
          "output_type": "stream",
          "text": [
            "Got 19 / 32 with accuracy 59.38\n"
          ],
          "name": "stdout"
        },
        {
          "output_type": "stream",
          "text": [
            "Epoch=1/2:  56%|█████▌    | 121/217 [15:22<12:09,  7.60s/it, acc=0.469, loss=0.69]"
          ],
          "name": "stderr"
        },
        {
          "output_type": "stream",
          "text": [
            "Got 15 / 32 with accuracy 46.88\n"
          ],
          "name": "stdout"
        },
        {
          "output_type": "stream",
          "text": [
            "Epoch=1/2:  56%|█████▌    | 122/217 [15:29<12:05,  7.64s/it, acc=0.375, loss=0.741]"
          ],
          "name": "stderr"
        },
        {
          "output_type": "stream",
          "text": [
            "Got 12 / 32 with accuracy 37.50\n"
          ],
          "name": "stdout"
        },
        {
          "output_type": "stream",
          "text": [
            "Epoch=1/2:  57%|█████▋    | 123/217 [15:37<11:56,  7.62s/it, acc=0.562, loss=0.68]"
          ],
          "name": "stderr"
        },
        {
          "output_type": "stream",
          "text": [
            "Got 18 / 32 with accuracy 56.25\n"
          ],
          "name": "stdout"
        },
        {
          "output_type": "stream",
          "text": [
            "Epoch=1/2:  57%|█████▋    | 124/217 [15:45<11:49,  7.63s/it, acc=0.656, loss=0.665]"
          ],
          "name": "stderr"
        },
        {
          "output_type": "stream",
          "text": [
            "Got 21 / 32 with accuracy 65.62\n"
          ],
          "name": "stdout"
        },
        {
          "output_type": "stream",
          "text": [
            "Epoch=1/2:  58%|█████▊    | 125/217 [15:52<11:40,  7.61s/it, acc=0.5, loss=0.711]"
          ],
          "name": "stderr"
        },
        {
          "output_type": "stream",
          "text": [
            "Got 16 / 32 with accuracy 50.00\n"
          ],
          "name": "stdout"
        },
        {
          "output_type": "stream",
          "text": [
            "Epoch=1/2:  58%|█████▊    | 126/217 [16:00<11:29,  7.58s/it, acc=0.562, loss=0.688]"
          ],
          "name": "stderr"
        },
        {
          "output_type": "stream",
          "text": [
            "Got 18 / 32 with accuracy 56.25\n"
          ],
          "name": "stdout"
        },
        {
          "output_type": "stream",
          "text": [
            "Epoch=1/2:  59%|█████▊    | 127/217 [16:07<11:22,  7.58s/it, acc=0.656, loss=0.685]"
          ],
          "name": "stderr"
        },
        {
          "output_type": "stream",
          "text": [
            "Got 21 / 32 with accuracy 65.62\n"
          ],
          "name": "stdout"
        },
        {
          "output_type": "stream",
          "text": [
            "Epoch=1/2:  59%|█████▉    | 128/217 [16:15<11:16,  7.60s/it, acc=0.531, loss=0.692]"
          ],
          "name": "stderr"
        },
        {
          "output_type": "stream",
          "text": [
            "Got 17 / 32 with accuracy 53.12\n"
          ],
          "name": "stdout"
        },
        {
          "output_type": "stream",
          "text": [
            "Epoch=1/2:  59%|█████▉    | 129/217 [16:22<11:06,  7.58s/it, acc=0.5, loss=0.696]"
          ],
          "name": "stderr"
        },
        {
          "output_type": "stream",
          "text": [
            "Got 16 / 32 with accuracy 50.00\n"
          ],
          "name": "stdout"
        },
        {
          "output_type": "stream",
          "text": [
            "Epoch=1/2:  60%|█████▉    | 130/217 [16:30<10:58,  7.57s/it, acc=0.469, loss=0.706]"
          ],
          "name": "stderr"
        },
        {
          "output_type": "stream",
          "text": [
            "Got 15 / 32 with accuracy 46.88\n"
          ],
          "name": "stdout"
        },
        {
          "output_type": "stream",
          "text": [
            "Epoch=1/2:  60%|██████    | 131/217 [16:38<10:53,  7.60s/it, acc=0.531, loss=0.693]"
          ],
          "name": "stderr"
        },
        {
          "output_type": "stream",
          "text": [
            "Got 17 / 32 with accuracy 53.12\n"
          ],
          "name": "stdout"
        },
        {
          "output_type": "stream",
          "text": [
            "Epoch=1/2:  61%|██████    | 132/217 [16:45<10:50,  7.65s/it, acc=0.594, loss=0.686]"
          ],
          "name": "stderr"
        },
        {
          "output_type": "stream",
          "text": [
            "Got 19 / 32 with accuracy 59.38\n"
          ],
          "name": "stdout"
        },
        {
          "output_type": "stream",
          "text": [
            "Epoch=1/2:  61%|██████▏   | 133/217 [16:53<10:42,  7.64s/it, acc=0.375, loss=0.714]"
          ],
          "name": "stderr"
        },
        {
          "output_type": "stream",
          "text": [
            "Got 12 / 32 with accuracy 37.50\n"
          ],
          "name": "stdout"
        },
        {
          "output_type": "stream",
          "text": [
            "Epoch=1/2:  62%|██████▏   | 134/217 [17:01<10:32,  7.62s/it, acc=0.531, loss=0.695]"
          ],
          "name": "stderr"
        },
        {
          "output_type": "stream",
          "text": [
            "Got 17 / 32 with accuracy 53.12\n"
          ],
          "name": "stdout"
        },
        {
          "output_type": "stream",
          "text": [
            "Epoch=1/2:  62%|██████▏   | 135/217 [17:08<10:25,  7.63s/it, acc=0.5, loss=0.699]"
          ],
          "name": "stderr"
        },
        {
          "output_type": "stream",
          "text": [
            "Got 16 / 32 with accuracy 50.00\n"
          ],
          "name": "stdout"
        },
        {
          "output_type": "stream",
          "text": [
            "Epoch=1/2:  63%|██████▎   | 136/217 [17:16<10:17,  7.63s/it, acc=0.531, loss=0.679]"
          ],
          "name": "stderr"
        },
        {
          "output_type": "stream",
          "text": [
            "Got 17 / 32 with accuracy 53.12\n"
          ],
          "name": "stdout"
        },
        {
          "output_type": "stream",
          "text": [
            "Epoch=1/2:  63%|██████▎   | 137/217 [17:23<10:09,  7.61s/it, acc=0.594, loss=0.676]"
          ],
          "name": "stderr"
        },
        {
          "output_type": "stream",
          "text": [
            "Got 19 / 32 with accuracy 59.38\n"
          ],
          "name": "stdout"
        },
        {
          "output_type": "stream",
          "text": [
            "Epoch=1/2:  64%|██████▎   | 138/217 [17:31<10:00,  7.60s/it, acc=0.531, loss=0.681]"
          ],
          "name": "stderr"
        },
        {
          "output_type": "stream",
          "text": [
            "Got 17 / 32 with accuracy 53.12\n"
          ],
          "name": "stdout"
        },
        {
          "output_type": "stream",
          "text": [
            "Epoch=1/2:  64%|██████▍   | 139/217 [17:39<09:52,  7.60s/it, acc=0.531, loss=0.686]"
          ],
          "name": "stderr"
        },
        {
          "output_type": "stream",
          "text": [
            "Got 17 / 32 with accuracy 53.12\n"
          ],
          "name": "stdout"
        },
        {
          "output_type": "stream",
          "text": [
            "Epoch=1/2:  65%|██████▍   | 140/217 [17:46<09:47,  7.63s/it, acc=0.438, loss=0.695]"
          ],
          "name": "stderr"
        },
        {
          "output_type": "stream",
          "text": [
            "Got 14 / 32 with accuracy 43.75\n"
          ],
          "name": "stdout"
        },
        {
          "output_type": "stream",
          "text": [
            "Epoch=1/2:  65%|██████▍   | 141/217 [17:54<09:41,  7.65s/it, acc=0.438, loss=0.712]"
          ],
          "name": "stderr"
        },
        {
          "output_type": "stream",
          "text": [
            "Got 14 / 32 with accuracy 43.75\n"
          ],
          "name": "stdout"
        },
        {
          "output_type": "stream",
          "text": [
            "Epoch=1/2:  65%|██████▌   | 142/217 [18:02<09:39,  7.73s/it, acc=0.625, loss=0.674]"
          ],
          "name": "stderr"
        },
        {
          "output_type": "stream",
          "text": [
            "Got 20 / 32 with accuracy 62.50\n"
          ],
          "name": "stdout"
        },
        {
          "output_type": "stream",
          "text": [
            "Epoch=1/2:  66%|██████▌   | 143/217 [18:10<09:34,  7.76s/it, acc=0.438, loss=0.713]"
          ],
          "name": "stderr"
        },
        {
          "output_type": "stream",
          "text": [
            "Got 14 / 32 with accuracy 43.75\n"
          ],
          "name": "stdout"
        },
        {
          "output_type": "stream",
          "text": [
            "Epoch=1/2:  66%|██████▋   | 144/217 [18:18<09:28,  7.79s/it, acc=0.531, loss=0.7]"
          ],
          "name": "stderr"
        },
        {
          "output_type": "stream",
          "text": [
            "Got 17 / 32 with accuracy 53.12\n"
          ],
          "name": "stdout"
        },
        {
          "output_type": "stream",
          "text": [
            "Epoch=1/2:  67%|██████▋   | 145/217 [18:25<09:21,  7.80s/it, acc=0.406, loss=0.723]"
          ],
          "name": "stderr"
        },
        {
          "output_type": "stream",
          "text": [
            "Got 13 / 32 with accuracy 40.62\n"
          ],
          "name": "stdout"
        },
        {
          "output_type": "stream",
          "text": [
            "Epoch=1/2:  67%|██████▋   | 146/217 [18:33<09:14,  7.81s/it, acc=0.75, loss=0.649]"
          ],
          "name": "stderr"
        },
        {
          "output_type": "stream",
          "text": [
            "Got 24 / 32 with accuracy 75.00\n"
          ],
          "name": "stdout"
        },
        {
          "output_type": "stream",
          "text": [
            "Epoch=1/2:  68%|██████▊   | 147/217 [18:41<09:08,  7.84s/it, acc=0.5, loss=0.694]"
          ],
          "name": "stderr"
        },
        {
          "output_type": "stream",
          "text": [
            "Got 16 / 32 with accuracy 50.00\n"
          ],
          "name": "stdout"
        },
        {
          "output_type": "stream",
          "text": [
            "Epoch=1/2:  68%|██████▊   | 148/217 [18:49<09:01,  7.85s/it, acc=0.469, loss=0.676]"
          ],
          "name": "stderr"
        },
        {
          "output_type": "stream",
          "text": [
            "Got 15 / 32 with accuracy 46.88\n"
          ],
          "name": "stdout"
        },
        {
          "output_type": "stream",
          "text": [
            "Epoch=1/2:  69%|██████▊   | 149/217 [18:57<08:51,  7.81s/it, acc=0.469, loss=0.702]"
          ],
          "name": "stderr"
        },
        {
          "output_type": "stream",
          "text": [
            "Got 15 / 32 with accuracy 46.88\n"
          ],
          "name": "stdout"
        },
        {
          "output_type": "stream",
          "text": [
            "Epoch=1/2:  69%|██████▉   | 150/217 [19:05<08:44,  7.83s/it, acc=0.5, loss=0.691]"
          ],
          "name": "stderr"
        },
        {
          "output_type": "stream",
          "text": [
            "Got 16 / 32 with accuracy 50.00\n"
          ],
          "name": "stdout"
        },
        {
          "output_type": "stream",
          "text": [
            "Epoch=1/2:  70%|██████▉   | 151/217 [19:12<08:35,  7.81s/it, acc=0.562, loss=0.679]"
          ],
          "name": "stderr"
        },
        {
          "output_type": "stream",
          "text": [
            "Got 18 / 32 with accuracy 56.25\n"
          ],
          "name": "stdout"
        },
        {
          "output_type": "stream",
          "text": [
            "Epoch=1/2:  70%|███████   | 152/217 [19:20<08:27,  7.80s/it, acc=0.438, loss=0.699]"
          ],
          "name": "stderr"
        },
        {
          "output_type": "stream",
          "text": [
            "Got 14 / 32 with accuracy 43.75\n"
          ],
          "name": "stdout"
        },
        {
          "output_type": "stream",
          "text": [
            "Epoch=1/2:  71%|███████   | 153/217 [19:28<08:19,  7.80s/it, acc=0.531, loss=0.676]"
          ],
          "name": "stderr"
        },
        {
          "output_type": "stream",
          "text": [
            "Got 17 / 32 with accuracy 53.12\n"
          ],
          "name": "stdout"
        },
        {
          "output_type": "stream",
          "text": [
            "Epoch=1/2:  71%|███████   | 154/217 [19:36<08:11,  7.80s/it, acc=0.531, loss=0.693]"
          ],
          "name": "stderr"
        },
        {
          "output_type": "stream",
          "text": [
            "Got 17 / 32 with accuracy 53.12\n"
          ],
          "name": "stdout"
        },
        {
          "output_type": "stream",
          "text": [
            "Epoch=1/2:  71%|███████▏  | 155/217 [19:43<08:01,  7.77s/it, acc=0.625, loss=0.668]"
          ],
          "name": "stderr"
        },
        {
          "output_type": "stream",
          "text": [
            "Got 20 / 32 with accuracy 62.50\n"
          ],
          "name": "stdout"
        },
        {
          "output_type": "stream",
          "text": [
            "Epoch=1/2:  72%|███████▏  | 156/217 [19:51<07:53,  7.77s/it, acc=0.625, loss=0.684]"
          ],
          "name": "stderr"
        },
        {
          "output_type": "stream",
          "text": [
            "Got 20 / 32 with accuracy 62.50\n"
          ],
          "name": "stdout"
        },
        {
          "output_type": "stream",
          "text": [
            "Epoch=1/2:  72%|███████▏  | 157/217 [19:59<07:46,  7.77s/it, acc=0.656, loss=0.669]"
          ],
          "name": "stderr"
        },
        {
          "output_type": "stream",
          "text": [
            "Got 21 / 32 with accuracy 65.62\n"
          ],
          "name": "stdout"
        },
        {
          "output_type": "stream",
          "text": [
            "Epoch=1/2:  73%|███████▎  | 158/217 [20:07<07:38,  7.77s/it, acc=0.562, loss=0.686]"
          ],
          "name": "stderr"
        },
        {
          "output_type": "stream",
          "text": [
            "Got 18 / 32 with accuracy 56.25\n"
          ],
          "name": "stdout"
        },
        {
          "output_type": "stream",
          "text": [
            "Epoch=1/2:  73%|███████▎  | 159/217 [20:15<07:31,  7.78s/it, acc=0.594, loss=0.69]"
          ],
          "name": "stderr"
        },
        {
          "output_type": "stream",
          "text": [
            "Got 19 / 32 with accuracy 59.38\n"
          ],
          "name": "stdout"
        },
        {
          "output_type": "stream",
          "text": [
            "Epoch=1/2:  74%|███████▎  | 160/217 [20:22<07:23,  7.77s/it, acc=0.594, loss=0.683]"
          ],
          "name": "stderr"
        },
        {
          "output_type": "stream",
          "text": [
            "Got 19 / 32 with accuracy 59.38\n"
          ],
          "name": "stdout"
        },
        {
          "output_type": "stream",
          "text": [
            "Epoch=1/2:  74%|███████▍  | 161/217 [20:30<07:16,  7.79s/it, acc=0.594, loss=0.669]"
          ],
          "name": "stderr"
        },
        {
          "output_type": "stream",
          "text": [
            "Got 19 / 32 with accuracy 59.38\n"
          ],
          "name": "stdout"
        },
        {
          "output_type": "stream",
          "text": [
            "Epoch=1/2:  75%|███████▍  | 162/217 [20:38<07:10,  7.82s/it, acc=0.5, loss=0.701]"
          ],
          "name": "stderr"
        },
        {
          "output_type": "stream",
          "text": [
            "Got 16 / 32 with accuracy 50.00\n"
          ],
          "name": "stdout"
        },
        {
          "output_type": "stream",
          "text": [
            "Epoch=1/2:  75%|███████▌  | 163/217 [20:46<07:02,  7.83s/it, acc=0.625, loss=0.671]"
          ],
          "name": "stderr"
        },
        {
          "output_type": "stream",
          "text": [
            "Got 20 / 32 with accuracy 62.50\n"
          ],
          "name": "stdout"
        },
        {
          "output_type": "stream",
          "text": [
            "Epoch=1/2:  76%|███████▌  | 164/217 [20:54<06:52,  7.79s/it, acc=0.625, loss=0.669]"
          ],
          "name": "stderr"
        },
        {
          "output_type": "stream",
          "text": [
            "Got 20 / 32 with accuracy 62.50\n"
          ],
          "name": "stdout"
        },
        {
          "output_type": "stream",
          "text": [
            "Epoch=1/2:  76%|███████▌  | 165/217 [21:01<06:42,  7.75s/it, acc=0.719, loss=0.641]"
          ],
          "name": "stderr"
        },
        {
          "output_type": "stream",
          "text": [
            "Got 23 / 32 with accuracy 71.88\n"
          ],
          "name": "stdout"
        },
        {
          "output_type": "stream",
          "text": [
            "Epoch=1/2:  76%|███████▋  | 166/217 [21:09<06:32,  7.71s/it, acc=0.531, loss=0.712]"
          ],
          "name": "stderr"
        },
        {
          "output_type": "stream",
          "text": [
            "Got 17 / 32 with accuracy 53.12\n"
          ],
          "name": "stdout"
        },
        {
          "output_type": "stream",
          "text": [
            "Epoch=1/2:  77%|███████▋  | 167/217 [21:17<06:24,  7.69s/it, acc=0.406, loss=0.716]"
          ],
          "name": "stderr"
        },
        {
          "output_type": "stream",
          "text": [
            "Got 13 / 32 with accuracy 40.62\n"
          ],
          "name": "stdout"
        },
        {
          "output_type": "stream",
          "text": [
            "Epoch=1/2:  77%|███████▋  | 168/217 [21:24<06:14,  7.64s/it, acc=0.594, loss=0.67]"
          ],
          "name": "stderr"
        },
        {
          "output_type": "stream",
          "text": [
            "Got 19 / 32 with accuracy 59.38\n"
          ],
          "name": "stdout"
        },
        {
          "output_type": "stream",
          "text": [
            "Epoch=1/2:  78%|███████▊  | 169/217 [21:32<06:05,  7.61s/it, acc=0.375, loss=0.724]"
          ],
          "name": "stderr"
        },
        {
          "output_type": "stream",
          "text": [
            "Got 12 / 32 with accuracy 37.50\n"
          ],
          "name": "stdout"
        },
        {
          "output_type": "stream",
          "text": [
            "Epoch=1/2:  78%|███████▊  | 170/217 [21:39<05:56,  7.59s/it, acc=0.469, loss=0.707]"
          ],
          "name": "stderr"
        },
        {
          "output_type": "stream",
          "text": [
            "Got 15 / 32 with accuracy 46.88\n"
          ],
          "name": "stdout"
        },
        {
          "output_type": "stream",
          "text": [
            "Epoch=1/2:  79%|███████▉  | 171/217 [21:47<05:53,  7.69s/it, acc=0.469, loss=0.703]"
          ],
          "name": "stderr"
        },
        {
          "output_type": "stream",
          "text": [
            "Got 15 / 32 with accuracy 46.88\n"
          ],
          "name": "stdout"
        },
        {
          "output_type": "stream",
          "text": [
            "Epoch=1/2:  79%|███████▉  | 172/217 [21:55<05:45,  7.68s/it, acc=0.406, loss=0.717]"
          ],
          "name": "stderr"
        },
        {
          "output_type": "stream",
          "text": [
            "Got 13 / 32 with accuracy 40.62\n"
          ],
          "name": "stdout"
        },
        {
          "output_type": "stream",
          "text": [
            "Epoch=1/2:  80%|███████▉  | 173/217 [22:02<05:38,  7.69s/it, acc=0.562, loss=0.675]"
          ],
          "name": "stderr"
        },
        {
          "output_type": "stream",
          "text": [
            "Got 18 / 32 with accuracy 56.25\n"
          ],
          "name": "stdout"
        },
        {
          "output_type": "stream",
          "text": [
            "Epoch=1/2:  80%|████████  | 174/217 [22:10<05:31,  7.71s/it, acc=0.5, loss=0.69]"
          ],
          "name": "stderr"
        },
        {
          "output_type": "stream",
          "text": [
            "Got 16 / 32 with accuracy 50.00\n"
          ],
          "name": "stdout"
        },
        {
          "output_type": "stream",
          "text": [
            "Epoch=1/2:  81%|████████  | 175/217 [22:18<05:24,  7.72s/it, acc=0.562, loss=0.689]"
          ],
          "name": "stderr"
        },
        {
          "output_type": "stream",
          "text": [
            "Got 18 / 32 with accuracy 56.25\n"
          ],
          "name": "stdout"
        },
        {
          "output_type": "stream",
          "text": [
            "Epoch=1/2:  81%|████████  | 176/217 [22:26<05:16,  7.71s/it, acc=0.5, loss=0.694]"
          ],
          "name": "stderr"
        },
        {
          "output_type": "stream",
          "text": [
            "Got 16 / 32 with accuracy 50.00\n"
          ],
          "name": "stdout"
        },
        {
          "output_type": "stream",
          "text": [
            "Epoch=1/2:  82%|████████▏ | 177/217 [22:33<05:08,  7.72s/it, acc=0.781, loss=0.647]"
          ],
          "name": "stderr"
        },
        {
          "output_type": "stream",
          "text": [
            "Got 25 / 32 with accuracy 78.12\n"
          ],
          "name": "stdout"
        },
        {
          "output_type": "stream",
          "text": [
            "Epoch=1/2:  82%|████████▏ | 178/217 [22:41<05:00,  7.71s/it, acc=0.594, loss=0.691]"
          ],
          "name": "stderr"
        },
        {
          "output_type": "stream",
          "text": [
            "Got 19 / 32 with accuracy 59.38\n"
          ],
          "name": "stdout"
        },
        {
          "output_type": "stream",
          "text": [
            "Epoch=1/2:  82%|████████▏ | 179/217 [22:49<04:54,  7.74s/it, acc=0.406, loss=0.702]"
          ],
          "name": "stderr"
        },
        {
          "output_type": "stream",
          "text": [
            "Got 13 / 32 with accuracy 40.62\n"
          ],
          "name": "stdout"
        },
        {
          "output_type": "stream",
          "text": [
            "Epoch=1/2:  83%|████████▎ | 180/217 [22:57<04:46,  7.75s/it, acc=0.5, loss=0.686]"
          ],
          "name": "stderr"
        },
        {
          "output_type": "stream",
          "text": [
            "Got 16 / 32 with accuracy 50.00\n"
          ],
          "name": "stdout"
        },
        {
          "output_type": "stream",
          "text": [
            "Epoch=1/2:  83%|████████▎ | 181/217 [23:05<04:40,  7.80s/it, acc=0.625, loss=0.683]"
          ],
          "name": "stderr"
        },
        {
          "output_type": "stream",
          "text": [
            "Got 20 / 32 with accuracy 62.50\n"
          ],
          "name": "stdout"
        },
        {
          "output_type": "stream",
          "text": [
            "Epoch=1/2:  84%|████████▍ | 182/217 [23:13<04:34,  7.85s/it, acc=0.438, loss=0.711]"
          ],
          "name": "stderr"
        },
        {
          "output_type": "stream",
          "text": [
            "Got 14 / 32 with accuracy 43.75\n"
          ],
          "name": "stdout"
        },
        {
          "output_type": "stream",
          "text": [
            "Epoch=1/2:  84%|████████▍ | 183/217 [23:20<04:27,  7.85s/it, acc=0.5, loss=0.689]"
          ],
          "name": "stderr"
        },
        {
          "output_type": "stream",
          "text": [
            "Got 16 / 32 with accuracy 50.00\n"
          ],
          "name": "stdout"
        },
        {
          "output_type": "stream",
          "text": [
            "Epoch=1/2:  85%|████████▍ | 184/217 [23:28<04:20,  7.89s/it, acc=0.656, loss=0.66]"
          ],
          "name": "stderr"
        },
        {
          "output_type": "stream",
          "text": [
            "Got 21 / 32 with accuracy 65.62\n"
          ],
          "name": "stdout"
        },
        {
          "output_type": "stream",
          "text": [
            "Epoch=1/2:  85%|████████▌ | 185/217 [23:36<04:12,  7.88s/it, acc=0.438, loss=0.703]"
          ],
          "name": "stderr"
        },
        {
          "output_type": "stream",
          "text": [
            "Got 14 / 32 with accuracy 43.75\n"
          ],
          "name": "stdout"
        },
        {
          "output_type": "stream",
          "text": [
            "Epoch=1/2:  86%|████████▌ | 186/217 [23:44<04:04,  7.87s/it, acc=0.406, loss=0.692]"
          ],
          "name": "stderr"
        },
        {
          "output_type": "stream",
          "text": [
            "Got 13 / 32 with accuracy 40.62\n"
          ],
          "name": "stdout"
        },
        {
          "output_type": "stream",
          "text": [
            "Epoch=1/2:  86%|████████▌ | 187/217 [23:52<03:57,  7.91s/it, acc=0.406, loss=0.712]"
          ],
          "name": "stderr"
        },
        {
          "output_type": "stream",
          "text": [
            "Got 13 / 32 with accuracy 40.62\n"
          ],
          "name": "stdout"
        },
        {
          "output_type": "stream",
          "text": [
            "Epoch=1/2:  87%|████████▋ | 188/217 [24:00<03:50,  7.94s/it, acc=0.469, loss=0.707]"
          ],
          "name": "stderr"
        },
        {
          "output_type": "stream",
          "text": [
            "Got 15 / 32 with accuracy 46.88\n"
          ],
          "name": "stdout"
        },
        {
          "output_type": "stream",
          "text": [
            "Epoch=1/2:  87%|████████▋ | 189/217 [24:08<03:41,  7.92s/it, acc=0.594, loss=0.677]"
          ],
          "name": "stderr"
        },
        {
          "output_type": "stream",
          "text": [
            "Got 19 / 32 with accuracy 59.38\n"
          ],
          "name": "stdout"
        },
        {
          "output_type": "stream",
          "text": [
            "Epoch=1/2:  88%|████████▊ | 190/217 [24:16<03:34,  7.93s/it, acc=0.562, loss=0.688]"
          ],
          "name": "stderr"
        },
        {
          "output_type": "stream",
          "text": [
            "Got 18 / 32 with accuracy 56.25\n"
          ],
          "name": "stdout"
        },
        {
          "output_type": "stream",
          "text": [
            "Epoch=1/2:  88%|████████▊ | 191/217 [24:24<03:24,  7.88s/it, acc=0.562, loss=0.69]"
          ],
          "name": "stderr"
        },
        {
          "output_type": "stream",
          "text": [
            "Got 18 / 32 with accuracy 56.25\n"
          ],
          "name": "stdout"
        },
        {
          "output_type": "stream",
          "text": [
            "Epoch=1/2:  88%|████████▊ | 192/217 [24:31<03:16,  7.85s/it, acc=0.625, loss=0.681]"
          ],
          "name": "stderr"
        },
        {
          "output_type": "stream",
          "text": [
            "Got 20 / 32 with accuracy 62.50\n"
          ],
          "name": "stdout"
        },
        {
          "output_type": "stream",
          "text": [
            "Epoch=1/2:  89%|████████▉ | 193/217 [24:39<03:08,  7.87s/it, acc=0.625, loss=0.686]"
          ],
          "name": "stderr"
        },
        {
          "output_type": "stream",
          "text": [
            "Got 20 / 32 with accuracy 62.50\n"
          ],
          "name": "stdout"
        },
        {
          "output_type": "stream",
          "text": [
            "Epoch=1/2:  89%|████████▉ | 194/217 [24:47<03:00,  7.87s/it, acc=0.406, loss=0.712]"
          ],
          "name": "stderr"
        },
        {
          "output_type": "stream",
          "text": [
            "Got 13 / 32 with accuracy 40.62\n"
          ],
          "name": "stdout"
        },
        {
          "output_type": "stream",
          "text": [
            "Epoch=1/2:  90%|████████▉ | 195/217 [24:55<02:52,  7.83s/it, acc=0.562, loss=0.688]"
          ],
          "name": "stderr"
        },
        {
          "output_type": "stream",
          "text": [
            "Got 18 / 32 with accuracy 56.25\n"
          ],
          "name": "stdout"
        },
        {
          "output_type": "stream",
          "text": [
            "Epoch=1/2:  90%|█████████ | 196/217 [25:03<02:44,  7.82s/it, acc=0.5, loss=0.705]"
          ],
          "name": "stderr"
        },
        {
          "output_type": "stream",
          "text": [
            "Got 16 / 32 with accuracy 50.00\n"
          ],
          "name": "stdout"
        },
        {
          "output_type": "stream",
          "text": [
            "Epoch=1/2:  91%|█████████ | 197/217 [25:10<02:34,  7.75s/it, acc=0.5, loss=0.708]"
          ],
          "name": "stderr"
        },
        {
          "output_type": "stream",
          "text": [
            "Got 16 / 32 with accuracy 50.00\n"
          ],
          "name": "stdout"
        },
        {
          "output_type": "stream",
          "text": [
            "Epoch=1/2:  91%|█████████ | 198/217 [25:18<02:26,  7.70s/it, acc=0.531, loss=0.696]"
          ],
          "name": "stderr"
        },
        {
          "output_type": "stream",
          "text": [
            "Got 17 / 32 with accuracy 53.12\n"
          ],
          "name": "stdout"
        },
        {
          "output_type": "stream",
          "text": [
            "Epoch=1/2:  92%|█████████▏| 199/217 [25:25<02:17,  7.63s/it, acc=0.594, loss=0.683]"
          ],
          "name": "stderr"
        },
        {
          "output_type": "stream",
          "text": [
            "Got 19 / 32 with accuracy 59.38\n"
          ],
          "name": "stdout"
        },
        {
          "output_type": "stream",
          "text": [
            "Epoch=1/2:  92%|█████████▏| 200/217 [25:33<02:10,  7.69s/it, acc=0.5, loss=0.703]"
          ],
          "name": "stderr"
        },
        {
          "output_type": "stream",
          "text": [
            "Got 16 / 32 with accuracy 50.00\n"
          ],
          "name": "stdout"
        },
        {
          "output_type": "stream",
          "text": [
            "Epoch=1/2:  93%|█████████▎| 201/217 [25:41<02:04,  7.76s/it, acc=0.406, loss=0.7]"
          ],
          "name": "stderr"
        },
        {
          "output_type": "stream",
          "text": [
            "Got 13 / 32 with accuracy 40.62\n"
          ],
          "name": "stdout"
        },
        {
          "output_type": "stream",
          "text": [
            "Epoch=1/2:  93%|█████████▎| 202/217 [25:49<01:56,  7.76s/it, acc=0.5, loss=0.702]"
          ],
          "name": "stderr"
        },
        {
          "output_type": "stream",
          "text": [
            "Got 16 / 32 with accuracy 50.00\n"
          ],
          "name": "stdout"
        },
        {
          "output_type": "stream",
          "text": [
            "Epoch=1/2:  94%|█████████▎| 203/217 [25:57<01:48,  7.72s/it, acc=0.688, loss=0.664]"
          ],
          "name": "stderr"
        },
        {
          "output_type": "stream",
          "text": [
            "Got 22 / 32 with accuracy 68.75\n"
          ],
          "name": "stdout"
        },
        {
          "output_type": "stream",
          "text": [
            "Epoch=1/2:  94%|█████████▍| 204/217 [26:04<01:40,  7.72s/it, acc=0.5, loss=0.684]"
          ],
          "name": "stderr"
        },
        {
          "output_type": "stream",
          "text": [
            "Got 16 / 32 with accuracy 50.00\n"
          ],
          "name": "stdout"
        },
        {
          "output_type": "stream",
          "text": [
            "Epoch=1/2:  94%|█████████▍| 205/217 [26:12<01:32,  7.73s/it, acc=0.625, loss=0.671]"
          ],
          "name": "stderr"
        },
        {
          "output_type": "stream",
          "text": [
            "Got 20 / 32 with accuracy 62.50\n"
          ],
          "name": "stdout"
        },
        {
          "output_type": "stream",
          "text": [
            "Epoch=1/2:  95%|█████████▍| 206/217 [26:20<01:24,  7.71s/it, acc=0.5, loss=0.688]"
          ],
          "name": "stderr"
        },
        {
          "output_type": "stream",
          "text": [
            "Got 16 / 32 with accuracy 50.00\n"
          ],
          "name": "stdout"
        },
        {
          "output_type": "stream",
          "text": [
            "Epoch=1/2:  95%|█████████▌| 207/217 [26:27<01:16,  7.67s/it, acc=0.562, loss=0.671]"
          ],
          "name": "stderr"
        },
        {
          "output_type": "stream",
          "text": [
            "Got 18 / 32 with accuracy 56.25\n"
          ],
          "name": "stdout"
        },
        {
          "output_type": "stream",
          "text": [
            "Epoch=1/2:  96%|█████████▌| 208/217 [26:35<01:09,  7.69s/it, acc=0.656, loss=0.686]"
          ],
          "name": "stderr"
        },
        {
          "output_type": "stream",
          "text": [
            "Got 21 / 32 with accuracy 65.62\n"
          ],
          "name": "stdout"
        },
        {
          "output_type": "stream",
          "text": [
            "Epoch=1/2:  96%|█████████▋| 209/217 [26:43<01:01,  7.69s/it, acc=0.375, loss=0.72]"
          ],
          "name": "stderr"
        },
        {
          "output_type": "stream",
          "text": [
            "Got 12 / 32 with accuracy 37.50\n"
          ],
          "name": "stdout"
        },
        {
          "output_type": "stream",
          "text": [
            "Epoch=1/2:  97%|█████████▋| 210/217 [26:50<00:53,  7.67s/it, acc=0.656, loss=0.668]"
          ],
          "name": "stderr"
        },
        {
          "output_type": "stream",
          "text": [
            "Got 21 / 32 with accuracy 65.62\n"
          ],
          "name": "stdout"
        },
        {
          "output_type": "stream",
          "text": [
            "Epoch=1/2:  97%|█████████▋| 211/217 [26:58<00:45,  7.65s/it, acc=0.562, loss=0.689]"
          ],
          "name": "stderr"
        },
        {
          "output_type": "stream",
          "text": [
            "Got 18 / 32 with accuracy 56.25\n"
          ],
          "name": "stdout"
        },
        {
          "output_type": "stream",
          "text": [
            "Epoch=1/2:  98%|█████████▊| 212/217 [27:06<00:38,  7.65s/it, acc=0.562, loss=0.691]"
          ],
          "name": "stderr"
        },
        {
          "output_type": "stream",
          "text": [
            "Got 18 / 32 with accuracy 56.25\n"
          ],
          "name": "stdout"
        },
        {
          "output_type": "stream",
          "text": [
            "Epoch=1/2:  98%|█████████▊| 213/217 [27:13<00:30,  7.67s/it, acc=0.438, loss=0.698]"
          ],
          "name": "stderr"
        },
        {
          "output_type": "stream",
          "text": [
            "Got 14 / 32 with accuracy 43.75\n"
          ],
          "name": "stdout"
        },
        {
          "output_type": "stream",
          "text": [
            "Epoch=1/2:  99%|█████████▊| 214/217 [27:21<00:22,  7.67s/it, acc=0.562, loss=0.692]"
          ],
          "name": "stderr"
        },
        {
          "output_type": "stream",
          "text": [
            "Got 18 / 32 with accuracy 56.25\n"
          ],
          "name": "stdout"
        },
        {
          "output_type": "stream",
          "text": [
            "Epoch=1/2:  99%|█████████▉| 215/217 [27:29<00:15,  7.69s/it, acc=0.469, loss=0.69]"
          ],
          "name": "stderr"
        },
        {
          "output_type": "stream",
          "text": [
            "Got 15 / 32 with accuracy 46.88\n"
          ],
          "name": "stdout"
        },
        {
          "output_type": "stream",
          "text": [
            "Epoch=1/2: 100%|█████████▉| 216/217 [27:37<00:07,  7.74s/it, acc=0.625, loss=0.678]"
          ],
          "name": "stderr"
        },
        {
          "output_type": "stream",
          "text": [
            "Got 20 / 32 with accuracy 62.50\n"
          ],
          "name": "stdout"
        },
        {
          "output_type": "stream",
          "text": [
            "                                                                                   "
          ],
          "name": "stderr"
        },
        {
          "output_type": "stream",
          "text": [
            "Got 3 / 8 with accuracy 37.50\n"
          ],
          "name": "stdout"
        },
        {
          "output_type": "stream",
          "text": [
            "\r"
          ],
          "name": "stderr"
        }
      ]
    },
    {
      "cell_type": "code",
      "metadata": {
        "id": "-OgkHQ38WLM1"
      },
      "source": [
        ""
      ],
      "execution_count": null,
      "outputs": []
    }
  ]
}