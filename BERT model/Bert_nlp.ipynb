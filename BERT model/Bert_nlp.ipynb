{
 "cells": [
  {
   "cell_type": "code",
   "execution_count": null,
   "metadata": {
    "colab": {
     "base_uri": "https://localhost:8080/",
     "height": 1000
    },
    "colab_type": "code",
    "id": "PCHfTphS2buW",
    "outputId": "b4c8266b-f6e7-43d5-b861-a7758c899e44"
   },
   "outputs": [],
   "source": [
    "!pip install ktrain"
   ]
  },
  {
   "cell_type": "markdown",
   "metadata": {},
   "source": [
    "Before appling BERT model, I have applied RNN - LSTM model with pre-trained glove word Embeddings where I got maximum accuracy of approx. 78.7% of accuracy after lot of text preprocessing."
   ]
  },
  {
   "cell_type": "markdown",
   "metadata": {},
   "source": [
    "# By Bert Model"
   ]
  },
  {
   "cell_type": "code",
   "execution_count": 3,
   "metadata": {
    "colab": {},
    "colab_type": "code",
    "id": "NWrOwQOt3LWw"
   },
   "outputs": [],
   "source": [
    "#import ktrain\n",
    "import ktrain\n",
    "from ktrain import text"
   ]
  },
  {
   "cell_type": "code",
   "execution_count": null,
   "metadata": {
    "colab": {
     "base_uri": "https://localhost:8080/",
     "height": 191
    },
    "colab_type": "code",
    "id": "FpiAK-dQtIjL",
    "outputId": "20c9c379-e894-47d9-f2bc-3096eb7e193f"
   },
   "outputs": [
    {
     "name": "stdout",
     "output_type": "stream",
     "text": [
      "[nltk_data] Downloading package stopwords to /root/nltk_data...\n",
      "[nltk_data]   Package stopwords is already up-to-date!\n",
      "[nltk_data] Downloading package wordnet to /root/nltk_data...\n",
      "[nltk_data]   Unzipping corpora/wordnet.zip.\n",
      "[nltk_data] Downloading package punkt to /root/nltk_data...\n",
      "[nltk_data]   Unzipping tokenizers/punkt.zip.\n",
      "[nltk_data] Downloading package averaged_perceptron_tagger to\n",
      "[nltk_data]     /root/nltk_data...\n",
      "[nltk_data]   Unzipping taggers/averaged_perceptron_tagger.zip.\n"
     ]
    },
    {
     "data": {
      "text/plain": [
       "True"
      ]
     },
     "execution_count": 5,
     "metadata": {
      "tags": []
     },
     "output_type": "execute_result"
    }
   ],
   "source": [
    "import nltk\n",
    "nltk.download('stopwords')\n",
    "nltk.download('wordnet')\n",
    "nltk.download('punkt')\n",
    "nltk.download('averaged_perceptron_tagger') \n",
    "from nltk.corpus import stopwords"
   ]
  },
  {
   "cell_type": "markdown",
   "metadata": {},
   "source": [
    "Importing libraries"
   ]
  },
  {
   "cell_type": "code",
   "execution_count": null,
   "metadata": {},
   "outputs": [],
   "source": [
    "#imports\n",
    "import numpy as np\n",
    "import pandas as pd\n",
    "import matplotlib.pyplot as plt\n",
    "import seaborn as sns\n",
    "import csv\n",
    "import re\n",
    "import nltk\n",
    "from nltk.stem import WordNetLemmatizer\n",
    "from nltk.corpus import stopwords"
   ]
  },
  {
   "cell_type": "markdown",
   "metadata": {},
   "source": [
    "Dataset loading and cleaning"
   ]
  },
  {
   "cell_type": "code",
   "execution_count": 42,
   "metadata": {
    "colab": {},
    "colab_type": "code",
    "id": "Yk65Y9-1r4n5"
   },
   "outputs": [],
   "source": [
    "#load dataset\n",
    "dataset_train = pd.read_csv(\n",
    "    '/content/drive/My Drive/nlp-getting-started/dataset_train.csv')\n",
    "dataset_test = pd.read_csv(\n",
    "    '/content/drive/My Drive/nlp-getting-started/test.csv')\n",
    "\n",
    "# dataset_cleaning\n",
    "\n",
    "lemmatizer = WordNetLemmatizer()\n",
    "\n",
    "text_train = list(dataset_train['text'])\n",
    "keyword_train = list(dataset_train['keyword'])\n",
    "location_train = list(dataset_train['location'])\n",
    "\n",
    "for i in range(len(text_train)):\n",
    "\n",
    "    reviews = text_train[i].split()\n",
    "    for q in range(len(reviews)):\n",
    "        if reviews[q][:4]=='http':\n",
    "            reviews[q]=''\n",
    "\n",
    "\n",
    "    if type(location_train[i]) != float:\n",
    "        reviews.append(location_train[i])\n",
    "    \n",
    "    text_train[i] = ' '.join(reviews)\n",
    "\n",
    "\n",
    "text_test = list(dataset_test['text'])\n",
    "keyword_test = list(dataset_test['keyword'])\n",
    "location_test = list(dataset_test['location'])\n",
    "\n",
    "for i in range(len(text_test)):\n",
    "    \n",
    "\n",
    "    reviews_test = text_test[i].split()\n",
    "    for k in range(len(reviews_test)):\n",
    "        if reviews_test[k][:4] == 'http':\n",
    "            reviews_test[k] = ''\n",
    "\n",
    "    if type(location_test[i]) != float:\n",
    "        reviews_test.append(location_test[i])\n",
    "\n",
    "    \n",
    "    text_test[i] = ' '.join(reviews_test)\n",
    "\n"
   ]
  },
  {
   "cell_type": "code",
   "execution_count": 43,
   "metadata": {
    "colab": {},
    "colab_type": "code",
    "id": "yD2qELX-7QrS"
   },
   "outputs": [],
   "source": [
    "text_train_x=np.array(text_train) \n",
    "text_train_y=np.array(list(dataset_train['target']))"
   ]
  },
  {
   "cell_type": "code",
   "execution_count": 44,
   "metadata": {
    "colab": {
     "base_uri": "https://localhost:8080/",
     "height": 557
    },
    "colab_type": "code",
    "id": "zyxOYgItYXIF",
    "outputId": "84816b53-f6ea-4534-9801-0e2bd394a99b"
   },
   "outputs": [
    {
     "data": {
      "text/plain": [
       "['Our Deeds are the Reason of this #earthquake May ALLAH Forgive us all',\n",
       " 'Forest fire near La Ronge Sask. Canada',\n",
       " \"All residents asked to 'shelter in place' are being notified by officers. No other evacuation or shelter in place orders are expected\",\n",
       " '13,000 people receive #wildfires evacuation orders in California',\n",
       " 'Just got sent this photo from Ruby #Alaska as smoke from #wildfires pours into a school',\n",
       " '#RockyFire Update => California Hwy. 20 closed in both directions due to Lake County fire - #CAfire #wildfires',\n",
       " '#flood #disaster Heavy rain causes flash flooding of streets in Manitou, Colorado Springs areas',\n",
       " \"I'm on top of the hill and I can see a fire in the woods...\",\n",
       " \"There's an emergency evacuation happening now in the building across the street\",\n",
       " \"I'm afraid that the tornado is coming to our area...\",\n",
       " 'Three people died from the heat wave so far',\n",
       " 'Haha South Tampa is getting flooded hah- WAIT A SECOND I LIVE IN SOUTH TAMPA WHAT AM I GONNA DO WHAT AM I GONNA DO FVCK #flooding',\n",
       " \"#raining #flooding #Florida #TampaBay #Tampa 18 or 19 days. I've lost count\",\n",
       " '#Flood in Bago Myanmar #We arrived Bago',\n",
       " 'Damage to school bus on 80 in multi car crash #BREAKING',\n",
       " \"What's up man?\",\n",
       " 'I love fruits',\n",
       " 'Summer is lovely',\n",
       " 'My car is so fast',\n",
       " 'What a goooooooaaaaaal!!!!!!',\n",
       " 'this is ridiculous....',\n",
       " 'London is cool ;)',\n",
       " 'Love skiing',\n",
       " 'What a wonderful day!',\n",
       " 'LOOOOOOL',\n",
       " \"No way...I can't eat that shit\",\n",
       " 'Was in NYC last week!',\n",
       " 'Love my girlfriend',\n",
       " 'Cooool :)',\n",
       " 'Do you like pasta?']"
      ]
     },
     "execution_count": 44,
     "metadata": {
      "tags": []
     },
     "output_type": "execute_result"
    }
   ],
   "source": [
    "text_train[:30]"
   ]
  },
  {
   "cell_type": "code",
   "execution_count": 45,
   "metadata": {
    "colab": {
     "base_uri": "https://localhost:8080/",
     "height": 35
    },
    "colab_type": "code",
    "id": "BDkKM4y2Aig9",
    "outputId": "ef379c0b-758f-486f-8321-3a32231b4965"
   },
   "outputs": [
    {
     "data": {
      "text/plain": [
       "numpy.int64"
      ]
     },
     "execution_count": 45,
     "metadata": {
      "tags": []
     },
     "output_type": "execute_result"
    }
   ],
   "source": [
    "type(np.array(list(dataset_train['target']))[0])"
   ]
  },
  {
   "cell_type": "markdown",
   "metadata": {},
   "source": [
    "Load pre-trained BERT Model "
   ]
  },
  {
   "cell_type": "code",
   "execution_count": 46,
   "metadata": {
    "colab": {
     "base_uri": "https://localhost:8080/",
     "height": 156
    },
    "colab_type": "code",
    "id": "ErrE4Bz9667X",
    "outputId": "4702894f-0b5d-4153-8a6d-c0c4b2a363cc"
   },
   "outputs": [
    {
     "name": "stdout",
     "output_type": "stream",
     "text": [
      "task: text classification\n",
      "preprocessing train...\n",
      "language: en\n"
     ]
    },
    {
     "data": {
      "text/html": [
       "done."
      ],
      "text/plain": [
       "<IPython.core.display.HTML object>"
      ]
     },
     "metadata": {
      "tags": []
     },
     "output_type": "display_data"
    },
    {
     "name": "stdout",
     "output_type": "stream",
     "text": [
      "Is Multi-Label? False\n",
      "preprocessing test...\n",
      "language: en\n"
     ]
    },
    {
     "data": {
      "text/html": [
       "done."
      ],
      "text/plain": [
       "<IPython.core.display.HTML object>"
      ]
     },
     "metadata": {
      "tags": []
     },
     "output_type": "display_data"
    }
   ],
   "source": [
    "(x_train,y_train),(x_test,y_test),preprocess=text.texts_from_array(x_train=text_train_x,y_train=text_train_y,maxlen=76,preprocess_mode='bert',class_names=['0','1'],max_features=30000)"
   ]
  },
  {
   "cell_type": "code",
   "execution_count": 48,
   "metadata": {
    "colab": {
     "base_uri": "https://localhost:8080/",
     "height": 69
    },
    "colab_type": "code",
    "id": "q9d9niH9Fq50",
    "outputId": "ed975b7a-895e-4e4e-f391-5feeb512fb69"
   },
   "outputs": [
    {
     "name": "stdout",
     "output_type": "stream",
     "text": [
      "Is Multi-Label? False\n",
      "maxlen is 76\n",
      "done.\n"
     ]
    }
   ],
   "source": [
    "model=text.text_classifier('bert',train_data=(x_train,y_train),preproc=preprocess)"
   ]
  },
  {
   "cell_type": "code",
   "execution_count": 49,
   "metadata": {
    "colab": {},
    "colab_type": "code",
    "id": "LFm10U-uH0z6"
   },
   "outputs": [],
   "source": [
    "learner=ktrain.get_learner(model=model,train_data=(x_train,y_train),val_data=(x_test,y_test),batch_size=16)"
   ]
  },
  {
   "cell_type": "markdown",
   "metadata": {},
   "source": [
    "Find Appropiate learning rate for BERT model"
   ]
  },
  {
   "cell_type": "code",
   "execution_count": null,
   "metadata": {},
   "outputs": [],
   "source": [
    "learner.lr_find()\n",
    "learner.lr_plot()"
   ]
  },
  {
   "cell_type": "code",
   "execution_count": 50,
   "metadata": {
    "colab": {
     "base_uri": "https://localhost:8080/",
     "height": 523
    },
    "colab_type": "code",
    "id": "Gr-_CXWKM_BC",
    "outputId": "0ac4d9bd-35c9-4030-db76-54a2ba8f9cc7"
   },
   "outputs": [
    {
     "name": "stdout",
     "output_type": "stream",
     "text": [
      "early_stopping automatically enabled at patience=5\n",
      "reduce_on_plateau automatically enabled at patience=2\n",
      "\n",
      "\n",
      "begin training using triangular learning rate policy with max lr of 1e-05...\n",
      "Train on 6851 samples, validate on 762 samples\n",
      "Epoch 1/1024\n",
      "6851/6851 [==============================] - 328s 48ms/sample - loss: 0.4784 - accuracy: 0.7818 - val_loss: 0.3748 - val_accuracy: 0.8412\n",
      "Epoch 2/1024\n",
      "6851/6851 [==============================] - 306s 45ms/sample - loss: 0.3579 - accuracy: 0.8542 - val_loss: 0.3645 - val_accuracy: 0.8504\n",
      "Epoch 3/1024\n",
      "6851/6851 [==============================] - 305s 44ms/sample - loss: 0.2965 - accuracy: 0.8845 - val_loss: 0.3940 - val_accuracy: 0.8386\n",
      "Epoch 4/1024\n",
      "6848/6851 [============================>.] - ETA: 0s - loss: 0.2447 - accuracy: 0.9076\n",
      "Epoch 00004: Reducing Max LR on Plateau: new max lr will be 5e-06 (if not early_stopping).\n",
      "6851/6851 [==============================] - 305s 45ms/sample - loss: 0.2450 - accuracy: 0.9075 - val_loss: 0.4274 - val_accuracy: 0.8438\n",
      "Epoch 5/1024\n",
      "6851/6851 [==============================] - 306s 45ms/sample - loss: 0.1821 - accuracy: 0.9336 - val_loss: 0.4483 - val_accuracy: 0.8478\n",
      "Epoch 6/1024\n",
      "6848/6851 [============================>.] - ETA: 0s - loss: 0.1487 - accuracy: 0.9461\n",
      "Epoch 00006: Reducing Max LR on Plateau: new max lr will be 2.5e-06 (if not early_stopping).\n",
      "6851/6851 [==============================] - 301s 44ms/sample - loss: 0.1486 - accuracy: 0.9461 - val_loss: 0.4940 - val_accuracy: 0.8425\n",
      "Epoch 7/1024\n",
      "6848/6851 [============================>.] - ETA: 0s - loss: 0.1184 - accuracy: 0.9569Restoring model weights from the end of the best epoch.\n",
      "6851/6851 [==============================] - 298s 44ms/sample - loss: 0.1183 - accuracy: 0.9569 - val_loss: 0.5149 - val_accuracy: 0.8373\n",
      "Epoch 00007: early stopping\n",
      "Weights from best epoch have been loaded into model.\n"
     ]
    },
    {
     "data": {
      "text/plain": [
       "<tensorflow.python.keras.callbacks.History at 0x7f6392474eb8>"
      ]
     },
     "execution_count": 50,
     "metadata": {
      "tags": []
     },
     "output_type": "execute_result"
    }
   ],
   "source": [
    "learner.autofit(lr=1e-5)"
   ]
  },
  {
   "cell_type": "code",
   "execution_count": 51,
   "metadata": {
    "colab": {},
    "colab_type": "code",
    "id": "9BZo0E7bI7BL"
   },
   "outputs": [],
   "source": [
    "predictor=ktrain.get_predictor(learner.model,preproc=preprocess)"
   ]
  },
  {
   "cell_type": "markdown",
   "metadata": {
    "colab": {
     "base_uri": "https://localhost:8080/",
     "height": 415
    },
    "colab_type": "code",
    "id": "pp6aFuH7WRkw",
    "outputId": "f4dd669c-aa98-4426-ff74-f9b500d33452"
   },
   "source": [
    "Final Predictions "
   ]
  },
  {
   "cell_type": "code",
   "execution_count": 53,
   "metadata": {
    "colab": {
     "base_uri": "https://localhost:8080/",
     "height": 17
    },
    "colab_type": "code",
    "id": "T5dyQjpbVUs9",
    "outputId": "e57bd3ea-1ec0-49ba-e45f-30d2f890e335"
   },
   "outputs": [
    {
     "data": {
      "text/html": [],
      "text/plain": [
       "<IPython.core.display.HTML object>"
      ]
     },
     "metadata": {
      "tags": []
     },
     "output_type": "display_data"
    }
   ],
   "source": [
    "dataset_test['target']=predictor.predict(text_test)"
   ]
  },
  {
   "cell_type": "code",
   "execution_count": 54,
   "metadata": {
    "colab": {},
    "colab_type": "code",
    "id": "KPvAMOPIVkBB"
   },
   "outputs": [],
   "source": [
    "y_pred_target=pd.concat([dataset_test['id'],dataset_test['target'].astype('int32')],axis=1)"
   ]
  },
  {
   "cell_type": "code",
   "execution_count": 55,
   "metadata": {
    "colab": {
     "base_uri": "https://localhost:8080/",
     "height": 415
    },
    "colab_type": "code",
    "id": "QrwslF-AWwx0",
    "outputId": "cb1e35c0-e7c5-42e4-da99-d7f171d303fc"
   },
   "outputs": [
    {
     "data": {
      "text/html": [
       "<div>\n",
       "<style scoped>\n",
       "    .dataframe tbody tr th:only-of-type {\n",
       "        vertical-align: middle;\n",
       "    }\n",
       "\n",
       "    .dataframe tbody tr th {\n",
       "        vertical-align: top;\n",
       "    }\n",
       "\n",
       "    .dataframe thead th {\n",
       "        text-align: right;\n",
       "    }\n",
       "</style>\n",
       "<table border=\"1\" class=\"dataframe\">\n",
       "  <thead>\n",
       "    <tr style=\"text-align: right;\">\n",
       "      <th></th>\n",
       "      <th>id</th>\n",
       "      <th>target</th>\n",
       "    </tr>\n",
       "  </thead>\n",
       "  <tbody>\n",
       "    <tr>\n",
       "      <th>0</th>\n",
       "      <td>0</td>\n",
       "      <td>1</td>\n",
       "    </tr>\n",
       "    <tr>\n",
       "      <th>1</th>\n",
       "      <td>2</td>\n",
       "      <td>1</td>\n",
       "    </tr>\n",
       "    <tr>\n",
       "      <th>2</th>\n",
       "      <td>3</td>\n",
       "      <td>1</td>\n",
       "    </tr>\n",
       "    <tr>\n",
       "      <th>3</th>\n",
       "      <td>9</td>\n",
       "      <td>1</td>\n",
       "    </tr>\n",
       "    <tr>\n",
       "      <th>4</th>\n",
       "      <td>11</td>\n",
       "      <td>1</td>\n",
       "    </tr>\n",
       "    <tr>\n",
       "      <th>...</th>\n",
       "      <td>...</td>\n",
       "      <td>...</td>\n",
       "    </tr>\n",
       "    <tr>\n",
       "      <th>3258</th>\n",
       "      <td>10861</td>\n",
       "      <td>1</td>\n",
       "    </tr>\n",
       "    <tr>\n",
       "      <th>3259</th>\n",
       "      <td>10865</td>\n",
       "      <td>1</td>\n",
       "    </tr>\n",
       "    <tr>\n",
       "      <th>3260</th>\n",
       "      <td>10868</td>\n",
       "      <td>1</td>\n",
       "    </tr>\n",
       "    <tr>\n",
       "      <th>3261</th>\n",
       "      <td>10874</td>\n",
       "      <td>1</td>\n",
       "    </tr>\n",
       "    <tr>\n",
       "      <th>3262</th>\n",
       "      <td>10875</td>\n",
       "      <td>1</td>\n",
       "    </tr>\n",
       "  </tbody>\n",
       "</table>\n",
       "<p>3263 rows × 2 columns</p>\n",
       "</div>"
      ],
      "text/plain": [
       "         id  target\n",
       "0         0       1\n",
       "1         2       1\n",
       "2         3       1\n",
       "3         9       1\n",
       "4        11       1\n",
       "...     ...     ...\n",
       "3258  10861       1\n",
       "3259  10865       1\n",
       "3260  10868       1\n",
       "3261  10874       1\n",
       "3262  10875       1\n",
       "\n",
       "[3263 rows x 2 columns]"
      ]
     },
     "execution_count": 55,
     "metadata": {
      "tags": []
     },
     "output_type": "execute_result"
    }
   ],
   "source": [
    "y_pred_target"
   ]
  },
  {
   "cell_type": "markdown",
   "metadata": {},
   "source": [
    "Save Final predictions"
   ]
  },
  {
   "cell_type": "code",
   "execution_count": 56,
   "metadata": {
    "colab": {},
    "colab_type": "code",
    "id": "dpOrXCrzW5S8"
   },
   "outputs": [],
   "source": [
    "y_pred_target.to_csv('bert_final_3',index=False)"
   ]
  },
  {
   "cell_type": "markdown",
   "metadata": {},
   "source": [
    "# LSTM Model"
   ]
  },
  {
   "cell_type": "markdown",
   "metadata": {},
   "source": [
    "Firstly I applied LSTM model with pre-trained glove Word Embedding but got no better results"
   ]
  },
  {
   "cell_type": "code",
   "execution_count": null,
   "metadata": {
    "colab": {},
    "colab_type": "code",
    "id": "zbJlD5jmt9Vf"
   },
   "outputs": [],
   "source": [
    "from tensorflow.keras.preprocessing.text import Tokenizer\n",
    "from tensorflow.keras.preprocessing.sequence import pad_sequences"
   ]
  },
  {
   "cell_type": "code",
   "execution_count": null,
   "metadata": {
    "colab": {
     "base_uri": "https://localhost:8080/",
     "height": 35
    },
    "colab_type": "code",
    "id": "LndXskFxcZh8",
    "outputId": "370e0180-0c12-487a-aa31-79918dac91cd"
   },
   "outputs": [
    {
     "data": {
      "text/plain": [
       "176"
      ]
     },
     "execution_count": 12,
     "metadata": {
      "tags": []
     },
     "output_type": "execute_result"
    }
   ],
   "source": [
    "max([len(l) for l in text_train])"
   ]
  },
  {
   "cell_type": "code",
   "execution_count": null,
   "metadata": {
    "colab": {},
    "colab_type": "code",
    "id": "bt3ad7gNtV4t"
   },
   "outputs": [],
   "source": [
    "max_length=max([len(l) for l in text_train])\n",
    "\n",
    "# embedding_dim=100\n",
    "tokenizer=Tokenizer(oov_token='<OOV>')\n",
    "\n",
    "tokenizer.fit_on_texts(text_train)\n",
    "word_index=tokenizer.word_index\n",
    "sequences = tokenizer.texts_to_sequences(text_train)\n",
    "padded_train = pad_sequences(sequences, maxlen=70, padding='post', truncating='post')\n",
    "\n",
    "sequences_pred= tokenizer.texts_to_sequences(text_test)\n",
    "padded_test=pad_sequences(sequences_pred, maxlen=70, padding='post', truncating='post')\n"
   ]
  },
  {
   "cell_type": "code",
   "execution_count": null,
   "metadata": {
    "colab": {},
    "colab_type": "code",
    "id": "D2HyRTZJuRc2"
   },
   "outputs": [],
   "source": [
    "from tensorflow.keras.layers import Dense,Embedding,LSTM\n",
    "from tensorflow.keras.models import Sequential\n",
    "from tensorflow.keras.optimizers import RMSprop"
   ]
  },
  {
   "cell_type": "code",
   "execution_count": null,
   "metadata": {
    "colab": {},
    "colab_type": "code",
    "id": "DNIPTzeevFvT"
   },
   "outputs": [],
   "source": [
    "import tensorflow as tf"
   ]
  },
  {
   "cell_type": "code",
   "execution_count": null,
   "metadata": {
    "colab": {},
    "colab_type": "code",
    "id": "3UTvGdg6unwJ"
   },
   "outputs": [],
   "source": [
    "embedding_dim=100"
   ]
  },
  {
   "cell_type": "code",
   "execution_count": null,
   "metadata": {
    "colab": {},
    "colab_type": "code",
    "id": "q2r-5WLbuFWf"
   },
   "outputs": [],
   "source": [
    "embeddings_index = {}\n",
    "vocab_size=len(word_index)\n",
    "with open('/content/drive/My Drive/image captioning/glove.6B.100d.txt') as f:\n",
    "    for line in f:\n",
    "        values = line.split();\n",
    "        word = values[0];\n",
    "        coefs = np.asarray(values[1:], dtype='float32');\n",
    "        embeddings_index[word] = coefs;\n",
    "\n",
    "embeddings_matrix = np.zeros((vocab_size+1, embedding_dim));\n",
    "for word, i in word_index.items():\n",
    "    embedding_vector = embeddings_index.get(word);\n",
    "    if embedding_vector is not None:\n",
    "        embeddings_matrix[i] = embedding_vector;\n"
   ]
  },
  {
   "cell_type": "code",
   "execution_count": null,
   "metadata": {
    "colab": {},
    "colab_type": "code",
    "id": "dCav4FToutc1"
   },
   "outputs": [],
   "source": [
    "model = tf.keras.Sequential([\n",
    "    tf.keras.layers.Embedding(vocab_size+1, embedding_dim, input_length=70, weights=[embeddings_matrix], trainable=False),\n",
    "    tf.keras.layers.Dropout(0.2),\n",
    "    tf.keras.layers.Conv1D(64, 5, activation='relu'),\n",
    "    tf.keras.layers.MaxPooling1D(pool_size=4),\n",
    "    tf.keras.layers.Bidirectional(LSTM(256)),\n",
    "    tf.keras.layers.Dense(1, activation='sigmoid')\n",
    "])\n",
    "\n",
    "model.compile(loss='binary_crossentropy',optimizer='adam',metrics=['accuracy'])"
   ]
  },
  {
   "cell_type": "code",
   "execution_count": null,
   "metadata": {
    "colab": {
     "base_uri": "https://localhost:8080/",
     "height": 1000
    },
    "colab_type": "code",
    "id": "pzAnY70CvU7I",
    "outputId": "8ec879cf-6baf-4cf4-e8b6-01382287bc42"
   },
   "outputs": [
    {
     "name": "stdout",
     "output_type": "stream",
     "text": [
      "Epoch 1/40\n",
      "226/226 [==============================] - 2s 9ms/step - loss: 0.5082 - accuracy: 0.7526 - val_loss: 0.4568 - val_accuracy: 0.8031\n",
      "Epoch 2/40\n",
      "226/226 [==============================] - 1s 6ms/step - loss: 0.4421 - accuracy: 0.8005 - val_loss: 0.4884 - val_accuracy: 0.7848\n",
      "Epoch 3/40\n",
      "226/226 [==============================] - 1s 6ms/step - loss: 0.4024 - accuracy: 0.8204 - val_loss: 0.4733 - val_accuracy: 0.7927\n",
      "Epoch 4/40\n",
      "226/226 [==============================] - 1s 6ms/step - loss: 0.3739 - accuracy: 0.8367 - val_loss: 0.4406 - val_accuracy: 0.8005\n",
      "Epoch 5/40\n",
      "226/226 [==============================] - 1s 6ms/step - loss: 0.3255 - accuracy: 0.8650 - val_loss: 0.4781 - val_accuracy: 0.7848\n",
      "Epoch 6/40\n",
      "226/226 [==============================] - 1s 6ms/step - loss: 0.2912 - accuracy: 0.8865 - val_loss: 0.5008 - val_accuracy: 0.8005\n",
      "Epoch 7/40\n",
      "226/226 [==============================] - 1s 6ms/step - loss: 0.2573 - accuracy: 0.8988 - val_loss: 0.5288 - val_accuracy: 0.7795\n",
      "Epoch 8/40\n",
      "226/226 [==============================] - 1s 6ms/step - loss: 0.2237 - accuracy: 0.9122 - val_loss: 0.5331 - val_accuracy: 0.8136\n",
      "Epoch 9/40\n",
      "226/226 [==============================] - 1s 6ms/step - loss: 0.2150 - accuracy: 0.9134 - val_loss: 0.5883 - val_accuracy: 0.7900\n",
      "Epoch 10/40\n",
      "226/226 [==============================] - 1s 6ms/step - loss: 0.1879 - accuracy: 0.9287 - val_loss: 0.7445 - val_accuracy: 0.7454\n",
      "Epoch 11/40\n",
      "226/226 [==============================] - 1s 6ms/step - loss: 0.1785 - accuracy: 0.9282 - val_loss: 0.6444 - val_accuracy: 0.7979\n",
      "Epoch 12/40\n",
      "226/226 [==============================] - 1s 6ms/step - loss: 0.1613 - accuracy: 0.9382 - val_loss: 0.6663 - val_accuracy: 0.8005\n",
      "Epoch 13/40\n",
      "226/226 [==============================] - 1s 6ms/step - loss: 0.1470 - accuracy: 0.9446 - val_loss: 0.6564 - val_accuracy: 0.8058\n",
      "Epoch 14/40\n",
      "226/226 [==============================] - 1s 6ms/step - loss: 0.1381 - accuracy: 0.9475 - val_loss: 0.6063 - val_accuracy: 0.8136\n",
      "Epoch 15/40\n",
      "226/226 [==============================] - 1s 6ms/step - loss: 0.1386 - accuracy: 0.9444 - val_loss: 0.6656 - val_accuracy: 0.8163\n",
      "Epoch 16/40\n",
      "226/226 [==============================] - 1s 6ms/step - loss: 0.1250 - accuracy: 0.9516 - val_loss: 0.6687 - val_accuracy: 0.8058\n",
      "Epoch 17/40\n",
      "226/226 [==============================] - 1s 6ms/step - loss: 0.1225 - accuracy: 0.9537 - val_loss: 0.7444 - val_accuracy: 0.7953\n",
      "Epoch 18/40\n",
      "226/226 [==============================] - 1s 6ms/step - loss: 0.1068 - accuracy: 0.9592 - val_loss: 0.8385 - val_accuracy: 0.7953\n",
      "Epoch 19/40\n",
      "226/226 [==============================] - 1s 6ms/step - loss: 0.1159 - accuracy: 0.9555 - val_loss: 0.8197 - val_accuracy: 0.7900\n",
      "Epoch 20/40\n",
      "226/226 [==============================] - 1s 6ms/step - loss: 0.1101 - accuracy: 0.9580 - val_loss: 0.6796 - val_accuracy: 0.8031\n",
      "Epoch 21/40\n",
      "226/226 [==============================] - 1s 6ms/step - loss: 0.0994 - accuracy: 0.9631 - val_loss: 0.7735 - val_accuracy: 0.8136\n",
      "Epoch 22/40\n",
      "226/226 [==============================] - 1s 6ms/step - loss: 0.0913 - accuracy: 0.9646 - val_loss: 0.8745 - val_accuracy: 0.8031\n",
      "Epoch 23/40\n",
      "226/226 [==============================] - 1s 6ms/step - loss: 0.0954 - accuracy: 0.9636 - val_loss: 1.0291 - val_accuracy: 0.7769\n",
      "Epoch 24/40\n",
      "226/226 [==============================] - 1s 6ms/step - loss: 0.0905 - accuracy: 0.9632 - val_loss: 0.7641 - val_accuracy: 0.7927\n",
      "Epoch 25/40\n",
      "226/226 [==============================] - 1s 6ms/step - loss: 0.0949 - accuracy: 0.9656 - val_loss: 0.8601 - val_accuracy: 0.7979\n",
      "Epoch 26/40\n",
      "226/226 [==============================] - 1s 6ms/step - loss: 0.0824 - accuracy: 0.9674 - val_loss: 0.7913 - val_accuracy: 0.8031\n",
      "Epoch 27/40\n",
      "226/226 [==============================] - 1s 6ms/step - loss: 0.0879 - accuracy: 0.9660 - val_loss: 0.7563 - val_accuracy: 0.7953\n",
      "Epoch 28/40\n",
      "226/226 [==============================] - 1s 6ms/step - loss: 0.0800 - accuracy: 0.9707 - val_loss: 0.7411 - val_accuracy: 0.8110\n",
      "Epoch 29/40\n",
      "226/226 [==============================] - 1s 6ms/step - loss: 0.0810 - accuracy: 0.9699 - val_loss: 0.7671 - val_accuracy: 0.8031\n",
      "Epoch 30/40\n",
      "226/226 [==============================] - 1s 6ms/step - loss: 0.0779 - accuracy: 0.9715 - val_loss: 0.8316 - val_accuracy: 0.8163\n",
      "Epoch 31/40\n",
      "226/226 [==============================] - 1s 6ms/step - loss: 0.0783 - accuracy: 0.9704 - val_loss: 0.7979 - val_accuracy: 0.8084\n",
      "Epoch 32/40\n",
      "226/226 [==============================] - 1s 6ms/step - loss: 0.0719 - accuracy: 0.9721 - val_loss: 0.8427 - val_accuracy: 0.8005\n",
      "Epoch 33/40\n",
      "226/226 [==============================] - 1s 6ms/step - loss: 0.0698 - accuracy: 0.9739 - val_loss: 0.8833 - val_accuracy: 0.8084\n",
      "Epoch 34/40\n",
      "226/226 [==============================] - 1s 6ms/step - loss: 0.0755 - accuracy: 0.9681 - val_loss: 0.8760 - val_accuracy: 0.8163\n",
      "Epoch 35/40\n",
      "226/226 [==============================] - 1s 6ms/step - loss: 0.0720 - accuracy: 0.9726 - val_loss: 0.9048 - val_accuracy: 0.8058\n",
      "Epoch 36/40\n",
      "226/226 [==============================] - 1s 6ms/step - loss: 0.0679 - accuracy: 0.9755 - val_loss: 0.8369 - val_accuracy: 0.8136\n",
      "Epoch 37/40\n",
      "226/226 [==============================] - 1s 6ms/step - loss: 0.0552 - accuracy: 0.9769 - val_loss: 0.9375 - val_accuracy: 0.8136\n",
      "Epoch 38/40\n",
      "226/226 [==============================] - 1s 6ms/step - loss: 0.0611 - accuracy: 0.9762 - val_loss: 0.9667 - val_accuracy: 0.8058\n",
      "Epoch 39/40\n",
      "226/226 [==============================] - 1s 6ms/step - loss: 0.0632 - accuracy: 0.9746 - val_loss: 1.0189 - val_accuracy: 0.8058\n",
      "Epoch 40/40\n",
      "226/226 [==============================] - 1s 6ms/step - loss: 0.0590 - accuracy: 0.9776 - val_loss: 0.9361 - val_accuracy: 0.8031\n"
     ]
    }
   ],
   "source": [
    "num_epochs = 40\n",
    "training_padded=np.array(padded_train)\n",
    "training_labels=np.array(dataset_train['target'],dtype='float')\n",
    "history = model.fit(training_padded, training_labels, epochs=num_epochs,validation_split=0.05)"
   ]
  },
  {
   "cell_type": "code",
   "execution_count": null,
   "metadata": {
    "colab": {},
    "colab_type": "code",
    "id": "G29pvJeqvmE0"
   },
   "outputs": [],
   "source": [
    "testing_data=np.array(padded_test)\n",
    "result=model.predict(testing_data)\n",
    "result[result>=0.5]=1\n",
    "result[result<0.5]=0"
   ]
  },
  {
   "cell_type": "code",
   "execution_count": null,
   "metadata": {
    "colab": {},
    "colab_type": "code",
    "id": "qzTPpWF-h5wY"
   },
   "outputs": [],
   "source": []
  },
  {
   "cell_type": "code",
   "execution_count": null,
   "metadata": {
    "colab": {
     "base_uri": "https://localhost:8080/",
     "height": 35
    },
    "colab_type": "code",
    "id": "ilyRsSM2YHB_",
    "outputId": "cb128317-3403-47ea-90dd-1aa1adf579fa"
   },
   "outputs": [
    {
     "data": {
      "text/plain": [
       "(3263, 1)"
      ]
     },
     "execution_count": 129,
     "metadata": {
      "tags": []
     },
     "output_type": "execute_result"
    }
   ],
   "source": [
    "result.shape"
   ]
  },
  {
   "cell_type": "code",
   "execution_count": null,
   "metadata": {
    "colab": {
     "base_uri": "https://localhost:8080/",
     "height": 364
    },
    "colab_type": "code",
    "id": "iVbRMlG6wGmJ",
    "outputId": "133573db-f931-4ffd-d518-ed136f357c19"
   },
   "outputs": [
    {
     "data": {
      "text/plain": [
       "array([[1.],\n",
       "       [1.],\n",
       "       [1.],\n",
       "       [1.],\n",
       "       [1.],\n",
       "       [1.],\n",
       "       [0.],\n",
       "       [0.],\n",
       "       [0.],\n",
       "       [0.],\n",
       "       [0.],\n",
       "       [0.],\n",
       "       [0.],\n",
       "       [0.],\n",
       "       [0.],\n",
       "       [0.],\n",
       "       [0.],\n",
       "       [1.],\n",
       "       [0.],\n",
       "       [0.]], dtype=float32)"
      ]
     },
     "execution_count": 130,
     "metadata": {
      "tags": []
     },
     "output_type": "execute_result"
    }
   ],
   "source": [
    "result[:20] "
   ]
  },
  {
   "cell_type": "code",
   "execution_count": null,
   "metadata": {
    "colab": {},
    "colab_type": "code",
    "id": "bsj9sZbKwgS1"
   },
   "outputs": [],
   "source": [
    "result=result.reshape((result.shape[0],))"
   ]
  },
  {
   "cell_type": "code",
   "execution_count": null,
   "metadata": {
    "colab": {},
    "colab_type": "code",
    "id": "IldEpAoBt1lR"
   },
   "outputs": [],
   "source": []
  },
  {
   "cell_type": "code",
   "execution_count": null,
   "metadata": {
    "colab": {},
    "colab_type": "code",
    "id": "dSRmu4DXwO2c"
   },
   "outputs": [],
   "source": [
    "y_pred=pd.concat([dataset_test,pd.Series(result,name='target').astype('int32')],axis=1)"
   ]
  },
  {
   "cell_type": "code",
   "execution_count": null,
   "metadata": {
    "colab": {},
    "colab_type": "code",
    "id": "kTS1ySTbh_C1"
   },
   "outputs": [],
   "source": [
    "value_count_keyword=dict(dataset_train['keyword'].value_counts())"
   ]
  },
  {
   "cell_type": "code",
   "execution_count": null,
   "metadata": {
    "colab": {
     "base_uri": "https://localhost:8080/",
     "height": 52
    },
    "colab_type": "code",
    "id": "4RoFuk_5joF8",
    "outputId": "2a8d3c12-0d75-4405-bcbd-9220ca6862bb"
   },
   "outputs": [
    {
     "data": {
      "text/plain": [
       "ruin    37\n",
       "Name: keyword, dtype: int64"
      ]
     },
     "execution_count": 89,
     "metadata": {
      "tags": []
     },
     "output_type": "execute_result"
    }
   ],
   "source": [
    "dataset_train[dataset_train['keyword']=='ruin']['keyword'].value_counts()"
   ]
  },
  {
   "cell_type": "code",
   "execution_count": null,
   "metadata": {
    "colab": {},
    "colab_type": "code",
    "id": "RJC3TdMgiL-i"
   },
   "outputs": [],
   "source": [
    "value_count_keyword_zero=dict(dataset_train[dataset_train['target']==0]['keyword'].value_counts())"
   ]
  },
  {
   "cell_type": "code",
   "execution_count": null,
   "metadata": {
    "colab": {},
    "colab_type": "code",
    "id": "8HAc7tk7t58K"
   },
   "outputs": [],
   "source": [
    "value_count_keyword_one=dict(dataset_train[dataset_train['target']==1]['keyword'].value_counts())"
   ]
  },
  {
   "cell_type": "code",
   "execution_count": null,
   "metadata": {
    "colab": {},
    "colab_type": "code",
    "id": "4XAOb_3kqrsd"
   },
   "outputs": [],
   "source": [
    "for i in list(value_count_keyword.keys()):\n",
    "  try:\n",
    "    if (int(value_count_keyword[i]) >= 35) and ((int(value_count_keyword[i]) - int(value_count_keyword_zero[i])) < 4):\n",
    "      y_pred.loc[y_pred['keyword'] == i,'target']=0\n",
    "  except KeyError:\n",
    "    pass"
   ]
  },
  {
   "cell_type": "code",
   "execution_count": null,
   "metadata": {
    "colab": {},
    "colab_type": "code",
    "id": "Q4a_MC2nuPvl"
   },
   "outputs": [],
   "source": [
    "for i in list(value_count_keyword.keys()):\n",
    "  if (int(value_count_keyword[i]) >= 35) and ((int(value_count_keyword[i]) - int(value_count_keyword_one[i])) < 4):\n",
    "    y_pred.loc[y_pred['keyword'] == i,'target']=1\n"
   ]
  },
  {
   "cell_type": "code",
   "execution_count": null,
   "metadata": {
    "colab": {},
    "colab_type": "code",
    "id": "XBoHa2-Wv4aD"
   },
   "outputs": [],
   "source": [
    "y_pred_target=pd.concat([dataset_test['id'],y_pred['target'].astype('int32')],axis=1)"
   ]
  },
  {
   "cell_type": "code",
   "execution_count": null,
   "metadata": {
    "colab": {
     "base_uri": "https://localhost:8080/",
     "height": 415
    },
    "colab_type": "code",
    "id": "RU32QvukwUlz",
    "outputId": "0ac7cdba-81b2-4899-88df-95f9e80cb433"
   },
   "outputs": [
    {
     "data": {
      "text/html": [
       "<div>\n",
       "<style scoped>\n",
       "    .dataframe tbody tr th:only-of-type {\n",
       "        vertical-align: middle;\n",
       "    }\n",
       "\n",
       "    .dataframe tbody tr th {\n",
       "        vertical-align: top;\n",
       "    }\n",
       "\n",
       "    .dataframe thead th {\n",
       "        text-align: right;\n",
       "    }\n",
       "</style>\n",
       "<table border=\"1\" class=\"dataframe\">\n",
       "  <thead>\n",
       "    <tr style=\"text-align: right;\">\n",
       "      <th></th>\n",
       "      <th>id</th>\n",
       "      <th>target</th>\n",
       "    </tr>\n",
       "  </thead>\n",
       "  <tbody>\n",
       "    <tr>\n",
       "      <th>0</th>\n",
       "      <td>0</td>\n",
       "      <td>1</td>\n",
       "    </tr>\n",
       "    <tr>\n",
       "      <th>1</th>\n",
       "      <td>2</td>\n",
       "      <td>1</td>\n",
       "    </tr>\n",
       "    <tr>\n",
       "      <th>2</th>\n",
       "      <td>3</td>\n",
       "      <td>1</td>\n",
       "    </tr>\n",
       "    <tr>\n",
       "      <th>3</th>\n",
       "      <td>9</td>\n",
       "      <td>1</td>\n",
       "    </tr>\n",
       "    <tr>\n",
       "      <th>4</th>\n",
       "      <td>11</td>\n",
       "      <td>1</td>\n",
       "    </tr>\n",
       "    <tr>\n",
       "      <th>...</th>\n",
       "      <td>...</td>\n",
       "      <td>...</td>\n",
       "    </tr>\n",
       "    <tr>\n",
       "      <th>3258</th>\n",
       "      <td>10861</td>\n",
       "      <td>0</td>\n",
       "    </tr>\n",
       "    <tr>\n",
       "      <th>3259</th>\n",
       "      <td>10865</td>\n",
       "      <td>1</td>\n",
       "    </tr>\n",
       "    <tr>\n",
       "      <th>3260</th>\n",
       "      <td>10868</td>\n",
       "      <td>0</td>\n",
       "    </tr>\n",
       "    <tr>\n",
       "      <th>3261</th>\n",
       "      <td>10874</td>\n",
       "      <td>0</td>\n",
       "    </tr>\n",
       "    <tr>\n",
       "      <th>3262</th>\n",
       "      <td>10875</td>\n",
       "      <td>1</td>\n",
       "    </tr>\n",
       "  </tbody>\n",
       "</table>\n",
       "<p>3263 rows × 2 columns</p>\n",
       "</div>"
      ],
      "text/plain": [
       "         id  target\n",
       "0         0       1\n",
       "1         2       1\n",
       "2         3       1\n",
       "3         9       1\n",
       "4        11       1\n",
       "...     ...     ...\n",
       "3258  10861       0\n",
       "3259  10865       1\n",
       "3260  10868       0\n",
       "3261  10874       0\n",
       "3262  10875       1\n",
       "\n",
       "[3263 rows x 2 columns]"
      ]
     },
     "execution_count": 139,
     "metadata": {
      "tags": []
     },
     "output_type": "execute_result"
    }
   ],
   "source": [
    "y_pred_target"
   ]
  },
  {
   "cell_type": "code",
   "execution_count": null,
   "metadata": {
    "colab": {},
    "colab_type": "code",
    "id": "P0MeA2ayh-UC"
   },
   "outputs": [],
   "source": [
    "y_pred_target.to_csv('cnn_rnn_final',index=False)"
   ]
  },
  {
   "cell_type": "code",
   "execution_count": null,
   "metadata": {
    "colab": {},
    "colab_type": "code",
    "id": "qXo8DZRr6Gys"
   },
   "outputs": [],
   "source": []
  }
 ],
 "metadata": {
  "accelerator": "GPU",
  "colab": {
   "name": "Bert_nlp",
   "provenance": []
  },
  "kernelspec": {
   "display_name": "Python 3",
   "language": "python",
   "name": "python3"
  },
  "language_info": {
   "codemirror_mode": {
    "name": "ipython",
    "version": 3
   },
   "file_extension": ".py",
   "mimetype": "text/x-python",
   "name": "python",
   "nbconvert_exporter": "python",
   "pygments_lexer": "ipython3",
   "version": "3.8.5"
  },
  "widgets": {
   "application/vnd.jupyter.widget-state+json": {
    "03c0084774d44675b3799e042a34d8d2": {
     "model_module": "@jupyter-widgets/controls",
     "model_name": "ProgressStyleModel",
     "state": {
      "_model_module": "@jupyter-widgets/controls",
      "_model_module_version": "1.5.0",
      "_model_name": "ProgressStyleModel",
      "_view_count": null,
      "_view_module": "@jupyter-widgets/base",
      "_view_module_version": "1.2.0",
      "_view_name": "StyleView",
      "bar_color": null,
      "description_width": "initial"
     }
    },
    "070aa7abad3a4128afe45a5b3fa9d5af": {
     "model_module": "@jupyter-widgets/controls",
     "model_name": "FloatProgressModel",
     "state": {
      "_dom_classes": [],
      "_model_module": "@jupyter-widgets/controls",
      "_model_module_version": "1.5.0",
      "_model_name": "FloatProgressModel",
      "_view_count": null,
      "_view_module": "@jupyter-widgets/controls",
      "_view_module_version": "1.5.0",
      "_view_name": "ProgressView",
      "bar_style": "success",
      "description": "Downloading: 100%",
      "description_tooltip": null,
      "layout": "IPY_MODEL_b670af0201c1426da771be9876c6c7f5",
      "max": 440473133,
      "min": 0,
      "orientation": "horizontal",
      "style": "IPY_MODEL_03c0084774d44675b3799e042a34d8d2",
      "value": 440473133
     }
    },
    "1f06b8d49734424c9603371f907b1234": {
     "model_module": "@jupyter-widgets/controls",
     "model_name": "DescriptionStyleModel",
     "state": {
      "_model_module": "@jupyter-widgets/controls",
      "_model_module_version": "1.5.0",
      "_model_name": "DescriptionStyleModel",
      "_view_count": null,
      "_view_module": "@jupyter-widgets/base",
      "_view_module_version": "1.2.0",
      "_view_name": "StyleView",
      "description_width": ""
     }
    },
    "292f936defc046efb175d0b07af4960c": {
     "model_module": "@jupyter-widgets/base",
     "model_name": "LayoutModel",
     "state": {
      "_model_module": "@jupyter-widgets/base",
      "_model_module_version": "1.2.0",
      "_model_name": "LayoutModel",
      "_view_count": null,
      "_view_module": "@jupyter-widgets/base",
      "_view_module_version": "1.2.0",
      "_view_name": "LayoutView",
      "align_content": null,
      "align_items": null,
      "align_self": null,
      "border": null,
      "bottom": null,
      "display": null,
      "flex": null,
      "flex_flow": null,
      "grid_area": null,
      "grid_auto_columns": null,
      "grid_auto_flow": null,
      "grid_auto_rows": null,
      "grid_column": null,
      "grid_gap": null,
      "grid_row": null,
      "grid_template_areas": null,
      "grid_template_columns": null,
      "grid_template_rows": null,
      "height": null,
      "justify_content": null,
      "justify_items": null,
      "left": null,
      "margin": null,
      "max_height": null,
      "max_width": null,
      "min_height": null,
      "min_width": null,
      "object_fit": null,
      "object_position": null,
      "order": null,
      "overflow": null,
      "overflow_x": null,
      "overflow_y": null,
      "padding": null,
      "right": null,
      "top": null,
      "visibility": null,
      "width": null
     }
    },
    "32800177e44742c99d81daf4427963c1": {
     "model_module": "@jupyter-widgets/controls",
     "model_name": "HTMLModel",
     "state": {
      "_dom_classes": [],
      "_model_module": "@jupyter-widgets/controls",
      "_model_module_version": "1.5.0",
      "_model_name": "HTMLModel",
      "_view_count": null,
      "_view_module": "@jupyter-widgets/controls",
      "_view_module_version": "1.5.0",
      "_view_name": "HTMLView",
      "description": "",
      "description_tooltip": null,
      "layout": "IPY_MODEL_d54dbf4c6e994b6a99c8ecc41541fa21",
      "placeholder": "​",
      "style": "IPY_MODEL_1f06b8d49734424c9603371f907b1234",
      "value": " 433/433 [00:06&lt;00:00, 66.6B/s]"
     }
    },
    "3b85ce63f83a46d48e0ccc19a647e60a": {
     "model_module": "@jupyter-widgets/controls",
     "model_name": "HTMLModel",
     "state": {
      "_dom_classes": [],
      "_model_module": "@jupyter-widgets/controls",
      "_model_module_version": "1.5.0",
      "_model_name": "HTMLModel",
      "_view_count": null,
      "_view_module": "@jupyter-widgets/controls",
      "_view_module_version": "1.5.0",
      "_view_name": "HTMLView",
      "description": "",
      "description_tooltip": null,
      "layout": "IPY_MODEL_593b1ebd54d84e6fb30419ac3043fa05",
      "placeholder": "​",
      "style": "IPY_MODEL_dfd868517bd74b2fa55a42d500b0d88a",
      "value": " 232k/232k [00:00&lt;00:00, 613kB/s]"
     }
    },
    "46f11d13928f443cac06db277e772b5b": {
     "model_module": "@jupyter-widgets/controls",
     "model_name": "HTMLModel",
     "state": {
      "_dom_classes": [],
      "_model_module": "@jupyter-widgets/controls",
      "_model_module_version": "1.5.0",
      "_model_name": "HTMLModel",
      "_view_count": null,
      "_view_module": "@jupyter-widgets/controls",
      "_view_module_version": "1.5.0",
      "_view_name": "HTMLView",
      "description": "",
      "description_tooltip": null,
      "layout": "IPY_MODEL_c1b45879a178487da6ff252aeeb55ab6",
      "placeholder": "​",
      "style": "IPY_MODEL_b9bdb8bf399242389d5a8212930b0a66",
      "value": " 440M/440M [00:06&lt;00:00, 69.4MB/s]"
     }
    },
    "4d06710c728a42fdb09988cbee1af921": {
     "model_module": "@jupyter-widgets/controls",
     "model_name": "HBoxModel",
     "state": {
      "_dom_classes": [],
      "_model_module": "@jupyter-widgets/controls",
      "_model_module_version": "1.5.0",
      "_model_name": "HBoxModel",
      "_view_count": null,
      "_view_module": "@jupyter-widgets/controls",
      "_view_module_version": "1.5.0",
      "_view_name": "HBoxView",
      "box_style": "",
      "children": [
       "IPY_MODEL_ac4d8e6aac0c4d81bea6eb47b056619d",
       "IPY_MODEL_3b85ce63f83a46d48e0ccc19a647e60a"
      ],
      "layout": "IPY_MODEL_e7d75e2458384acca33229bd03ac0e76"
     }
    },
    "593b1ebd54d84e6fb30419ac3043fa05": {
     "model_module": "@jupyter-widgets/base",
     "model_name": "LayoutModel",
     "state": {
      "_model_module": "@jupyter-widgets/base",
      "_model_module_version": "1.2.0",
      "_model_name": "LayoutModel",
      "_view_count": null,
      "_view_module": "@jupyter-widgets/base",
      "_view_module_version": "1.2.0",
      "_view_name": "LayoutView",
      "align_content": null,
      "align_items": null,
      "align_self": null,
      "border": null,
      "bottom": null,
      "display": null,
      "flex": null,
      "flex_flow": null,
      "grid_area": null,
      "grid_auto_columns": null,
      "grid_auto_flow": null,
      "grid_auto_rows": null,
      "grid_column": null,
      "grid_gap": null,
      "grid_row": null,
      "grid_template_areas": null,
      "grid_template_columns": null,
      "grid_template_rows": null,
      "height": null,
      "justify_content": null,
      "justify_items": null,
      "left": null,
      "margin": null,
      "max_height": null,
      "max_width": null,
      "min_height": null,
      "min_width": null,
      "object_fit": null,
      "object_position": null,
      "order": null,
      "overflow": null,
      "overflow_x": null,
      "overflow_y": null,
      "padding": null,
      "right": null,
      "top": null,
      "visibility": null,
      "width": null
     }
    },
    "5dad8e2653474d908a033e6c1479fc27": {
     "model_module": "@jupyter-widgets/controls",
     "model_name": "ProgressStyleModel",
     "state": {
      "_model_module": "@jupyter-widgets/controls",
      "_model_module_version": "1.5.0",
      "_model_name": "ProgressStyleModel",
      "_view_count": null,
      "_view_module": "@jupyter-widgets/base",
      "_view_module_version": "1.2.0",
      "_view_name": "StyleView",
      "bar_color": null,
      "description_width": "initial"
     }
    },
    "8d0ccbca819f46d5b4aaac7b83b00e08": {
     "model_module": "@jupyter-widgets/controls",
     "model_name": "HBoxModel",
     "state": {
      "_dom_classes": [],
      "_model_module": "@jupyter-widgets/controls",
      "_model_module_version": "1.5.0",
      "_model_name": "HBoxModel",
      "_view_count": null,
      "_view_module": "@jupyter-widgets/controls",
      "_view_module_version": "1.5.0",
      "_view_name": "HBoxView",
      "box_style": "",
      "children": [
       "IPY_MODEL_070aa7abad3a4128afe45a5b3fa9d5af",
       "IPY_MODEL_46f11d13928f443cac06db277e772b5b"
      ],
      "layout": "IPY_MODEL_be5f2d037cd64b8e93346f499c1668ad"
     }
    },
    "982e121c69414d399918e76240e94bbc": {
     "model_module": "@jupyter-widgets/controls",
     "model_name": "FloatProgressModel",
     "state": {
      "_dom_classes": [],
      "_model_module": "@jupyter-widgets/controls",
      "_model_module_version": "1.5.0",
      "_model_name": "FloatProgressModel",
      "_view_count": null,
      "_view_module": "@jupyter-widgets/controls",
      "_view_module_version": "1.5.0",
      "_view_name": "ProgressView",
      "bar_style": "success",
      "description": "Downloading: 100%",
      "description_tooltip": null,
      "layout": "IPY_MODEL_f5ddb87eb4ac4d59b96bf999bdc652d8",
      "max": 433,
      "min": 0,
      "orientation": "horizontal",
      "style": "IPY_MODEL_a052ad5c2de74825a225d035f5b02c32",
      "value": 433
     }
    },
    "a052ad5c2de74825a225d035f5b02c32": {
     "model_module": "@jupyter-widgets/controls",
     "model_name": "ProgressStyleModel",
     "state": {
      "_model_module": "@jupyter-widgets/controls",
      "_model_module_version": "1.5.0",
      "_model_name": "ProgressStyleModel",
      "_view_count": null,
      "_view_module": "@jupyter-widgets/base",
      "_view_module_version": "1.2.0",
      "_view_name": "StyleView",
      "bar_color": null,
      "description_width": "initial"
     }
    },
    "ac4d8e6aac0c4d81bea6eb47b056619d": {
     "model_module": "@jupyter-widgets/controls",
     "model_name": "FloatProgressModel",
     "state": {
      "_dom_classes": [],
      "_model_module": "@jupyter-widgets/controls",
      "_model_module_version": "1.5.0",
      "_model_name": "FloatProgressModel",
      "_view_count": null,
      "_view_module": "@jupyter-widgets/controls",
      "_view_module_version": "1.5.0",
      "_view_name": "ProgressView",
      "bar_style": "success",
      "description": "Downloading: 100%",
      "description_tooltip": null,
      "layout": "IPY_MODEL_292f936defc046efb175d0b07af4960c",
      "max": 231508,
      "min": 0,
      "orientation": "horizontal",
      "style": "IPY_MODEL_5dad8e2653474d908a033e6c1479fc27",
      "value": 231508
     }
    },
    "b670af0201c1426da771be9876c6c7f5": {
     "model_module": "@jupyter-widgets/base",
     "model_name": "LayoutModel",
     "state": {
      "_model_module": "@jupyter-widgets/base",
      "_model_module_version": "1.2.0",
      "_model_name": "LayoutModel",
      "_view_count": null,
      "_view_module": "@jupyter-widgets/base",
      "_view_module_version": "1.2.0",
      "_view_name": "LayoutView",
      "align_content": null,
      "align_items": null,
      "align_self": null,
      "border": null,
      "bottom": null,
      "display": null,
      "flex": null,
      "flex_flow": null,
      "grid_area": null,
      "grid_auto_columns": null,
      "grid_auto_flow": null,
      "grid_auto_rows": null,
      "grid_column": null,
      "grid_gap": null,
      "grid_row": null,
      "grid_template_areas": null,
      "grid_template_columns": null,
      "grid_template_rows": null,
      "height": null,
      "justify_content": null,
      "justify_items": null,
      "left": null,
      "margin": null,
      "max_height": null,
      "max_width": null,
      "min_height": null,
      "min_width": null,
      "object_fit": null,
      "object_position": null,
      "order": null,
      "overflow": null,
      "overflow_x": null,
      "overflow_y": null,
      "padding": null,
      "right": null,
      "top": null,
      "visibility": null,
      "width": null
     }
    },
    "b9bdb8bf399242389d5a8212930b0a66": {
     "model_module": "@jupyter-widgets/controls",
     "model_name": "DescriptionStyleModel",
     "state": {
      "_model_module": "@jupyter-widgets/controls",
      "_model_module_version": "1.5.0",
      "_model_name": "DescriptionStyleModel",
      "_view_count": null,
      "_view_module": "@jupyter-widgets/base",
      "_view_module_version": "1.2.0",
      "_view_name": "StyleView",
      "description_width": ""
     }
    },
    "be5f2d037cd64b8e93346f499c1668ad": {
     "model_module": "@jupyter-widgets/base",
     "model_name": "LayoutModel",
     "state": {
      "_model_module": "@jupyter-widgets/base",
      "_model_module_version": "1.2.0",
      "_model_name": "LayoutModel",
      "_view_count": null,
      "_view_module": "@jupyter-widgets/base",
      "_view_module_version": "1.2.0",
      "_view_name": "LayoutView",
      "align_content": null,
      "align_items": null,
      "align_self": null,
      "border": null,
      "bottom": null,
      "display": null,
      "flex": null,
      "flex_flow": null,
      "grid_area": null,
      "grid_auto_columns": null,
      "grid_auto_flow": null,
      "grid_auto_rows": null,
      "grid_column": null,
      "grid_gap": null,
      "grid_row": null,
      "grid_template_areas": null,
      "grid_template_columns": null,
      "grid_template_rows": null,
      "height": null,
      "justify_content": null,
      "justify_items": null,
      "left": null,
      "margin": null,
      "max_height": null,
      "max_width": null,
      "min_height": null,
      "min_width": null,
      "object_fit": null,
      "object_position": null,
      "order": null,
      "overflow": null,
      "overflow_x": null,
      "overflow_y": null,
      "padding": null,
      "right": null,
      "top": null,
      "visibility": null,
      "width": null
     }
    },
    "c1b45879a178487da6ff252aeeb55ab6": {
     "model_module": "@jupyter-widgets/base",
     "model_name": "LayoutModel",
     "state": {
      "_model_module": "@jupyter-widgets/base",
      "_model_module_version": "1.2.0",
      "_model_name": "LayoutModel",
      "_view_count": null,
      "_view_module": "@jupyter-widgets/base",
      "_view_module_version": "1.2.0",
      "_view_name": "LayoutView",
      "align_content": null,
      "align_items": null,
      "align_self": null,
      "border": null,
      "bottom": null,
      "display": null,
      "flex": null,
      "flex_flow": null,
      "grid_area": null,
      "grid_auto_columns": null,
      "grid_auto_flow": null,
      "grid_auto_rows": null,
      "grid_column": null,
      "grid_gap": null,
      "grid_row": null,
      "grid_template_areas": null,
      "grid_template_columns": null,
      "grid_template_rows": null,
      "height": null,
      "justify_content": null,
      "justify_items": null,
      "left": null,
      "margin": null,
      "max_height": null,
      "max_width": null,
      "min_height": null,
      "min_width": null,
      "object_fit": null,
      "object_position": null,
      "order": null,
      "overflow": null,
      "overflow_x": null,
      "overflow_y": null,
      "padding": null,
      "right": null,
      "top": null,
      "visibility": null,
      "width": null
     }
    },
    "d29b144b2b244b518b3990312334c9d7": {
     "model_module": "@jupyter-widgets/controls",
     "model_name": "HBoxModel",
     "state": {
      "_dom_classes": [],
      "_model_module": "@jupyter-widgets/controls",
      "_model_module_version": "1.5.0",
      "_model_name": "HBoxModel",
      "_view_count": null,
      "_view_module": "@jupyter-widgets/controls",
      "_view_module_version": "1.5.0",
      "_view_name": "HBoxView",
      "box_style": "",
      "children": [
       "IPY_MODEL_982e121c69414d399918e76240e94bbc",
       "IPY_MODEL_32800177e44742c99d81daf4427963c1"
      ],
      "layout": "IPY_MODEL_ef34d888e26249af87b0c6a0d1bc13ff"
     }
    },
    "d54dbf4c6e994b6a99c8ecc41541fa21": {
     "model_module": "@jupyter-widgets/base",
     "model_name": "LayoutModel",
     "state": {
      "_model_module": "@jupyter-widgets/base",
      "_model_module_version": "1.2.0",
      "_model_name": "LayoutModel",
      "_view_count": null,
      "_view_module": "@jupyter-widgets/base",
      "_view_module_version": "1.2.0",
      "_view_name": "LayoutView",
      "align_content": null,
      "align_items": null,
      "align_self": null,
      "border": null,
      "bottom": null,
      "display": null,
      "flex": null,
      "flex_flow": null,
      "grid_area": null,
      "grid_auto_columns": null,
      "grid_auto_flow": null,
      "grid_auto_rows": null,
      "grid_column": null,
      "grid_gap": null,
      "grid_row": null,
      "grid_template_areas": null,
      "grid_template_columns": null,
      "grid_template_rows": null,
      "height": null,
      "justify_content": null,
      "justify_items": null,
      "left": null,
      "margin": null,
      "max_height": null,
      "max_width": null,
      "min_height": null,
      "min_width": null,
      "object_fit": null,
      "object_position": null,
      "order": null,
      "overflow": null,
      "overflow_x": null,
      "overflow_y": null,
      "padding": null,
      "right": null,
      "top": null,
      "visibility": null,
      "width": null
     }
    },
    "dfd868517bd74b2fa55a42d500b0d88a": {
     "model_module": "@jupyter-widgets/controls",
     "model_name": "DescriptionStyleModel",
     "state": {
      "_model_module": "@jupyter-widgets/controls",
      "_model_module_version": "1.5.0",
      "_model_name": "DescriptionStyleModel",
      "_view_count": null,
      "_view_module": "@jupyter-widgets/base",
      "_view_module_version": "1.2.0",
      "_view_name": "StyleView",
      "description_width": ""
     }
    },
    "e7d75e2458384acca33229bd03ac0e76": {
     "model_module": "@jupyter-widgets/base",
     "model_name": "LayoutModel",
     "state": {
      "_model_module": "@jupyter-widgets/base",
      "_model_module_version": "1.2.0",
      "_model_name": "LayoutModel",
      "_view_count": null,
      "_view_module": "@jupyter-widgets/base",
      "_view_module_version": "1.2.0",
      "_view_name": "LayoutView",
      "align_content": null,
      "align_items": null,
      "align_self": null,
      "border": null,
      "bottom": null,
      "display": null,
      "flex": null,
      "flex_flow": null,
      "grid_area": null,
      "grid_auto_columns": null,
      "grid_auto_flow": null,
      "grid_auto_rows": null,
      "grid_column": null,
      "grid_gap": null,
      "grid_row": null,
      "grid_template_areas": null,
      "grid_template_columns": null,
      "grid_template_rows": null,
      "height": null,
      "justify_content": null,
      "justify_items": null,
      "left": null,
      "margin": null,
      "max_height": null,
      "max_width": null,
      "min_height": null,
      "min_width": null,
      "object_fit": null,
      "object_position": null,
      "order": null,
      "overflow": null,
      "overflow_x": null,
      "overflow_y": null,
      "padding": null,
      "right": null,
      "top": null,
      "visibility": null,
      "width": null
     }
    },
    "ef34d888e26249af87b0c6a0d1bc13ff": {
     "model_module": "@jupyter-widgets/base",
     "model_name": "LayoutModel",
     "state": {
      "_model_module": "@jupyter-widgets/base",
      "_model_module_version": "1.2.0",
      "_model_name": "LayoutModel",
      "_view_count": null,
      "_view_module": "@jupyter-widgets/base",
      "_view_module_version": "1.2.0",
      "_view_name": "LayoutView",
      "align_content": null,
      "align_items": null,
      "align_self": null,
      "border": null,
      "bottom": null,
      "display": null,
      "flex": null,
      "flex_flow": null,
      "grid_area": null,
      "grid_auto_columns": null,
      "grid_auto_flow": null,
      "grid_auto_rows": null,
      "grid_column": null,
      "grid_gap": null,
      "grid_row": null,
      "grid_template_areas": null,
      "grid_template_columns": null,
      "grid_template_rows": null,
      "height": null,
      "justify_content": null,
      "justify_items": null,
      "left": null,
      "margin": null,
      "max_height": null,
      "max_width": null,
      "min_height": null,
      "min_width": null,
      "object_fit": null,
      "object_position": null,
      "order": null,
      "overflow": null,
      "overflow_x": null,
      "overflow_y": null,
      "padding": null,
      "right": null,
      "top": null,
      "visibility": null,
      "width": null
     }
    },
    "f5ddb87eb4ac4d59b96bf999bdc652d8": {
     "model_module": "@jupyter-widgets/base",
     "model_name": "LayoutModel",
     "state": {
      "_model_module": "@jupyter-widgets/base",
      "_model_module_version": "1.2.0",
      "_model_name": "LayoutModel",
      "_view_count": null,
      "_view_module": "@jupyter-widgets/base",
      "_view_module_version": "1.2.0",
      "_view_name": "LayoutView",
      "align_content": null,
      "align_items": null,
      "align_self": null,
      "border": null,
      "bottom": null,
      "display": null,
      "flex": null,
      "flex_flow": null,
      "grid_area": null,
      "grid_auto_columns": null,
      "grid_auto_flow": null,
      "grid_auto_rows": null,
      "grid_column": null,
      "grid_gap": null,
      "grid_row": null,
      "grid_template_areas": null,
      "grid_template_columns": null,
      "grid_template_rows": null,
      "height": null,
      "justify_content": null,
      "justify_items": null,
      "left": null,
      "margin": null,
      "max_height": null,
      "max_width": null,
      "min_height": null,
      "min_width": null,
      "object_fit": null,
      "object_position": null,
      "order": null,
      "overflow": null,
      "overflow_x": null,
      "overflow_y": null,
      "padding": null,
      "right": null,
      "top": null,
      "visibility": null,
      "width": null
     }
    }
   }
  }
 },
 "nbformat": 4,
 "nbformat_minor": 1
}
